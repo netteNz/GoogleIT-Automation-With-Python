{
 "cells": [
  {
   "cell_type": "markdown",
   "id": "8739317e-ef9e-4e87-8ab0-d2448ff6bf38",
   "metadata": {},
   "source": [
    "# Final Project Introduction"
   ]
  },
  {
   "cell_type": "markdown",
   "id": "1e9ce1ae-9397-4c85-a19f-b1bcc43bdaea",
   "metadata": {},
   "source": [
    "## Event Class\n",
    "\n",
    "Contains the **date** when the event happened. the **name** of the machine where it happened, the **user** involved, and the event type.\n",
    "\n",
    "## Attributes:\n",
    "- Date\n",
    "- User\n",
    "- Machine\n",
    "- Type\n",
    "\n",
    "## Event Types are strings:\n",
    "- Login\n",
    "- Logout"
   ]
  },
  {
   "cell_type": "markdown",
   "id": "567bc752-3c10-473e-8dbc-b4042e4050e8",
   "metadata": {},
   "source": [
    "We want to generate a report of all the machine names and for each machine lists of the users that are currently logged in. Then print Info on the screen.\n",
    "\n",
    "### Option 1:\n",
    "- Print the name of the machine at the beginning of the line\n",
    "- Then list the current users on seperate lines and indent it to the right\n",
    "\n",
    "### Option 2:\n",
    "- Print machine name followed by a colon\n",
    "- Then the user names by commas all in the same line"
   ]
  },
  {
   "cell_type": "code",
   "execution_count": 7,
   "id": "31701c06-209e-4610-a51b-db9f1dea09ae",
   "metadata": {},
   "outputs": [
    {
     "name": "stdout",
     "output_type": "stream",
     "text": [
      "[4, 6, 2, 7, 1]\n"
     ]
    }
   ],
   "source": [
    "numbers = [4, 6, 2, 7, 1]\n",
    "\n",
    "sorted(numbers)\n",
    "print(numbers)"
   ]
  },
  {
   "cell_type": "markdown",
   "id": "6cab7f44-5d55-487f-a3ce-a0f24e82f9e6",
   "metadata": {},
   "source": [
    "### First Method\n",
    "- machine_users = []\n",
    "- event processing login add to list, logout remove from list\n",
    "- using a set/dictionary\n",
    "- use the name of the machine as key\n",
    "- current users of the machine as the values\n",
    "\n",
    "### Second Method\n",
    "- process the data and to print the data onto the screen"
   ]
  },
  {
   "cell_type": "code",
   "execution_count": null,
   "id": "b47145f5-f2c6-4674-a9b3-9b0ee71ada1f",
   "metadata": {},
   "outputs": [],
   "source": []
  }
 ],
 "metadata": {
  "kernelspec": {
   "display_name": "Python 3 (ipykernel)",
   "language": "python",
   "name": "python3"
  },
  "language_info": {
   "codemirror_mode": {
    "name": "ipython",
    "version": 3
   },
   "file_extension": ".py",
   "mimetype": "text/x-python",
   "name": "python",
   "nbconvert_exporter": "python",
   "pygments_lexer": "ipython3",
   "version": "3.10.4"
  }
 },
 "nbformat": 4,
 "nbformat_minor": 5
}
