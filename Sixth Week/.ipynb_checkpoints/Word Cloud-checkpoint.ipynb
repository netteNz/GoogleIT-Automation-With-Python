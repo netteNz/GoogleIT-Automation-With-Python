{
 "cells": [
  {
   "cell_type": "markdown",
   "id": "bc4132cc-7de7-4e01-b70e-03c270fc9fa0",
   "metadata": {},
   "source": [
    "# Final Project - Word Cloud"
   ]
  },
  {
   "cell_type": "markdown",
   "id": "efa7dd39-da4e-4631-81f3-1dd307d2cd0b",
   "metadata": {},
   "source": [
    "For this project, you'll create a \"word cloud\" from a text by writing a script.  This script needs to process the text, remove punctuation, ignore case and words that do not contain all alphabets, count the frequencies, and ignore uninteresting or irrelevant words.  A dictionary is the output of the `calculate_frequencies` function.  The `wordcloud` module will then generate the image from your dictionary.\n",
    "\n",
    "For the input text of your script, you will need to provide a file that contains text only.  For the text itself, you can copy and paste the contents of a website you like.  Or you can use a site like [Project Gutenberg](https://www.gutenberg.org/) to find books that are available online.  You could see what word clouds you can get from famous books, like a Shakespeare play or a novel by Jane Austen. Save this as a .txt file somewhere on your computer.\n",
    "<br><br>\n",
    "Now you will need to upload your input file here so that your script will be able to process it.  To do the upload, you will need an uploader widget.  Run the following cell to perform all the installs and imports for your word cloud script and uploader widget.  It may take a minute for all of this to run and there will be a lot of output messages. But, be patient. Once you get the following final line of output, the code is done executing. Then you can continue on with the rest of the instructions for this notebook.\n",
    "<br><br>\n",
    "**Enabling notebook extension fileupload/extension...**\n",
    "<br>\n",
    "**- Validating: <font color =green>OK</font>**"
   ]
  },
  {
   "cell_type": "code",
   "execution_count": 9,
   "id": "ae365a3e-c547-4cac-b85c-e3f81395beb7",
   "metadata": {},
   "outputs": [
    {
     "name": "stderr",
     "output_type": "stream",
     "text": [
      "Enabling notebook extension fileupload/extension...\n",
      "      - Validating: ok\n"
     ]
    }
   ],
   "source": [
    "!jupyter nbextension enable --py fileupload"
   ]
  },
  {
   "cell_type": "code",
   "execution_count": 11,
   "id": "cf839e87-8b1d-4382-9235-fb8c001e9c3f",
   "metadata": {},
   "outputs": [],
   "source": [
    "import wordcloud\n",
    "import numpy as np\n",
    "from matplotlib import pyplot as plt\n",
    "from IPython.display import display\n",
    "import fileupload\n",
    "import io\n",
    "import sys"
   ]
  },
  {
   "cell_type": "markdown",
   "id": "f97115ce-1c87-4cc6-9dd8-f0c9d0333ede",
   "metadata": {},
   "source": [
    "Whew! That was a lot. All of the installs and imports for your word cloud script and uploader widget have been completed.\n",
    "\n",
    "IMPORTANT! If this was your first time running the above cell containing the installs and imports, you will need save this notebook now. Then under the File menu above, select Close and Halt. When the notebook has completely shut down, reopen it. This is the only way the necessary changes will take affect.\n",
    "\n",
    "To upload your text file, run the following cell that contains all the code for a custom uploader widget. Once you run this cell, a \"Browse\" button should appear below it. Click this button and navigate the window to locate your saved text file."
   ]
  },
  {
   "cell_type": "code",
   "execution_count": 12,
   "id": "121453c2-5d80-4a75-97ba-a1173ab74eff",
   "metadata": {},
   "outputs": [
    {
     "data": {
      "application/vnd.jupyter.widget-view+json": {
       "model_id": "69de3d2aa5bd4b3c8441f79471f4cb1d",
       "version_major": 2,
       "version_minor": 0
      },
      "text/plain": [
       "FileUploadWidget(label='Browse', _dom_classes=('widget_item', 'btn-group'))"
      ]
     },
     "metadata": {},
     "output_type": "display_data"
    }
   ],
   "source": [
    "# This is the uploader widget\n",
    "\n",
    "def _upload():\n",
    "\n",
    "    _upload_widget = fileupload.FileUploadWidget()\n",
    "\n",
    "    def _cb(change):\n",
    "        global file_contents\n",
    "        decoded = io.StringIO(change['owner'].data.decode('utf-8'))\n",
    "        filename = change['owner'].filename\n",
    "        print('Uploaded `{}` ({:.2f} kB)'.format(\n",
    "            filename, len(decoded.read()) / 2 **10))\n",
    "        file_contents = decoded.getvalue()\n",
    "\n",
    "    _upload_widget.observe(_cb, names='data')\n",
    "    display(_upload_widget)\n",
    "\n",
    "_upload()"
   ]
  },
  {
   "cell_type": "code",
   "execution_count": null,
   "id": "8b945b20-1d65-4e29-8c6c-689f8310b718",
   "metadata": {},
   "outputs": [],
   "source": [
    "def calculate_frequencies(file_contents):\n",
    "    # Here is a list of punctuations and uninteresting words you can use to process your text\n",
    "    punctuations = '''!()-[]{};:'\"\\,<>./?@#$%^&*_~'''\n",
    "    uninteresting_words = [\"the\", \"a\", \"to\", \"if\", \"is\", \"it\", \"of\", \"and\", \"or\", \"an\", \"as\", \"i\", \"me\", \"my\", \\\n",
    "    \"we\", \"our\", \"ours\", \"you\", \"your\", \"yours\", \"he\", \"she\", \"him\", \"his\", \"her\", \"hers\", \"its\", \"they\", \"them\", \\\n",
    "    \"their\", \"what\", \"which\", \"who\", \"whom\", \"this\", \"that\", \"am\", \"are\", \"was\", \"were\", \"be\", \"been\", \"being\", \\\n",
    "    \"have\", \"has\", \"had\", \"do\", \"does\", \"did\", \"but\", \"at\", \"by\", \"with\", \"from\", \"here\", \"when\", \"where\", \"how\", \\\n",
    "    \"all\", \"any\", \"both\", \"each\", \"few\", \"more\", \"some\", \"such\", \"no\", \"nor\", \"too\", \"very\", \"can\", \"will\", \"just\"]\n",
    "    \n",
    "    # LEARNER CODE START HERE\n",
    "    d = {}\n",
    "    f = file_contents.split()\n",
    "    for word in f:\n",
    "        if word not in uninteresting_words:\n",
    "            for letter in word:\n",
    "                if letter in punctuations:\n",
    "                    letter.replace(punctuations, \"\")\n",
    "                if word not in d.keys():\n",
    "                    d[word] = 0\n",
    "                else:\n",
    "                    d[word] += 1\n",
    "    \n",
    "    #wordcloud\n",
    "    cloud = wordcloud.WordCloud()\n",
    "    cloud.generate_from_frequencies(d)\n",
    "    return cloud.to_array()"
   ]
  },
  {
   "cell_type": "code",
   "execution_count": null,
   "id": "d2f70b18-f503-4419-8f2b-3cf3ead06fc9",
   "metadata": {},
   "outputs": [],
   "source": [
    "myimage = calculate_frequencies(file_contents)\n",
    "plt.imshow(myimage, interpolation = 'nearest')\n",
    "plt.axis('off')\n",
    "plt.show()"
   ]
  },
  {
   "cell_type": "code",
   "execution_count": null,
   "id": "db00ca56-ee41-49b2-9a07-6f2551ba83f7",
   "metadata": {},
   "outputs": [],
   "source": []
  }
 ],
 "metadata": {
  "kernelspec": {
   "display_name": "Python 3 (ipykernel)",
   "language": "python",
   "name": "python3"
  },
  "language_info": {
   "codemirror_mode": {
    "name": "ipython",
    "version": 3
   },
   "file_extension": ".py",
   "mimetype": "text/x-python",
   "name": "python",
   "nbconvert_exporter": "python",
   "pygments_lexer": "ipython3",
   "version": "3.10.4"
  },
  "widgets": {
   "application/vnd.jupyter.widget-state+json": {
    "state": {
     "156dd34875f54d928a44d91f8707119b": {
      "model_module": "@jupyter-widgets/base",
      "model_module_version": "1.2.0",
      "model_name": "DOMWidgetModel",
      "state": {
       "_dom_classes": [
        "widget_item",
        "btn-group"
       ],
       "_model_name": "DOMWidgetModel",
       "_view_module": "fileupload",
       "_view_module_version": "",
       "_view_name": "FileUploadView",
       "data_base64": "",
       "filename": "",
       "label": "Browse",
       "layout": "IPY_MODEL_3e398be10973494da33d739fac2df774"
      }
     },
     "16080fcd08ce488793c100dee80bd5c3": {
      "model_module": "@jupyter-widgets/base",
      "model_module_version": "1.2.0",
      "model_name": "DOMWidgetModel",
      "state": {
       "_dom_classes": [
        "widget_item",
        "btn-group"
       ],
       "_model_name": "DOMWidgetModel",
       "_view_module": "fileupload",
       "_view_module_version": "",
       "_view_name": "FileUploadView",
       "data_base64": "",
       "filename": "",
       "label": "Browse",
       "layout": "IPY_MODEL_ed45aafd3663441fa009a9615779aca9"
      }
     },
     "2305d19b4e134937919eaa2419ff705c": {
      "model_module": "@jupyter-widgets/base",
      "model_module_version": "1.2.0",
      "model_name": "LayoutModel",
      "state": {}
     },
     "32561212f3e440c0afbd9ad1784003f2": {
      "model_module": "@jupyter-widgets/base",
      "model_module_version": "1.2.0",
      "model_name": "DOMWidgetModel",
      "state": {
       "_dom_classes": [
        "widget_item",
        "btn-group"
       ],
       "_model_name": "DOMWidgetModel",
       "_view_module": "fileupload",
       "_view_module_version": "",
       "_view_name": "FileUploadView",
       "data_base64": "",
       "filename": "",
       "label": "Browse",
       "layout": "IPY_MODEL_2305d19b4e134937919eaa2419ff705c"
      }
     },
     "3e398be10973494da33d739fac2df774": {
      "model_module": "@jupyter-widgets/base",
      "model_module_version": "1.2.0",
      "model_name": "LayoutModel",
      "state": {}
     },
     "56be123bedab495ab40ace8fa277a4d3": {
      "model_module": "@jupyter-widgets/base",
      "model_module_version": "1.2.0",
      "model_name": "DOMWidgetModel",
      "state": {
       "_dom_classes": [
        "widget_item",
        "btn-group"
       ],
       "_model_name": "DOMWidgetModel",
       "_view_module": "fileupload",
       "_view_module_version": "",
       "_view_name": "FileUploadView",
       "data_base64": "",
       "filename": "",
       "label": "Browse",
       "layout": "IPY_MODEL_b6e43fe43839479aa97a9575d10bad80"
      }
     },
     "5f2cdfe19e0840ab9c9aaff8a61501db": {
      "model_module": "@jupyter-widgets/base",
      "model_module_version": "1.2.0",
      "model_name": "LayoutModel",
      "state": {}
     },
     "69de3d2aa5bd4b3c8441f79471f4cb1d": {
      "model_module": "@jupyter-widgets/base",
      "model_module_version": "1.2.0",
      "model_name": "DOMWidgetModel",
      "state": {
       "_dom_classes": [
        "widget_item",
        "btn-group"
       ],
       "_model_name": "DOMWidgetModel",
       "_view_module": "fileupload",
       "_view_module_version": "",
       "_view_name": "FileUploadView",
       "data_base64": "",
       "filename": "",
       "label": "Browse",
       "layout": "IPY_MODEL_5f2cdfe19e0840ab9c9aaff8a61501db"
      }
     },
     "b6e43fe43839479aa97a9575d10bad80": {
      "model_module": "@jupyter-widgets/base",
      "model_module_version": "1.2.0",
      "model_name": "LayoutModel",
      "state": {}
     },
     "ed45aafd3663441fa009a9615779aca9": {
      "model_module": "@jupyter-widgets/base",
      "model_module_version": "1.2.0",
      "model_name": "LayoutModel",
      "state": {}
     }
    },
    "version_major": 2,
    "version_minor": 0
   }
  }
 },
 "nbformat": 4,
 "nbformat_minor": 5
}
