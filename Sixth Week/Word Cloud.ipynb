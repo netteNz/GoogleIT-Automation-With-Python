{
 "cells": [
  {
   "cell_type": "markdown",
   "id": "bc4132cc-7de7-4e01-b70e-03c270fc9fa0",
   "metadata": {},
   "source": [
    "# Final Project - Word Cloud"
   ]
  },
  {
   "cell_type": "markdown",
   "id": "efa7dd39-da4e-4631-81f3-1dd307d2cd0b",
   "metadata": {},
   "source": [
    "For this project, you'll create a \"word cloud\" from a text by writing a script.  This script needs to process the text, remove punctuation, ignore case and words that do not contain all alphabets, count the frequencies, and ignore uninteresting or irrelevant words.  A dictionary is the output of the `calculate_frequencies` function.  The `wordcloud` module will then generate the image from your dictionary.\n",
    "\n",
    "For the input text of your script, you will need to provide a file that contains text only.  For the text itself, you can copy and paste the contents of a website you like.  Or you can use a site like [Project Gutenberg](https://www.gutenberg.org/) to find books that are available online.  You could see what word clouds you can get from famous books, like a Shakespeare play or a novel by Jane Austen. Save this as a .txt file somewhere on your computer.\n",
    "<br><br>\n",
    "Now you will need to upload your input file here so that your script will be able to process it.  To do the upload, you will need an uploader widget.  Run the following cell to perform all the installs and imports for your word cloud script and uploader widget.  It may take a minute for all of this to run and there will be a lot of output messages. But, be patient. Once you get the following final line of output, the code is done executing. Then you can continue on with the rest of the instructions for this notebook.\n",
    "<br><br>\n",
    "**Enabling notebook extension fileupload/extension...**\n",
    "<br>\n",
    "**- Validating: <font color =green>OK</font>**"
   ]
  },
  {
   "cell_type": "code",
   "execution_count": 1,
   "id": "cf839e87-8b1d-4382-9235-fb8c001e9c3f",
   "metadata": {},
   "outputs": [
    {
     "name": "stdout",
     "output_type": "stream",
     "text": [
      "Requirement already satisfied: wordcloud in c:\\users\\nette\\appdata\\local\\programs\\python\\python310\\lib\\site-packages (1.8.2.2)\n",
      "Requirement already satisfied: matplotlib in c:\\users\\nette\\appdata\\local\\programs\\python\\python310\\lib\\site-packages (from wordcloud) (3.5.2)\n",
      "Requirement already satisfied: numpy>=1.6.1 in c:\\users\\nette\\appdata\\local\\programs\\python\\python310\\lib\\site-packages (from wordcloud) (1.22.3)\n",
      "Requirement already satisfied: pillow in c:\\users\\nette\\appdata\\local\\programs\\python\\python310\\lib\\site-packages (from wordcloud) (9.1.1)\n",
      "Requirement already satisfied: kiwisolver>=1.0.1 in c:\\users\\nette\\appdata\\local\\programs\\python\\python310\\lib\\site-packages (from matplotlib->wordcloud) (1.4.4)\n",
      "Requirement already satisfied: fonttools>=4.22.0 in c:\\users\\nette\\appdata\\local\\programs\\python\\python310\\lib\\site-packages (from matplotlib->wordcloud) (4.34.4)\n",
      "Requirement already satisfied: python-dateutil>=2.7 in c:\\users\\nette\\appdata\\local\\programs\\python\\python310\\lib\\site-packages (from matplotlib->wordcloud) (2.8.2)\n",
      "Requirement already satisfied: cycler>=0.10 in c:\\users\\nette\\appdata\\local\\programs\\python\\python310\\lib\\site-packages (from matplotlib->wordcloud) (0.11.0)\n",
      "Requirement already satisfied: packaging>=20.0 in c:\\users\\nette\\appdata\\local\\programs\\python\\python310\\lib\\site-packages (from matplotlib->wordcloud) (21.3)\n",
      "Requirement already satisfied: pyparsing>=2.2.1 in c:\\users\\nette\\appdata\\local\\programs\\python\\python310\\lib\\site-packages (from matplotlib->wordcloud) (3.0.9)\n",
      "Requirement already satisfied: six>=1.5 in c:\\users\\nette\\appdata\\local\\programs\\python\\python310\\lib\\site-packages (from python-dateutil>=2.7->matplotlib->wordcloud) (1.16.0)\n",
      "Requirement already satisfied: fileupload in c:\\users\\nette\\appdata\\local\\programs\\python\\python310\\lib\\site-packages (0.1.5)\n",
      "Requirement already satisfied: notebook>=4.2 in c:\\users\\nette\\appdata\\local\\programs\\python\\python310\\lib\\site-packages (from fileupload) (6.4.12)\n",
      "Requirement already satisfied: ipywidgets>=5.1 in c:\\users\\nette\\appdata\\local\\programs\\python\\python310\\lib\\site-packages (from fileupload) (7.7.1)\n",
      "Requirement already satisfied: traitlets>=4.2 in c:\\users\\nette\\appdata\\local\\programs\\python\\python310\\lib\\site-packages (from fileupload) (5.3.0)\n",
      "Requirement already satisfied: ipykernel>=4.5.1 in c:\\users\\nette\\appdata\\local\\programs\\python\\python310\\lib\\site-packages (from ipywidgets>=5.1->fileupload) (6.15.1)\n",
      "Requirement already satisfied: jupyterlab-widgets>=1.0.0 in c:\\users\\nette\\appdata\\local\\programs\\python\\python310\\lib\\site-packages (from ipywidgets>=5.1->fileupload) (1.1.1)\n",
      "Requirement already satisfied: ipython>=4.0.0 in c:\\users\\nette\\appdata\\local\\programs\\python\\python310\\lib\\site-packages (from ipywidgets>=5.1->fileupload) (8.4.0)\n",
      "Requirement already satisfied: ipython-genutils~=0.2.0 in c:\\users\\nette\\appdata\\local\\programs\\python\\python310\\lib\\site-packages (from ipywidgets>=5.1->fileupload) (0.2.0)\n",
      "Requirement already satisfied: widgetsnbextension~=3.6.0 in c:\\users\\nette\\appdata\\local\\programs\\python\\python310\\lib\\site-packages (from ipywidgets>=5.1->fileupload) (3.6.1)\n",
      "Requirement already satisfied: jupyter-client>=5.3.4 in c:\\users\\nette\\appdata\\local\\programs\\python\\python310\\lib\\site-packages (from notebook>=4.2->fileupload) (7.3.4)\n",
      "Requirement already satisfied: prometheus-client in c:\\users\\nette\\appdata\\local\\programs\\python\\python310\\lib\\site-packages (from notebook>=4.2->fileupload) (0.14.1)\n",
      "Requirement already satisfied: nbformat in c:\\users\\nette\\appdata\\local\\programs\\python\\python310\\lib\\site-packages (from notebook>=4.2->fileupload) (5.4.0)\n",
      "Requirement already satisfied: nbconvert>=5 in c:\\users\\nette\\appdata\\local\\programs\\python\\python310\\lib\\site-packages (from notebook>=4.2->fileupload) (6.5.0)\n",
      "Requirement already satisfied: Send2Trash>=1.8.0 in c:\\users\\nette\\appdata\\local\\programs\\python\\python310\\lib\\site-packages (from notebook>=4.2->fileupload) (1.8.0)\n",
      "Requirement already satisfied: jinja2 in c:\\users\\nette\\appdata\\local\\programs\\python\\python310\\lib\\site-packages (from notebook>=4.2->fileupload) (3.1.2)\n",
      "Requirement already satisfied: argon2-cffi in c:\\users\\nette\\appdata\\local\\programs\\python\\python310\\lib\\site-packages (from notebook>=4.2->fileupload) (21.3.0)\n",
      "Requirement already satisfied: pyzmq>=17 in c:\\users\\nette\\appdata\\local\\programs\\python\\python310\\lib\\site-packages (from notebook>=4.2->fileupload) (23.2.0)\n",
      "Requirement already satisfied: jupyter-core>=4.6.1 in c:\\users\\nette\\appdata\\local\\programs\\python\\python310\\lib\\site-packages (from notebook>=4.2->fileupload) (4.11.1)\n",
      "Requirement already satisfied: terminado>=0.8.3 in c:\\users\\nette\\appdata\\local\\programs\\python\\python310\\lib\\site-packages (from notebook>=4.2->fileupload) (0.15.0)\n",
      "Requirement already satisfied: tornado>=6.1 in c:\\users\\nette\\appdata\\local\\programs\\python\\python310\\lib\\site-packages (from notebook>=4.2->fileupload) (6.2)\n",
      "Requirement already satisfied: nest-asyncio>=1.5 in c:\\users\\nette\\appdata\\local\\programs\\python\\python310\\lib\\site-packages (from notebook>=4.2->fileupload) (1.5.5)\n",
      "Requirement already satisfied: psutil in c:\\users\\nette\\appdata\\local\\programs\\python\\python310\\lib\\site-packages (from ipykernel>=4.5.1->ipywidgets>=5.1->fileupload) (5.9.1)\n",
      "Requirement already satisfied: debugpy>=1.0 in c:\\users\\nette\\appdata\\local\\programs\\python\\python310\\lib\\site-packages (from ipykernel>=4.5.1->ipywidgets>=5.1->fileupload) (1.6.2)\n",
      "Requirement already satisfied: matplotlib-inline>=0.1 in c:\\users\\nette\\appdata\\local\\programs\\python\\python310\\lib\\site-packages (from ipykernel>=4.5.1->ipywidgets>=5.1->fileupload) (0.1.3)\n",
      "Requirement already satisfied: packaging in c:\\users\\nette\\appdata\\local\\programs\\python\\python310\\lib\\site-packages (from ipykernel>=4.5.1->ipywidgets>=5.1->fileupload) (21.3)\n",
      "Requirement already satisfied: decorator in c:\\users\\nette\\appdata\\local\\programs\\python\\python310\\lib\\site-packages (from ipython>=4.0.0->ipywidgets>=5.1->fileupload) (4.4.2)\n",
      "Requirement already satisfied: prompt-toolkit!=3.0.0,!=3.0.1,<3.1.0,>=2.0.0 in c:\\users\\nette\\appdata\\local\\programs\\python\\python310\\lib\\site-packages (from ipython>=4.0.0->ipywidgets>=5.1->fileupload) (3.0.30)\n",
      "Requirement already satisfied: jedi>=0.16 in c:\\users\\nette\\appdata\\local\\programs\\python\\python310\\lib\\site-packages (from ipython>=4.0.0->ipywidgets>=5.1->fileupload) (0.18.1)\n",
      "Requirement already satisfied: stack-data in c:\\users\\nette\\appdata\\local\\programs\\python\\python310\\lib\\site-packages (from ipython>=4.0.0->ipywidgets>=5.1->fileupload) (0.3.0)\n",
      "Requirement already satisfied: colorama in c:\\users\\nette\\appdata\\local\\programs\\python\\python310\\lib\\site-packages (from ipython>=4.0.0->ipywidgets>=5.1->fileupload) (0.4.4)\n",
      "Requirement already satisfied: backcall in c:\\users\\nette\\appdata\\local\\programs\\python\\python310\\lib\\site-packages (from ipython>=4.0.0->ipywidgets>=5.1->fileupload) (0.2.0)\n",
      "Requirement already satisfied: pygments>=2.4.0 in c:\\users\\nette\\appdata\\local\\programs\\python\\python310\\lib\\site-packages (from ipython>=4.0.0->ipywidgets>=5.1->fileupload) (2.12.0)\n",
      "Requirement already satisfied: pickleshare in c:\\users\\nette\\appdata\\local\\programs\\python\\python310\\lib\\site-packages (from ipython>=4.0.0->ipywidgets>=5.1->fileupload) (0.7.5)\n",
      "Requirement already satisfied: setuptools>=18.5 in c:\\users\\nette\\appdata\\local\\programs\\python\\python310\\lib\\site-packages (from ipython>=4.0.0->ipywidgets>=5.1->fileupload) (58.1.0)\n",
      "Requirement already satisfied: entrypoints in c:\\users\\nette\\appdata\\local\\programs\\python\\python310\\lib\\site-packages (from jupyter-client>=5.3.4->notebook>=4.2->fileupload) (0.4)\n",
      "Requirement already satisfied: python-dateutil>=2.8.2 in c:\\users\\nette\\appdata\\local\\programs\\python\\python310\\lib\\site-packages (from jupyter-client>=5.3.4->notebook>=4.2->fileupload) (2.8.2)\n",
      "Requirement already satisfied: pywin32>=1.0 in c:\\users\\nette\\appdata\\local\\programs\\python\\python310\\lib\\site-packages (from jupyter-core>=4.6.1->notebook>=4.2->fileupload) (304)\n",
      "Requirement already satisfied: beautifulsoup4 in c:\\users\\nette\\appdata\\local\\programs\\python\\python310\\lib\\site-packages (from nbconvert>=5->notebook>=4.2->fileupload) (4.11.1)\n",
      "Requirement already satisfied: defusedxml in c:\\users\\nette\\appdata\\local\\programs\\python\\python310\\lib\\site-packages (from nbconvert>=5->notebook>=4.2->fileupload) (0.7.1)\n",
      "Requirement already satisfied: pandocfilters>=1.4.1 in c:\\users\\nette\\appdata\\local\\programs\\python\\python310\\lib\\site-packages (from nbconvert>=5->notebook>=4.2->fileupload) (1.5.0)\n",
      "Requirement already satisfied: MarkupSafe>=2.0 in c:\\users\\nette\\appdata\\local\\programs\\python\\python310\\lib\\site-packages (from nbconvert>=5->notebook>=4.2->fileupload) (2.1.1)\n",
      "Requirement already satisfied: tinycss2 in c:\\users\\nette\\appdata\\local\\programs\\python\\python310\\lib\\site-packages (from nbconvert>=5->notebook>=4.2->fileupload) (1.1.1)\n",
      "Requirement already satisfied: bleach in c:\\users\\nette\\appdata\\local\\programs\\python\\python310\\lib\\site-packages (from nbconvert>=5->notebook>=4.2->fileupload) (5.0.1)\n",
      "Requirement already satisfied: mistune<2,>=0.8.1 in c:\\users\\nette\\appdata\\local\\programs\\python\\python310\\lib\\site-packages (from nbconvert>=5->notebook>=4.2->fileupload) (0.8.4)\n",
      "Requirement already satisfied: nbclient>=0.5.0 in c:\\users\\nette\\appdata\\local\\programs\\python\\python310\\lib\\site-packages (from nbconvert>=5->notebook>=4.2->fileupload) (0.5.13)\n",
      "Requirement already satisfied: jupyterlab-pygments in c:\\users\\nette\\appdata\\local\\programs\\python\\python310\\lib\\site-packages (from nbconvert>=5->notebook>=4.2->fileupload) (0.2.2)\n",
      "Requirement already satisfied: fastjsonschema in c:\\users\\nette\\appdata\\local\\programs\\python\\python310\\lib\\site-packages (from nbformat->notebook>=4.2->fileupload) (2.15.3)\n",
      "Requirement already satisfied: jsonschema>=2.6 in c:\\users\\nette\\appdata\\local\\programs\\python\\python310\\lib\\site-packages (from nbformat->notebook>=4.2->fileupload) (4.7.2)\n",
      "Requirement already satisfied: pywinpty>=1.1.0 in c:\\users\\nette\\appdata\\local\\programs\\python\\python310\\lib\\site-packages (from terminado>=0.8.3->notebook>=4.2->fileupload) (2.0.6)\n",
      "Requirement already satisfied: argon2-cffi-bindings in c:\\users\\nette\\appdata\\local\\programs\\python\\python310\\lib\\site-packages (from argon2-cffi->notebook>=4.2->fileupload) (21.2.0)\n",
      "Requirement already satisfied: parso<0.9.0,>=0.8.0 in c:\\users\\nette\\appdata\\local\\programs\\python\\python310\\lib\\site-packages (from jedi>=0.16->ipython>=4.0.0->ipywidgets>=5.1->fileupload) (0.8.3)\n",
      "Requirement already satisfied: attrs>=17.4.0 in c:\\users\\nette\\appdata\\local\\programs\\python\\python310\\lib\\site-packages (from jsonschema>=2.6->nbformat->notebook>=4.2->fileupload) (21.4.0)\n",
      "Requirement already satisfied: pyrsistent!=0.17.0,!=0.17.1,!=0.17.2,>=0.14.0 in c:\\users\\nette\\appdata\\local\\programs\\python\\python310\\lib\\site-packages (from jsonschema>=2.6->nbformat->notebook>=4.2->fileupload) (0.18.1)\n",
      "Requirement already satisfied: wcwidth in c:\\users\\nette\\appdata\\local\\programs\\python\\python310\\lib\\site-packages (from prompt-toolkit!=3.0.0,!=3.0.1,<3.1.0,>=2.0.0->ipython>=4.0.0->ipywidgets>=5.1->fileupload) (0.2.5)\n",
      "Requirement already satisfied: six>=1.5 in c:\\users\\nette\\appdata\\local\\programs\\python\\python310\\lib\\site-packages (from python-dateutil>=2.8.2->jupyter-client>=5.3.4->notebook>=4.2->fileupload) (1.16.0)\n",
      "Requirement already satisfied: cffi>=1.0.1 in c:\\users\\nette\\appdata\\local\\programs\\python\\python310\\lib\\site-packages (from argon2-cffi-bindings->argon2-cffi->notebook>=4.2->fileupload) (1.15.0)\n",
      "Requirement already satisfied: soupsieve>1.2 in c:\\users\\nette\\appdata\\local\\programs\\python\\python310\\lib\\site-packages (from beautifulsoup4->nbconvert>=5->notebook>=4.2->fileupload) (2.3.2.post1)\n",
      "Requirement already satisfied: webencodings in c:\\users\\nette\\appdata\\local\\programs\\python\\python310\\lib\\site-packages (from bleach->nbconvert>=5->notebook>=4.2->fileupload) (0.5.1)\n",
      "Requirement already satisfied: pyparsing!=3.0.5,>=2.0.2 in c:\\users\\nette\\appdata\\local\\programs\\python\\python310\\lib\\site-packages (from packaging->ipykernel>=4.5.1->ipywidgets>=5.1->fileupload) (3.0.9)\n",
      "Requirement already satisfied: executing in c:\\users\\nette\\appdata\\local\\programs\\python\\python310\\lib\\site-packages (from stack-data->ipython>=4.0.0->ipywidgets>=5.1->fileupload) (0.8.3)\n",
      "Requirement already satisfied: asttokens in c:\\users\\nette\\appdata\\local\\programs\\python\\python310\\lib\\site-packages (from stack-data->ipython>=4.0.0->ipywidgets>=5.1->fileupload) (2.0.5)\n",
      "Requirement already satisfied: pure-eval in c:\\users\\nette\\appdata\\local\\programs\\python\\python310\\lib\\site-packages (from stack-data->ipython>=4.0.0->ipywidgets>=5.1->fileupload) (0.2.2)\n",
      "Requirement already satisfied: pycparser in c:\\users\\nette\\appdata\\local\\programs\\python\\python310\\lib\\site-packages (from cffi>=1.0.1->argon2-cffi-bindings->argon2-cffi->notebook>=4.2->fileupload) (2.21)\n",
      "Requirement already satisfied: ipywidgets in c:\\users\\nette\\appdata\\local\\programs\\python\\python310\\lib\\site-packages (7.7.1)\n",
      "Requirement already satisfied: traitlets>=4.3.1 in c:\\users\\nette\\appdata\\local\\programs\\python\\python310\\lib\\site-packages (from ipywidgets) (5.3.0)\n",
      "Requirement already satisfied: ipython-genutils~=0.2.0 in c:\\users\\nette\\appdata\\local\\programs\\python\\python310\\lib\\site-packages (from ipywidgets) (0.2.0)\n",
      "Requirement already satisfied: jupyterlab-widgets>=1.0.0 in c:\\users\\nette\\appdata\\local\\programs\\python\\python310\\lib\\site-packages (from ipywidgets) (1.1.1)\n",
      "Requirement already satisfied: widgetsnbextension~=3.6.0 in c:\\users\\nette\\appdata\\local\\programs\\python\\python310\\lib\\site-packages (from ipywidgets) (3.6.1)\n",
      "Requirement already satisfied: ipython>=4.0.0 in c:\\users\\nette\\appdata\\local\\programs\\python\\python310\\lib\\site-packages (from ipywidgets) (8.4.0)\n",
      "Requirement already satisfied: ipykernel>=4.5.1 in c:\\users\\nette\\appdata\\local\\programs\\python\\python310\\lib\\site-packages (from ipywidgets) (6.15.1)\n",
      "Requirement already satisfied: psutil in c:\\users\\nette\\appdata\\local\\programs\\python\\python310\\lib\\site-packages (from ipykernel>=4.5.1->ipywidgets) (5.9.1)\n",
      "Requirement already satisfied: pyzmq>=17 in c:\\users\\nette\\appdata\\local\\programs\\python\\python310\\lib\\site-packages (from ipykernel>=4.5.1->ipywidgets) (23.2.0)\n",
      "Requirement already satisfied: nest-asyncio in c:\\users\\nette\\appdata\\local\\programs\\python\\python310\\lib\\site-packages (from ipykernel>=4.5.1->ipywidgets) (1.5.5)\n",
      "Requirement already satisfied: packaging in c:\\users\\nette\\appdata\\local\\programs\\python\\python310\\lib\\site-packages (from ipykernel>=4.5.1->ipywidgets) (21.3)\n",
      "Requirement already satisfied: jupyter-client>=6.1.12 in c:\\users\\nette\\appdata\\local\\programs\\python\\python310\\lib\\site-packages (from ipykernel>=4.5.1->ipywidgets) (7.3.4)\n",
      "Requirement already satisfied: matplotlib-inline>=0.1 in c:\\users\\nette\\appdata\\local\\programs\\python\\python310\\lib\\site-packages (from ipykernel>=4.5.1->ipywidgets) (0.1.3)\n",
      "Requirement already satisfied: debugpy>=1.0 in c:\\users\\nette\\appdata\\local\\programs\\python\\python310\\lib\\site-packages (from ipykernel>=4.5.1->ipywidgets) (1.6.2)\n",
      "Requirement already satisfied: tornado>=6.1 in c:\\users\\nette\\appdata\\local\\programs\\python\\python310\\lib\\site-packages (from ipykernel>=4.5.1->ipywidgets) (6.2)\n",
      "Requirement already satisfied: setuptools>=18.5 in c:\\users\\nette\\appdata\\local\\programs\\python\\python310\\lib\\site-packages (from ipython>=4.0.0->ipywidgets) (58.1.0)\n",
      "Requirement already satisfied: backcall in c:\\users\\nette\\appdata\\local\\programs\\python\\python310\\lib\\site-packages (from ipython>=4.0.0->ipywidgets) (0.2.0)\n",
      "Requirement already satisfied: pygments>=2.4.0 in c:\\users\\nette\\appdata\\local\\programs\\python\\python310\\lib\\site-packages (from ipython>=4.0.0->ipywidgets) (2.12.0)\n",
      "Requirement already satisfied: decorator in c:\\users\\nette\\appdata\\local\\programs\\python\\python310\\lib\\site-packages (from ipython>=4.0.0->ipywidgets) (4.4.2)\n",
      "Requirement already satisfied: pickleshare in c:\\users\\nette\\appdata\\local\\programs\\python\\python310\\lib\\site-packages (from ipython>=4.0.0->ipywidgets) (0.7.5)\n",
      "Requirement already satisfied: stack-data in c:\\users\\nette\\appdata\\local\\programs\\python\\python310\\lib\\site-packages (from ipython>=4.0.0->ipywidgets) (0.3.0)\n",
      "Requirement already satisfied: jedi>=0.16 in c:\\users\\nette\\appdata\\local\\programs\\python\\python310\\lib\\site-packages (from ipython>=4.0.0->ipywidgets) (0.18.1)\n",
      "Requirement already satisfied: colorama in c:\\users\\nette\\appdata\\local\\programs\\python\\python310\\lib\\site-packages (from ipython>=4.0.0->ipywidgets) (0.4.4)\n",
      "Requirement already satisfied: prompt-toolkit!=3.0.0,!=3.0.1,<3.1.0,>=2.0.0 in c:\\users\\nette\\appdata\\local\\programs\\python\\python310\\lib\\site-packages (from ipython>=4.0.0->ipywidgets) (3.0.30)\n",
      "Requirement already satisfied: notebook>=4.4.1 in c:\\users\\nette\\appdata\\local\\programs\\python\\python310\\lib\\site-packages (from widgetsnbextension~=3.6.0->ipywidgets) (6.4.12)\n",
      "Requirement already satisfied: parso<0.9.0,>=0.8.0 in c:\\users\\nette\\appdata\\local\\programs\\python\\python310\\lib\\site-packages (from jedi>=0.16->ipython>=4.0.0->ipywidgets) (0.8.3)\n",
      "Requirement already satisfied: entrypoints in c:\\users\\nette\\appdata\\local\\programs\\python\\python310\\lib\\site-packages (from jupyter-client>=6.1.12->ipykernel>=4.5.1->ipywidgets) (0.4)\n",
      "Requirement already satisfied: jupyter-core>=4.9.2 in c:\\users\\nette\\appdata\\local\\programs\\python\\python310\\lib\\site-packages (from jupyter-client>=6.1.12->ipykernel>=4.5.1->ipywidgets) (4.11.1)\n",
      "Requirement already satisfied: python-dateutil>=2.8.2 in c:\\users\\nette\\appdata\\local\\programs\\python\\python310\\lib\\site-packages (from jupyter-client>=6.1.12->ipykernel>=4.5.1->ipywidgets) (2.8.2)\n",
      "Requirement already satisfied: nbconvert>=5 in c:\\users\\nette\\appdata\\local\\programs\\python\\python310\\lib\\site-packages (from notebook>=4.4.1->widgetsnbextension~=3.6.0->ipywidgets) (6.5.0)\n",
      "Requirement already satisfied: terminado>=0.8.3 in c:\\users\\nette\\appdata\\local\\programs\\python\\python310\\lib\\site-packages (from notebook>=4.4.1->widgetsnbextension~=3.6.0->ipywidgets) (0.15.0)\n",
      "Requirement already satisfied: nbformat in c:\\users\\nette\\appdata\\local\\programs\\python\\python310\\lib\\site-packages (from notebook>=4.4.1->widgetsnbextension~=3.6.0->ipywidgets) (5.4.0)\n",
      "Requirement already satisfied: jinja2 in c:\\users\\nette\\appdata\\local\\programs\\python\\python310\\lib\\site-packages (from notebook>=4.4.1->widgetsnbextension~=3.6.0->ipywidgets) (3.1.2)\n",
      "Requirement already satisfied: argon2-cffi in c:\\users\\nette\\appdata\\local\\programs\\python\\python310\\lib\\site-packages (from notebook>=4.4.1->widgetsnbextension~=3.6.0->ipywidgets) (21.3.0)\n",
      "Requirement already satisfied: prometheus-client in c:\\users\\nette\\appdata\\local\\programs\\python\\python310\\lib\\site-packages (from notebook>=4.4.1->widgetsnbextension~=3.6.0->ipywidgets) (0.14.1)\n",
      "Requirement already satisfied: Send2Trash>=1.8.0 in c:\\users\\nette\\appdata\\local\\programs\\python\\python310\\lib\\site-packages (from notebook>=4.4.1->widgetsnbextension~=3.6.0->ipywidgets) (1.8.0)\n",
      "Requirement already satisfied: wcwidth in c:\\users\\nette\\appdata\\local\\programs\\python\\python310\\lib\\site-packages (from prompt-toolkit!=3.0.0,!=3.0.1,<3.1.0,>=2.0.0->ipython>=4.0.0->ipywidgets) (0.2.5)\n",
      "Requirement already satisfied: pyparsing!=3.0.5,>=2.0.2 in c:\\users\\nette\\appdata\\local\\programs\\python\\python310\\lib\\site-packages (from packaging->ipykernel>=4.5.1->ipywidgets) (3.0.9)\n",
      "Requirement already satisfied: pure-eval in c:\\users\\nette\\appdata\\local\\programs\\python\\python310\\lib\\site-packages (from stack-data->ipython>=4.0.0->ipywidgets) (0.2.2)\n",
      "Requirement already satisfied: executing in c:\\users\\nette\\appdata\\local\\programs\\python\\python310\\lib\\site-packages (from stack-data->ipython>=4.0.0->ipywidgets) (0.8.3)\n",
      "Requirement already satisfied: asttokens in c:\\users\\nette\\appdata\\local\\programs\\python\\python310\\lib\\site-packages (from stack-data->ipython>=4.0.0->ipywidgets) (2.0.5)\n",
      "Requirement already satisfied: pywin32>=1.0 in c:\\users\\nette\\appdata\\local\\programs\\python\\python310\\lib\\site-packages (from jupyter-core>=4.9.2->jupyter-client>=6.1.12->ipykernel>=4.5.1->ipywidgets) (304)\n",
      "Requirement already satisfied: tinycss2 in c:\\users\\nette\\appdata\\local\\programs\\python\\python310\\lib\\site-packages (from nbconvert>=5->notebook>=4.4.1->widgetsnbextension~=3.6.0->ipywidgets) (1.1.1)\n",
      "Requirement already satisfied: nbclient>=0.5.0 in c:\\users\\nette\\appdata\\local\\programs\\python\\python310\\lib\\site-packages (from nbconvert>=5->notebook>=4.4.1->widgetsnbextension~=3.6.0->ipywidgets) (0.5.13)\n",
      "Requirement already satisfied: defusedxml in c:\\users\\nette\\appdata\\local\\programs\\python\\python310\\lib\\site-packages (from nbconvert>=5->notebook>=4.4.1->widgetsnbextension~=3.6.0->ipywidgets) (0.7.1)\n",
      "Requirement already satisfied: bleach in c:\\users\\nette\\appdata\\local\\programs\\python\\python310\\lib\\site-packages (from nbconvert>=5->notebook>=4.4.1->widgetsnbextension~=3.6.0->ipywidgets) (5.0.1)\n",
      "Requirement already satisfied: MarkupSafe>=2.0 in c:\\users\\nette\\appdata\\local\\programs\\python\\python310\\lib\\site-packages (from nbconvert>=5->notebook>=4.4.1->widgetsnbextension~=3.6.0->ipywidgets) (2.1.1)\n",
      "Requirement already satisfied: beautifulsoup4 in c:\\users\\nette\\appdata\\local\\programs\\python\\python310\\lib\\site-packages (from nbconvert>=5->notebook>=4.4.1->widgetsnbextension~=3.6.0->ipywidgets) (4.11.1)\n",
      "Requirement already satisfied: pandocfilters>=1.4.1 in c:\\users\\nette\\appdata\\local\\programs\\python\\python310\\lib\\site-packages (from nbconvert>=5->notebook>=4.4.1->widgetsnbextension~=3.6.0->ipywidgets) (1.5.0)\n",
      "Requirement already satisfied: jupyterlab-pygments in c:\\users\\nette\\appdata\\local\\programs\\python\\python310\\lib\\site-packages (from nbconvert>=5->notebook>=4.4.1->widgetsnbextension~=3.6.0->ipywidgets) (0.2.2)\n",
      "Requirement already satisfied: mistune<2,>=0.8.1 in c:\\users\\nette\\appdata\\local\\programs\\python\\python310\\lib\\site-packages (from nbconvert>=5->notebook>=4.4.1->widgetsnbextension~=3.6.0->ipywidgets) (0.8.4)\n",
      "Requirement already satisfied: jsonschema>=2.6 in c:\\users\\nette\\appdata\\local\\programs\\python\\python310\\lib\\site-packages (from nbformat->notebook>=4.4.1->widgetsnbextension~=3.6.0->ipywidgets) (4.7.2)\n",
      "Requirement already satisfied: fastjsonschema in c:\\users\\nette\\appdata\\local\\programs\\python\\python310\\lib\\site-packages (from nbformat->notebook>=4.4.1->widgetsnbextension~=3.6.0->ipywidgets) (2.15.3)\n",
      "Requirement already satisfied: six>=1.5 in c:\\users\\nette\\appdata\\local\\programs\\python\\python310\\lib\\site-packages (from python-dateutil>=2.8.2->jupyter-client>=6.1.12->ipykernel>=4.5.1->ipywidgets) (1.16.0)\n",
      "Requirement already satisfied: pywinpty>=1.1.0 in c:\\users\\nette\\appdata\\local\\programs\\python\\python310\\lib\\site-packages (from terminado>=0.8.3->notebook>=4.4.1->widgetsnbextension~=3.6.0->ipywidgets) (2.0.6)\n",
      "Requirement already satisfied: argon2-cffi-bindings in c:\\users\\nette\\appdata\\local\\programs\\python\\python310\\lib\\site-packages (from argon2-cffi->notebook>=4.4.1->widgetsnbextension~=3.6.0->ipywidgets) (21.2.0)\n",
      "Requirement already satisfied: pyrsistent!=0.17.0,!=0.17.1,!=0.17.2,>=0.14.0 in c:\\users\\nette\\appdata\\local\\programs\\python\\python310\\lib\\site-packages (from jsonschema>=2.6->nbformat->notebook>=4.4.1->widgetsnbextension~=3.6.0->ipywidgets) (0.18.1)\n",
      "Requirement already satisfied: attrs>=17.4.0 in c:\\users\\nette\\appdata\\local\\programs\\python\\python310\\lib\\site-packages (from jsonschema>=2.6->nbformat->notebook>=4.4.1->widgetsnbextension~=3.6.0->ipywidgets) (21.4.0)\n",
      "Requirement already satisfied: cffi>=1.0.1 in c:\\users\\nette\\appdata\\local\\programs\\python\\python310\\lib\\site-packages (from argon2-cffi-bindings->argon2-cffi->notebook>=4.4.1->widgetsnbextension~=3.6.0->ipywidgets) (1.15.0)\n",
      "Requirement already satisfied: soupsieve>1.2 in c:\\users\\nette\\appdata\\local\\programs\\python\\python310\\lib\\site-packages (from beautifulsoup4->nbconvert>=5->notebook>=4.4.1->widgetsnbextension~=3.6.0->ipywidgets) (2.3.2.post1)\n",
      "Requirement already satisfied: webencodings in c:\\users\\nette\\appdata\\local\\programs\\python\\python310\\lib\\site-packages (from bleach->nbconvert>=5->notebook>=4.4.1->widgetsnbextension~=3.6.0->ipywidgets) (0.5.1)\n",
      "Requirement already satisfied: pycparser in c:\\users\\nette\\appdata\\local\\programs\\python\\python310\\lib\\site-packages (from cffi>=1.0.1->argon2-cffi-bindings->argon2-cffi->notebook>=4.4.1->widgetsnbextension~=3.6.0->ipywidgets) (2.21)\n"
     ]
    },
    {
     "name": "stderr",
     "output_type": "stream",
     "text": [
      "Installing C:\\Users\\nette\\AppData\\Local\\Programs\\Python\\Python310\\lib\\site-packages\\fileupload\\static -> fileupload\n",
      "Up to date: C:\\Users\\nette\\AppData\\Roaming\\jupyter\\nbextensions\\fileupload\\extension.js\n",
      "Up to date: C:\\Users\\nette\\AppData\\Roaming\\jupyter\\nbextensions\\fileupload\\widget.js\n",
      "Up to date: C:\\Users\\nette\\AppData\\Roaming\\jupyter\\nbextensions\\fileupload\\fileupload\\widget.js\n",
      "- Validating: ok\n",
      "\n",
      "    To initialize this nbextension in the browser every time the notebook (or other app) loads:\n",
      "    \n",
      "          jupyter nbextension enable fileupload --user --py\n",
      "    \n",
      "Enabling notebook extension fileupload/extension...\n",
      "      - Validating: ok\n"
     ]
    }
   ],
   "source": [
    "# Here are all the installs and imports you will need for your word cloud script and uploader widget\n",
    "\n",
    "!pip install wordcloud\n",
    "!pip install fileupload\n",
    "!pip install ipywidgets\n",
    "!jupyter nbextension install --py --user fileupload\n",
    "!jupyter nbextension enable --py fileupload\n",
    "\n",
    "import wordcloud\n",
    "import numpy as np\n",
    "from matplotlib import pyplot as plt\n",
    "from IPython.display import display\n",
    "import fileupload\n",
    "import io\n",
    "import sys"
   ]
  },
  {
   "cell_type": "markdown",
   "id": "f97115ce-1c87-4cc6-9dd8-f0c9d0333ede",
   "metadata": {},
   "source": [
    "Whew! That was a lot. All of the installs and imports for your word cloud script and uploader widget have been completed.\n",
    "\n",
    "IMPORTANT! If this was your first time running the above cell containing the installs and imports, you will need save this notebook now. Then under the File menu above, select Close and Halt. When the notebook has completely shut down, reopen it. This is the only way the necessary changes will take affect.\n",
    "\n",
    "To upload your text file, run the following cell that contains all the code for a custom uploader widget. Once you run this cell, a \"Browse\" button should appear below it. Click this button and navigate the window to locate your saved text file."
   ]
  },
  {
   "cell_type": "code",
   "execution_count": 3,
   "id": "121453c2-5d80-4a75-97ba-a1173ab74eff",
   "metadata": {},
   "outputs": [
    {
     "data": {
      "application/vnd.jupyter.widget-view+json": {
       "model_id": "449030a2da81471db1b3d5f61586a11a",
       "version_major": 2,
       "version_minor": 0
      },
      "text/plain": [
       "FileUploadWidget(label='Browse', _dom_classes=('widget_item', 'btn-group'))"
      ]
     },
     "metadata": {},
     "output_type": "display_data"
    }
   ],
   "source": [
    "# This is the uploader widget\n",
    "\n",
    "def _upload():\n",
    "\n",
    "    _upload_widget = fileupload.FileUploadWidget()\n",
    "\n",
    "    def _cb(change):\n",
    "        global file_contents\n",
    "        decoded = io.StringIO(change['owner'].data.decode('utf-8'))\n",
    "        filename = change['owner'].filename\n",
    "        print('Uploaded `{}` ({:.2f} kB)'.format(\n",
    "            filename, len(decoded.read()) / 2 **10))\n",
    "        file_contents = decoded.getvalue()\n",
    "\n",
    "    _upload_widget.observe(_cb, names='data')\n",
    "    display(_upload_widget)\n",
    "\n",
    "_upload()"
   ]
  },
  {
   "cell_type": "code",
   "execution_count": 4,
   "id": "8b945b20-1d65-4e29-8c6c-689f8310b718",
   "metadata": {},
   "outputs": [],
   "source": [
    "def calculate_frequencies(file_contents):\n",
    "    # Here is a list of punctuations and uninteresting words you can use to process your text\n",
    "    punctuations = '''!()-[]{};:'\"\\,<>./?@#$%^&*_~'''\n",
    "    uninteresting_words = [\"the\", \"a\", \"to\", \"if\", \"is\", \"it\", \"of\", \"and\", \"or\", \"an\", \"as\", \"i\", \"me\", \"my\", \\\n",
    "    \"we\", \"our\", \"ours\", \"you\", \"your\", \"yours\", \"he\", \"she\", \"him\", \"his\", \"her\", \"hers\", \"its\", \"they\", \"them\", \\\n",
    "    \"their\", \"what\", \"which\", \"who\", \"whom\", \"this\", \"that\", \"am\", \"are\", \"was\", \"were\", \"be\", \"been\", \"being\", \\\n",
    "    \"have\", \"has\", \"had\", \"do\", \"does\", \"did\", \"but\", \"at\", \"by\", \"with\", \"from\", \"here\", \"when\", \"where\", \"how\", \\\n",
    "    \"all\", \"any\", \"both\", \"each\", \"few\", \"more\", \"some\", \"such\", \"no\", \"nor\", \"too\", \"very\", \"can\", \"will\", \"just\"]\n",
    "    \n",
    "    # LEARNER CODE START HERE\n",
    "    d = {}\n",
    "    f = file_contents.split()\n",
    "    for word in f:\n",
    "        if word not in uninteresting_words:\n",
    "            for letter in word:\n",
    "                if letter in punctuations:\n",
    "                    letter.replace(punctuations, \"\")\n",
    "                if word not in d.keys():\n",
    "                    d[word] = 0\n",
    "                else:\n",
    "                    d[word] += 1\n",
    "    \n",
    "    #wordcloud\n",
    "    cloud = wordcloud.WordCloud()\n",
    "    cloud.generate_from_frequencies(d)\n",
    "    return cloud.to_array()"
   ]
  },
  {
   "cell_type": "code",
   "execution_count": 5,
   "id": "d2f70b18-f503-4419-8f2b-3cf3ead06fc9",
   "metadata": {},
   "outputs": [
    {
     "ename": "NameError",
     "evalue": "name 'file_contents' is not defined",
     "output_type": "error",
     "traceback": [
      "\u001b[1;31m---------------------------------------------------------------------------\u001b[0m",
      "\u001b[1;31mNameError\u001b[0m                                 Traceback (most recent call last)",
      "Input \u001b[1;32mIn [5]\u001b[0m, in \u001b[0;36m<cell line: 1>\u001b[1;34m()\u001b[0m\n\u001b[1;32m----> 1\u001b[0m myimage \u001b[38;5;241m=\u001b[39m calculate_frequencies(\u001b[43mfile_contents\u001b[49m)\n\u001b[0;32m      2\u001b[0m plt\u001b[38;5;241m.\u001b[39mimshow(myimage, interpolation \u001b[38;5;241m=\u001b[39m \u001b[38;5;124m'\u001b[39m\u001b[38;5;124mnearest\u001b[39m\u001b[38;5;124m'\u001b[39m)\n\u001b[0;32m      3\u001b[0m plt\u001b[38;5;241m.\u001b[39maxis(\u001b[38;5;124m'\u001b[39m\u001b[38;5;124moff\u001b[39m\u001b[38;5;124m'\u001b[39m)\n",
      "\u001b[1;31mNameError\u001b[0m: name 'file_contents' is not defined"
     ]
    }
   ],
   "source": [
    "myimage = calculate_frequencies(file_contents)\n",
    "plt.imshow(myimage, interpolation = 'nearest')\n",
    "plt.axis('off')\n",
    "plt.show()"
   ]
  },
  {
   "cell_type": "code",
   "execution_count": null,
   "id": "db00ca56-ee41-49b2-9a07-6f2551ba83f7",
   "metadata": {},
   "outputs": [],
   "source": []
  }
 ],
 "metadata": {
  "kernelspec": {
   "display_name": "Python 3 (ipykernel)",
   "language": "python",
   "name": "python3"
  },
  "language_info": {
   "codemirror_mode": {
    "name": "ipython",
    "version": 3
   },
   "file_extension": ".py",
   "mimetype": "text/x-python",
   "name": "python",
   "nbconvert_exporter": "python",
   "pygments_lexer": "ipython3",
   "version": "3.10.4"
  },
  "widgets": {
   "application/vnd.jupyter.widget-state+json": {
    "state": {
     "156dd34875f54d928a44d91f8707119b": {
      "model_module": "@jupyter-widgets/base",
      "model_module_version": "1.2.0",
      "model_name": "DOMWidgetModel",
      "state": {
       "_dom_classes": [
        "widget_item",
        "btn-group"
       ],
       "_model_name": "DOMWidgetModel",
       "_view_module": "fileupload",
       "_view_module_version": "",
       "_view_name": "FileUploadView",
       "data_base64": "",
       "filename": "",
       "label": "Browse",
       "layout": "IPY_MODEL_3e398be10973494da33d739fac2df774"
      }
     },
     "16080fcd08ce488793c100dee80bd5c3": {
      "model_module": "@jupyter-widgets/base",
      "model_module_version": "1.2.0",
      "model_name": "DOMWidgetModel",
      "state": {
       "_dom_classes": [
        "widget_item",
        "btn-group"
       ],
       "_model_name": "DOMWidgetModel",
       "_view_module": "fileupload",
       "_view_module_version": "",
       "_view_name": "FileUploadView",
       "data_base64": "",
       "filename": "",
       "label": "Browse",
       "layout": "IPY_MODEL_ed45aafd3663441fa009a9615779aca9"
      }
     },
     "1bcace5ea9694223ad9e9ca5882ed59c": {
      "model_module": "@jupyter-widgets/base",
      "model_module_version": "1.2.0",
      "model_name": "LayoutModel",
      "state": {}
     },
     "2305d19b4e134937919eaa2419ff705c": {
      "model_module": "@jupyter-widgets/base",
      "model_module_version": "1.2.0",
      "model_name": "LayoutModel",
      "state": {}
     },
     "32561212f3e440c0afbd9ad1784003f2": {
      "model_module": "@jupyter-widgets/base",
      "model_module_version": "1.2.0",
      "model_name": "DOMWidgetModel",
      "state": {
       "_dom_classes": [
        "widget_item",
        "btn-group"
       ],
       "_model_name": "DOMWidgetModel",
       "_view_module": "fileupload",
       "_view_module_version": "",
       "_view_name": "FileUploadView",
       "data_base64": "",
       "filename": "",
       "label": "Browse",
       "layout": "IPY_MODEL_2305d19b4e134937919eaa2419ff705c"
      }
     },
     "3e398be10973494da33d739fac2df774": {
      "model_module": "@jupyter-widgets/base",
      "model_module_version": "1.2.0",
      "model_name": "LayoutModel",
      "state": {}
     },
     "449030a2da81471db1b3d5f61586a11a": {
      "model_module": "@jupyter-widgets/base",
      "model_module_version": "1.2.0",
      "model_name": "DOMWidgetModel",
      "state": {
       "_dom_classes": [
        "widget_item",
        "btn-group"
       ],
       "_model_name": "DOMWidgetModel",
       "_view_module": "fileupload",
       "_view_module_version": "",
       "_view_name": "FileUploadView",
       "data_base64": "",
       "filename": "",
       "label": "Browse",
       "layout": "IPY_MODEL_1bcace5ea9694223ad9e9ca5882ed59c"
      }
     },
     "56be123bedab495ab40ace8fa277a4d3": {
      "model_module": "@jupyter-widgets/base",
      "model_module_version": "1.2.0",
      "model_name": "DOMWidgetModel",
      "state": {
       "_dom_classes": [
        "widget_item",
        "btn-group"
       ],
       "_model_name": "DOMWidgetModel",
       "_view_module": "fileupload",
       "_view_module_version": "",
       "_view_name": "FileUploadView",
       "data_base64": "",
       "filename": "",
       "label": "Browse",
       "layout": "IPY_MODEL_b6e43fe43839479aa97a9575d10bad80"
      }
     },
     "5f2cdfe19e0840ab9c9aaff8a61501db": {
      "model_module": "@jupyter-widgets/base",
      "model_module_version": "1.2.0",
      "model_name": "LayoutModel",
      "state": {}
     },
     "69de3d2aa5bd4b3c8441f79471f4cb1d": {
      "model_module": "@jupyter-widgets/base",
      "model_module_version": "1.2.0",
      "model_name": "DOMWidgetModel",
      "state": {
       "_dom_classes": [
        "widget_item",
        "btn-group"
       ],
       "_model_name": "DOMWidgetModel",
       "_view_module": "fileupload",
       "_view_module_version": "",
       "_view_name": "FileUploadView",
       "data_base64": "",
       "filename": "",
       "label": "Browse",
       "layout": "IPY_MODEL_5f2cdfe19e0840ab9c9aaff8a61501db"
      }
     },
     "b6e43fe43839479aa97a9575d10bad80": {
      "model_module": "@jupyter-widgets/base",
      "model_module_version": "1.2.0",
      "model_name": "LayoutModel",
      "state": {}
     },
     "d059a96fefed4c8ca2f53de4fdc8db78": {
      "model_module": "@jupyter-widgets/base",
      "model_module_version": "1.2.0",
      "model_name": "DOMWidgetModel",
      "state": {
       "_dom_classes": [
        "widget_item",
        "btn-group"
       ],
       "_model_name": "DOMWidgetModel",
       "_view_module": "fileupload",
       "_view_module_version": "",
       "_view_name": "FileUploadView",
       "data_base64": "",
       "filename": "",
       "label": "Browse",
       "layout": "IPY_MODEL_e43ebcc9ab5d40598787523a6fb88c8f"
      }
     },
     "e43ebcc9ab5d40598787523a6fb88c8f": {
      "model_module": "@jupyter-widgets/base",
      "model_module_version": "1.2.0",
      "model_name": "LayoutModel",
      "state": {}
     },
     "ed45aafd3663441fa009a9615779aca9": {
      "model_module": "@jupyter-widgets/base",
      "model_module_version": "1.2.0",
      "model_name": "LayoutModel",
      "state": {}
     }
    },
    "version_major": 2,
    "version_minor": 0
   }
  }
 },
 "nbformat": 4,
 "nbformat_minor": 5
}
