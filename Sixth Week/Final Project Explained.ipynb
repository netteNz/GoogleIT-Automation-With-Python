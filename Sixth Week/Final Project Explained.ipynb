{
 "cells": [
  {
   "cell_type": "markdown",
   "id": "6f45aaba-4034-4b1d-8c2a-55aa0039950f",
   "metadata": {},
   "source": [
    "# Final Project Help"
   ]
  },
  {
   "cell_type": "markdown",
   "id": "9fcefd92-30a7-4f93-9709-2a2e522b8ca4",
   "metadata": {},
   "source": [
    "## Project goal \n",
    "Create a dictionary with words and word frequencies that can be passed to the generate_from_frequencies function of the WordCloud class.\n",
    "\n",
    "Once you have the dictionary, use this code to generate the word cloud image:"
   ]
  },
  {
   "cell_type": "markdown",
   "id": "1ded1a7a-335a-4c31-a6c8-493f504d9794",
   "metadata": {},
   "source": [
    "```python\n",
    "cloud = wordcloud.WordCloud()\n",
    "cloud.generate_from_frequencies(frequencies)\n",
    "cloud.to_file(\"myfile.jpg\")\n",
    "```"
   ]
  },
  {
   "cell_type": "markdown",
   "id": "978cf109-82d6-4523-b3e9-c8e6f31e1a55",
   "metadata": {},
   "source": [
    "### Things to remember\n",
    "\n",
    "- Before processing any text, you need to remove all the punctuation marks. To do this, you can go through each line of text, character-by-character, using the isalpha() method. This will check whether or not the character is a letter.\n",
    "\n",
    "- To split a line of text into words, you can use the split() method.\n",
    "\n",
    "- Before storing words in the frequency dictionary, check if they’re part of the \"uninteresting\" set of words (for example: \"a\", \"the\", \"to\", \"if\"). Make this set a parameter to your function so that you can change it if necessary.\n",
    "\n",
    "### Input file\n",
    "For the input file, you need to provide a file that contains text only. For the text itself, you can copy and paste the contents of a website you like. Or you can use a site like Project Gutenberg to find books that are available online. You could see what word clouds you can get from famous books, like a Shakespeare play or a novel by Jane Austen."
   ]
  },
  {
   "cell_type": "code",
   "execution_count": null,
   "id": "3861369f-58df-4117-a601-92ad93a93927",
   "metadata": {},
   "outputs": [],
   "source": []
  }
 ],
 "metadata": {
  "kernelspec": {
   "display_name": "Python 3 (ipykernel)",
   "language": "python",
   "name": "python3"
  },
  "language_info": {
   "codemirror_mode": {
    "name": "ipython",
    "version": 3
   },
   "file_extension": ".py",
   "mimetype": "text/x-python",
   "name": "python",
   "nbconvert_exporter": "python",
   "pygments_lexer": "ipython3",
   "version": "3.10.4"
  }
 },
 "nbformat": 4,
 "nbformat_minor": 5
}
