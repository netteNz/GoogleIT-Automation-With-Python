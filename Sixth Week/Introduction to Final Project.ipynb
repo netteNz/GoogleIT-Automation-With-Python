{
 "cells": [
  {
   "cell_type": "markdown",
   "id": "8739317e-ef9e-4e87-8ab0-d2448ff6bf38",
   "metadata": {},
   "source": [
    "# Final Project Introduction"
   ]
  },
  {
   "cell_type": "markdown",
   "id": "1e9ce1ae-9397-4c85-a19f-b1bcc43bdaea",
   "metadata": {},
   "source": [
    "## Event Class\n",
    "\n",
    "Contains the **date** when the event happened. the **name** of the machine where it happened, the **user** involved, and the event type.\n",
    "\n",
    "## Attributes:\n",
    "- Date\n",
    "- User\n",
    "- Machine\n",
    "- Type\n",
    "\n",
    "## Event Types are strings:\n",
    "- Login\n",
    "- Logout"
   ]
  },
  {
   "cell_type": "markdown",
   "id": "567bc752-3c10-473e-8dbc-b4042e4050e8",
   "metadata": {},
   "source": [
    "We want to generate a report of all the machine names and for each machine lists of the users that are currently logged in. Then print Info on the screen.\n",
    "\n",
    "### Option 1:\n",
    "- Print the name of the machine at the beginning of the line\n",
    "- Then list the current users on seperate lines and indent it to the right\n",
    "\n",
    "### Option 2:\n",
    "- Print machine name followed by a colon\n",
    "- Then the user names by commas all in the same line"
   ]
  },
  {
   "cell_type": "code",
   "execution_count": 7,
   "id": "31701c06-209e-4610-a51b-db9f1dea09ae",
   "metadata": {},
   "outputs": [
    {
     "name": "stdout",
     "output_type": "stream",
     "text": [
      "[4, 6, 2, 7, 1]\n"
     ]
    }
   ],
   "source": [
    "numbers = [4, 6, 2, 7, 1]\n",
    "\n",
    "sorted(numbers)\n",
    "print(numbers)"
   ]
  },
  {
   "cell_type": "markdown",
   "id": "6cab7f44-5d55-487f-a3ce-a0f24e82f9e6",
   "metadata": {},
   "source": [
    "### First Method\n",
    "- machine_users = []\n",
    "- event processing login add to list, logout remove from list\n",
    "- using a set/dictionary\n",
    "- use the name of the machine as key\n",
    "- current users of the machine as the values\n",
    "\n",
    "### Second Method\n",
    "- process the data and to print the data onto the screen"
   ]
  },
  {
   "cell_type": "code",
   "execution_count": 5,
   "id": "b47145f5-f2c6-4674-a9b3-9b0ee71ada1f",
   "metadata": {},
   "outputs": [],
   "source": [
    "class Event:\n",
    "    def __init__(self, event_date, event_type, machine_name, user):\n",
    "        self.date = event_date\n",
    "        self.type = event_type\n",
    "        self.machine = machine_name\n",
    "        self.user = user\n",
    "\n",
    "\n",
    "    def get_event_date(event):\n",
    "        return event.date\n",
    "\n",
    "    def current_users(events):\n",
    "        events.sort(key=get_event_date)\n",
    "        machines = {}\n",
    "        for event in events:\n",
    "            if event.machine not in machines:\n",
    "                machines[event.machine] = set()\n",
    "            if event.type == \"login\":\n",
    "                machines[event.machine].add(event.user)\n",
    "            elif event.type == \"logout\":\n",
    "                machines[event.machine].remove(event.user)\n",
    "        return machines\n",
    "\n",
    "    def generate_report(machines):\n",
    "        for machine, users in machines.items():\n",
    "            if len(users) > 0:\n",
    "                user_list = \", \".join(users)\n",
    "                print(\"{}: {}\".format(machine, user_list))"
   ]
  },
  {
   "cell_type": "code",
   "execution_count": 4,
   "id": "1b34837b",
   "metadata": {},
   "outputs": [],
   "source": [
    "events = [\n",
    "    Event('2020-01-21 12:45:56', 'login', 'myworkstation.local', 'jordan'),\n",
    "    Event('2020-01-22 15:53:42', 'logout', 'webserver.local', 'jordan'),\n",
    "    Event('2020-01-21 18:53:21', 'login', 'webserver.local', 'lane'),\n",
    "    Event('2020-01-22 10:25:34', 'logout', 'myworkstation.local', 'jordan'),\n",
    "    Event('2020-01-21 08:20:01', 'login', 'webserver.local', 'jordan'),\n",
    "    Event('2020-01-23 11:24:35', 'logout', 'mailserver.local', 'chris'),\n",
    "]"
   ]
  },
  {
   "cell_type": "code",
   "execution_count": 6,
   "id": "b5379d28",
   "metadata": {},
   "outputs": [
    {
     "ename": "NameError",
     "evalue": "name 'current_users' is not defined",
     "output_type": "error",
     "traceback": [
      "\u001b[1;31m---------------------------------------------------------------------------\u001b[0m",
      "\u001b[1;31mNameError\u001b[0m                                 Traceback (most recent call last)",
      "\u001b[1;32mf:\\Projects\\Coursera\\Automation\\Sixth Week\\Final Project Intro.ipynb Cell 8\u001b[0m in \u001b[0;36m<cell line: 1>\u001b[1;34m()\u001b[0m\n\u001b[1;32m----> <a href='vscode-notebook-cell:/f%3A/Projects/Coursera/Automation/Sixth%20Week/Final%20Project%20Intro.ipynb#X10sZmlsZQ%3D%3D?line=0'>1</a>\u001b[0m users \u001b[39m=\u001b[39m current_users(events)\n\u001b[0;32m      <a href='vscode-notebook-cell:/f%3A/Projects/Coursera/Automation/Sixth%20Week/Final%20Project%20Intro.ipynb#X10sZmlsZQ%3D%3D?line=1'>2</a>\u001b[0m \u001b[39mprint\u001b[39m(users)\n",
      "\u001b[1;31mNameError\u001b[0m: name 'current_users' is not defined"
     ]
    }
   ],
   "source": [
    "users = current_users(events)\n",
    "print(users)"
   ]
  },
  {
   "cell_type": "code",
   "execution_count": null,
   "id": "2755cdba",
   "metadata": {},
   "outputs": [],
   "source": []
  }
 ],
 "metadata": {
  "kernelspec": {
   "display_name": "Python 3 (ipykernel)",
   "language": "python",
   "name": "python3"
  },
  "language_info": {
   "codemirror_mode": {
    "name": "ipython",
    "version": 3
   },
   "file_extension": ".py",
   "mimetype": "text/x-python",
   "name": "python",
   "nbconvert_exporter": "python",
   "pygments_lexer": "ipython3",
   "version": "3.10.4"
  },
  "vscode": {
   "interpreter": {
    "hash": "b73955b1b146b1bcb73bfc6e1fec7cd476cfbb423e8cf7c33cd12c8102c6fc6a"
   }
  }
 },
 "nbformat": 4,
 "nbformat_minor": 5
}
