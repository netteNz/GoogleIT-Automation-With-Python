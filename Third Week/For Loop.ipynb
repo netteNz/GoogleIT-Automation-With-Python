{
 "cells": [
  {
   "cell_type": "markdown",
   "id": "652c73d6-c177-4ea7-9e91-1a54b5a39fdb",
   "metadata": {},
   "source": [
    "# Question \n",
    "Want to try this out? Let's give it a go!\n",
    "\n",
    "Fill in the gaps of the sum_squares function, so that it returns the sum of all the squares of numbers between 0 and x (not included). Remember that you can use the range(x) function to generate a sequence of numbers from 0 to x (not included).\n"
   ]
  },
  {
   "cell_type": "code",
   "execution_count": 4,
   "id": "dc33c0c4-e642-410d-b6ec-cd6604c85641",
   "metadata": {},
   "outputs": [
    {
     "name": "stdout",
     "output_type": "stream",
     "text": [
      "285\n"
     ]
    }
   ],
   "source": [
    "def square(n):\n",
    "    return n*n\n",
    "\n",
    "def sum_squares(x):\n",
    "    sum = 0\n",
    "    for n in range(x):\n",
    "        sum += int(square(n))\n",
    "    return sum\n",
    "\n",
    "print(sum_squares(10)) # Should be 285"
   ]
  },
  {
   "cell_type": "code",
   "execution_count": 5,
   "id": "fed208a9-e6f9-42a7-a72d-cf2c2468cde9",
   "metadata": {},
   "outputs": [
    {
     "name": "stdout",
     "output_type": "stream",
     "text": [
      "Total sum: 219 - Average: 43.8\n"
     ]
    }
   ],
   "source": [
    "values = [23, 52, 59, 37, 48]\n",
    "sum = 0\n",
    "length = 0\n",
    "for value in values:\n",
    "    sum += value\n",
    "    length += 1\n",
    "    \n",
    "print(\"Total sum: \" + str(sum) + \" - Average: \" + str(sum/length))"
   ]
  },
  {
   "cell_type": "markdown",
   "id": "862e6c1f-b270-4317-83d0-31d942031b95",
   "metadata": {},
   "source": [
    "# For Loops Recap\n",
    "\n",
    "*For* loops allow you to iterate over a sequence of values. Let's take the example from the beginning of the video:\n",
    "\n",
    "`for x in range(5):`\n",
    "\n",
    "  `print(x)`\n",
    "  \n",
    "Similar to if statements and while loops, for loops begin with the keyword for with a colon at the end of the line. Just like in function definitions, while loops and if statements, the body of the for loop begins on the next line and is indented to the right. But what about the stuff in between the for keyword and the colon? In our example, we’re using the range() function to create a sequence of numbers that our for loop can iterate over. In this case, our variable x points to the current element in the sequence as the for loop iterates over the sequence of numbers. Keep in mind that in Python and many programming languages, a range of numbers will start at 0, and the list of numbers generated will be one less than the provided value. So range(5) will generate a sequence of numbers from 0 to 4, for a total of 5 numbers.\n",
    "\n",
    "Bringing this all together, the range(5) function will create a sequence of numbers from 0 to 4. Our for loop will iterate over this sequence of numbers, one at a time, making the numbers accessible via the variable x and the code within our loop body will execute for each iteration through the sequence. So for the first loop, x will contain 0, the next loop, 1, and so on until it reaches 4. Once the end of the sequence comes up, the loop will exit and the code will continue.\n",
    "\n",
    "The power of for loops comes from the fact that it can iterate over a sequence of any kind of data, not just a range of numbers. You can use for loops to iterate over a list of strings, such as usernames or lines in a file.\n",
    "\n",
    "Not sure whether to use a for loop or a while loop? Remember that a while loop is great for performing an action over and over until a condition has changed. A for loop works well when you want to iterate over a sequence of elements.  "
   ]
  },
  {
   "cell_type": "markdown",
   "id": "5991ec8e-36d4-4191-bb5d-6e0791801ba2",
   "metadata": {},
   "source": [
    "## More For Loops Examples\n",
    "\n",
    "In math, the factorial of a number is defined as the product of an integer and all the integers below it. \n",
    "For example, the factorial of four (4!) is equal to 1*2*3*4=24. Fill in the blanks to make the factorial function return the right number."
   ]
  },
  {
   "cell_type": "code",
   "execution_count": 9,
   "id": "7008506b-5902-4764-930e-8130f7a25710",
   "metadata": {},
   "outputs": [
    {
     "name": "stdout",
     "output_type": "stream",
     "text": [
      "24\n",
      "120\n"
     ]
    }
   ],
   "source": [
    "def factorial(n):\n",
    "    result = 1\n",
    "    for x in range(1, n + 1):\n",
    "        result = result * x\n",
    "    return result\n",
    "    \n",
    "print(factorial(4)) # should return 24\n",
    "print(factorial(5)) # should return 120"
   ]
  },
  {
   "cell_type": "markdown",
   "id": "e95025b3-5ab5-4d3d-97a3-1b1d4138c5a5",
   "metadata": {},
   "source": [
    "# A Closer Look at the Range() Function\n",
    "\n",
    "Previously we had used the range() function by passing it a single parameter, and it generated a sequence of numbers from 0 to one less than we specified. But the range() function can do much more than that. We can pass in two parameters: the first specifying our starting point, the second specifying the end point. Don't forget that the sequence generated won't contain the last element; it will stop one before the parameter specified.\n",
    "\n",
    "The range() function can take a third parameter, too. This third parameter lets you  alter the size of each step. So instead of creating a sequence of numbers incremented by 1, you can generate a sequence of numbers that are incremented by 5.\n",
    "\n",
    "To quickly recap the range() function when passing one, two, or three parameters:\n",
    "\n",
    "- One parameter will create a sequence, one-by-one, from zero to one less than the parameter.\n",
    "- Two parameters will create a sequence, one-by-one, from the first parameter to one less than the second parameter.\n",
    "- Three parameters will create a sequence starting with the first parameter and stopping before the second parameter, but this time increasing each step by the third parameter."
   ]
  },
  {
   "cell_type": "code",
   "execution_count": 11,
   "id": "af9ffae6-f6bb-4a62-8fd5-def327fece97",
   "metadata": {},
   "outputs": [
    {
     "name": "stdout",
     "output_type": "stream",
     "text": [
      "[0|0] [0|1] [0|2] [0|3] [0|4] [0|5] [0|6] \n",
      "[1|1] [1|2] [1|3] [1|4] [1|5] [1|6] \n",
      "[2|2] [2|3] [2|4] [2|5] [2|6] \n",
      "[3|3] [3|4] [3|5] [3|6] \n",
      "[4|4] [4|5] [4|6] \n",
      "[5|5] [5|6] \n",
      "[6|6] \n"
     ]
    }
   ],
   "source": [
    "# nested for loop\n",
    "# dominoes\n",
    "for left in range(7):\n",
    "    for right in range(left, 7):\n",
    "        print(\"[\" + str(left) + \"|\" + str(right) + \"]\", end=\" \")\n",
    "    print()"
   ]
  },
  {
   "cell_type": "markdown",
   "id": "764afe1f-9c7e-4f45-b20c-0c37436f0c93",
   "metadata": {},
   "source": [
    " # Common errors in For Loops\n",
    " \n",
    " The validate_users function is used by the system to check if a list of users is valid or invalid. A valid user is one that is at least 3 characters long. For example, ['taylor', 'luisa', 'jamaal'] are all valid users. When calling it like in this example, something is not right. Can you figure out what to fix?"
   ]
  },
  {
   "cell_type": "code",
   "execution_count": 15,
   "id": "6808cb05-3993-4754-8d3c-d6942f1a7ca1",
   "metadata": {},
   "outputs": [
    {
     "name": "stdout",
     "output_type": "stream",
     "text": [
      "purplecat is valid\n"
     ]
    }
   ],
   "source": [
    "def validate_users(users):\n",
    "    for user in users:\n",
    "        if len(user) >= 3:\n",
    "            print(user + \" is valid\")\n",
    "        else:\n",
    "            print(user + \" is invalid\")\n",
    "\n",
    "validate_users([\"purplecat\"])"
   ]
  },
  {
   "cell_type": "markdown",
   "id": "5f34ceb3-4ec4-4169-bee8-318a353a146b",
   "metadata": {},
   "source": [
    "# Loops Cheat Sheet\n",
    "### While Loops\n",
    "A while loop executes the body of the loop while the condition remains True.\n",
    "\n",
    "Syntax:\n",
    "*while condition:*\n",
    "    *body*\n",
    "    \n",
    "### Things to watch out for!\n",
    "- **Failure to initialize variables**. Make sure all the variables used in the loop’s condition  are initialized before the loop.\n",
    "- **Unintended infinite loops**. Make sure that the body of the loop modifies the variables used in the condition, so that the loop will eventually end **for all possible values of the variables**\n",
    "\n",
    "Typical use:\n",
    "\n",
    "While loops are mostly used when there’s an unknown number of operations to be performed, and a condition needs to be checked at each iteration.\n",
    "\n",
    "### For Loops\n",
    "A for loop iterates over a sequence of elements, executing the body of the loop for each element in the sequence.\n",
    "\n",
    "Syntax:\n",
    "*for variable in sequence:*\n",
    "    *body*\n",
    "    \n",
    "The range() function:\n",
    "\n",
    "range() generates a sequence of integer numbers. It can take one, two, or three parameters:\n",
    "\n",
    "- range(n): 0, 1, 2, ... n-1\n",
    "\n",
    "- range(x,y): x, x+1, x+2, ... y-1\n",
    "\n",
    "- range(p,q,r): p, p+r, p+2r, p+3r, ... q-1 (if it's a valid increment)\n",
    "\n",
    "### Common Pitfalls:\n",
    " - **Forgetting that the upper limit of a range() isn’t included.**\n",
    " - **Iterating over non-sequences. Integer numbers aren’t iterable.** Strings are iterable letter by letter, but that might not be what you want.\n",
    " \n",
    "Typical use:\n",
    "\n",
    "For loops are mostly used when there's a pre-defined sequence or range of numbers to iterate.\n",
    "\n",
    "### Break & Continue\n",
    "You can interrupt both while and for loops using the break keyword. We normally do this to interrupt a cycle due to a separate condition.\n",
    "\n",
    "You can use the continue keyword to skip the current iteration and continue with the next one. This is typically used to jump ahead when some of the elements of the sequence aren’t relevant."
   ]
  },
  {
   "cell_type": "markdown",
   "id": "4ac32008-03d5-4b6f-892a-c64c1b51ce00",
   "metadata": {},
   "source": [
    "# Practice Quiz: For Loops"
   ]
  },
  {
   "cell_type": "code",
   "execution_count": 16,
   "id": "af04c300-ac85-402e-8c26-8d978c2aa172",
   "metadata": {},
   "outputs": [
    {
     "name": "stdout",
     "output_type": "stream",
     "text": [
      "0 1\n",
      "1 1\n",
      "2 2\n",
      "3 6\n",
      "4 24\n",
      "5 120\n",
      "6 720\n",
      "7 5040\n",
      "8 40320\n",
      "9 362880\n"
     ]
    }
   ],
   "source": [
    "\"\"\"Question 2. Fill in the blanks to make the factorial function return the factorial of n.\n",
    "Then, print the first 10 factorials (from 0 to 9) with the corresponding number. \n",
    "Remember that the factorial of a number is defined as the product of an integer and all integers before it. \n",
    "For example, the factorial of five (5!) is equal to 1*2*3*4*5=120. Also recall that the factorial of zero (0!) is equal to 1.\"\"\"\n",
    "\n",
    "def factorial(n):\n",
    "    result = 1\n",
    "    for x in range(1, n + 1):\n",
    "        result = result * x\n",
    "    return result\n",
    "\n",
    "for n in range(0, 10):\n",
    "    print(n, factorial(n + 0))"
   ]
  },
  {
   "cell_type": "code",
   "execution_count": 17,
   "id": "552ce489-bc97-4c61-8d53-38e3594f1640",
   "metadata": {},
   "outputs": [
    {
     "name": "stdout",
     "output_type": "stream",
     "text": [
      "1\n",
      "8\n",
      "27\n",
      "64\n",
      "125\n",
      "216\n",
      "343\n",
      "512\n",
      "729\n",
      "1000\n"
     ]
    }
   ],
   "source": [
    "\"\"\"Question 3.\n",
    "Write a script that prints the first 10 cube numbers (x**3), starting with x=1 and ending with x=10.\"\"\"\n",
    "\n",
    "for x in range(1, 11):\n",
    "  print(x**3)"
   ]
  },
  {
   "cell_type": "code",
   "execution_count": 18,
   "id": "5e589740-51bc-4b83-a703-c262187f1835",
   "metadata": {},
   "outputs": [
    {
     "name": "stdout",
     "output_type": "stream",
     "text": [
      "0\n",
      "7\n",
      "14\n",
      "21\n",
      "28\n",
      "35\n",
      "42\n",
      "49\n",
      "56\n",
      "63\n",
      "70\n",
      "77\n",
      "84\n",
      "91\n",
      "98\n"
     ]
    }
   ],
   "source": [
    "\"\"\"Question 4.\n",
    "Write a script that prints the multiples of 7 between 0 and 100. \n",
    "Print one multiple per line and avoid printing any numbers that aren't multiples of 7. \n",
    "Remember that 0 is also a multiple of 7.\"\"\"\n",
    "\n",
    "for num in range(0, 100):\n",
    "    if (num % 7==0):\n",
    "        print(num)\n",
    "    else:\n",
    "        num += 1"
   ]
  },
  {
   "cell_type": "code",
   "execution_count": 20,
   "id": "0c1660e2-448b-4206-b6cd-d1e091a1d580",
   "metadata": {},
   "outputs": [
    {
     "ename": "NameError",
     "evalue": "name 'create_user' is not defined",
     "output_type": "error",
     "traceback": [
      "\u001b[1;31m---------------------------------------------------------------------------\u001b[0m",
      "\u001b[1;31mNameError\u001b[0m                                 Traceback (most recent call last)",
      "Input \u001b[1;32mIn [20]\u001b[0m, in \u001b[0;36m<cell line: 15>\u001b[1;34m()\u001b[0m\n\u001b[0;32m     12\u001b[0m         \u001b[38;5;28;01melse\u001b[39;00m:\n\u001b[0;32m     13\u001b[0m             \u001b[38;5;28mprint\u001b[39m(\u001b[38;5;124m\"\u001b[39m\u001b[38;5;124mAttempt \u001b[39m\u001b[38;5;124m\"\u001b[39m \u001b[38;5;241m+\u001b[39m \u001b[38;5;28mstr\u001b[39m(n) \u001b[38;5;241m+\u001b[39m \u001b[38;5;124m\"\u001b[39m\u001b[38;5;124m failed\u001b[39m\u001b[38;5;124m\"\u001b[39m)\n\u001b[1;32m---> 15\u001b[0m retry(\u001b[43mcreate_user\u001b[49m, \u001b[38;5;241m3\u001b[39m)\n\u001b[0;32m     16\u001b[0m retry(stop_service, \u001b[38;5;241m5\u001b[39m)\n",
      "\u001b[1;31mNameError\u001b[0m: name 'create_user' is not defined"
     ]
    }
   ],
   "source": [
    "\"\"\"Question 5.\n",
    "The retry function tries to execute an operation that might fail, it retries the operation for a number of attempts. \n",
    "Currently the code will keep executing the function even if it succeeds. \n",
    "Fill in the blank so the code stops trying after the operation succeeded.\"\"\"\n",
    "\n",
    "\n",
    "def retry(operation, attempts):\n",
    "    for n in range(attempts):\n",
    "        if operation():\n",
    "            print(\"Attempt \" + str(n) + \" succeeded\")\n",
    "            break\n",
    "        else:\n",
    "            print(\"Attempt \" + str(n) + \" failed\")\n",
    "\n",
    "retry(create_user, 3)\n",
    "retry(stop_service, 5)"
   ]
  },
  {
   "cell_type": "code",
   "execution_count": 21,
   "id": "9bfe57d0-ec9c-4f4c-8a75-3a75b442f4fa",
   "metadata": {},
   "outputs": [
    {
     "name": "stdout",
     "output_type": "stream",
     "text": [
      "6\n",
      "15\n"
     ]
    }
   ],
   "source": [
    "\"\"\"The function sum_positive_numbers should return the sum of all positive numbers between the number n received and 1.\n",
    "For example, when n is 3 it should return 1+2+3=6, and when n is 5 it should return 1+2+3+4+5=15.\n",
    "Fill in the gaps to make this work:\"\"\"\n",
    "\n",
    "def sum_positive_numbers(n):\n",
    "    # The base case is n being smaller than 1\n",
    "    if n < 1:\n",
    "        return n\n",
    "\n",
    "    # The recursive case is adding this number to \n",
    "    # the sum of the numbers smaller than this one.\n",
    "    return n + sum_positive_numbers(n - 1)\n",
    "\n",
    "print(sum_positive_numbers(3)) # Should be 6\n",
    "print(sum_positive_numbers(5)) # Should be 15"
   ]
  },
  {
   "cell_type": "markdown",
   "id": "63028f33-5b12-496b-8f59-4202ddf1ca90",
   "metadata": {},
   "source": [
    "# Additional Recursion Sources\n",
    "In the past videos, we visited the basic concepts of recursive functions.\n",
    "\n",
    "A recursive function must include a recursive case and base case. The recursive case calls the function again, with a different value. The base case returns a value without calling the same function.\n",
    "\n",
    "A recursive function will usually have this structure:"
   ]
  },
  {
   "cell_type": "code",
   "execution_count": 22,
   "id": "b0375378-21c0-497c-814c-e98a97f0fe59",
   "metadata": {},
   "outputs": [],
   "source": [
    "def recursive_function(parameters):\n",
    "    if base_case_condition(parameters):\n",
    "        return base_case_value\n",
    "    recursive_function(modified_parameters)"
   ]
  },
  {
   "cell_type": "code",
   "execution_count": 23,
   "id": "eba4b8f5-904d-4307-a2ab-c602e3bbbe40",
   "metadata": {},
   "outputs": [
    {
     "name": "stdout",
     "output_type": "stream",
     "text": [
      "True\n",
      "True\n",
      "False\n"
     ]
    }
   ],
   "source": [
    "\"\"\"Question 3.\n",
    "Fill in the blanks to make the is_power_of function return whether the number is a power of the given base.\n",
    "Note: base is assumed to be a positive number.\n",
    "Tip: for functions that return a boolean value, you can return the result of a comparison.\"\"\"\n",
    "\n",
    "def is_power_of(number, base):\n",
    "    # Base case: when number is smaller than base.\n",
    "    number = number/base\n",
    "    if number < base:\n",
    "        # If number is equal to 1, it's a power (base**0).\n",
    "        return False\n",
    "    else:\n",
    "        return True\n",
    "    # Recursive case: keep dividing number by base.\n",
    "    return is_power_of(number, base)\n",
    "\n",
    "print(is_power_of(8,2)) # Should be True\n",
    "print(is_power_of(64,4)) # Should be True\n",
    "print(is_power_of(70,10)) # Should be False"
   ]
  },
  {
   "cell_type": "code",
   "execution_count": 24,
   "id": "d9e270f5-cdc3-4e31-befd-5b082d95fdc0",
   "metadata": {},
   "outputs": [
    {
     "ename": "NameError",
     "evalue": "name 'get_members' is not defined",
     "output_type": "error",
     "traceback": [
      "\u001b[1;31m---------------------------------------------------------------------------\u001b[0m",
      "\u001b[1;31mNameError\u001b[0m                                 Traceback (most recent call last)",
      "Input \u001b[1;32mIn [24]\u001b[0m, in \u001b[0;36m<cell line: 14>\u001b[1;34m()\u001b[0m\n\u001b[0;32m     11\u001b[0m         count \u001b[38;5;241m+\u001b[39m\u001b[38;5;241m=\u001b[39m count_users(member) \u001b[38;5;241m-\u001b[39m \u001b[38;5;241m1\u001b[39m\n\u001b[0;32m     12\u001b[0m     \u001b[38;5;28;01mreturn\u001b[39;00m count\n\u001b[1;32m---> 14\u001b[0m \u001b[38;5;28mprint\u001b[39m(\u001b[43mcount_users\u001b[49m\u001b[43m(\u001b[49m\u001b[38;5;124;43m\"\u001b[39;49m\u001b[38;5;124;43msales\u001b[39;49m\u001b[38;5;124;43m\"\u001b[39;49m\u001b[43m)\u001b[49m) \u001b[38;5;66;03m# Should be 3\u001b[39;00m\n\u001b[0;32m     15\u001b[0m \u001b[38;5;28mprint\u001b[39m(count_users(\u001b[38;5;124m\"\u001b[39m\u001b[38;5;124mengineering\u001b[39m\u001b[38;5;124m\"\u001b[39m)) \u001b[38;5;66;03m# Should be 8\u001b[39;00m\n\u001b[0;32m     16\u001b[0m \u001b[38;5;28mprint\u001b[39m(count_users(\u001b[38;5;124m\"\u001b[39m\u001b[38;5;124meveryone\u001b[39m\u001b[38;5;124m\"\u001b[39m))\n",
      "Input \u001b[1;32mIn [24]\u001b[0m, in \u001b[0;36mcount_users\u001b[1;34m(group)\u001b[0m\n\u001b[0;32m      6\u001b[0m \u001b[38;5;28;01mdef\u001b[39;00m \u001b[38;5;21mcount_users\u001b[39m(group):\n\u001b[0;32m      7\u001b[0m     count \u001b[38;5;241m=\u001b[39m \u001b[38;5;241m0\u001b[39m\n\u001b[1;32m----> 8\u001b[0m     \u001b[38;5;28;01mfor\u001b[39;00m member \u001b[38;5;129;01min\u001b[39;00m \u001b[43mget_members\u001b[49m(group):\n\u001b[0;32m      9\u001b[0m         count \u001b[38;5;241m+\u001b[39m\u001b[38;5;241m=\u001b[39m \u001b[38;5;241m1\u001b[39m\n\u001b[0;32m     10\u001b[0m     \u001b[38;5;28;01mif\u001b[39;00m is_group(member):\n",
      "\u001b[1;31mNameError\u001b[0m: name 'get_members' is not defined"
     ]
    }
   ],
   "source": [
    "\"\"\"Question 4.\n",
    "The count_users function recursively counts the amount of users that belong to a group in the company system, by going \n",
    "through each of the members of a group and if one of them is a group, recursively calling the function and counting the members. \n",
    "But it has a bug! Can you spot the problem and fix it?\"\"\"\n",
    "\n",
    "def count_users(group):\n",
    "    count = 0\n",
    "    for member in get_members(group):\n",
    "        count += 1\n",
    "    if is_group(member):\n",
    "        count += count_users(member) - 1\n",
    "    return count\n",
    "\n",
    "print(count_users(\"sales\")) # Should be 3\n",
    "print(count_users(\"engineering\")) # Should be 8\n",
    "print(count_users(\"everyone\")) # Should be 18"
   ]
  },
  {
   "cell_type": "code",
   "execution_count": 25,
   "id": "5245a72a-df0d-4c0f-92b4-d780781ffdd1",
   "metadata": {},
   "outputs": [
    {
     "name": "stdout",
     "output_type": "stream",
     "text": [
      "6\n",
      "15\n"
     ]
    }
   ],
   "source": [
    "\"\"\"Question 5.\n",
    "Implement the sum_positive_numbers function, as a recursive function that returns the sum of all positive numbers between the number n received and 1. \n",
    "For example, when n is 3 it should return 1+2+3=6, and when n is 5 it should return 1+2+3+4+5=15.\"\"\"\n",
    "\n",
    "def sum_positive_numbers(n):\n",
    "    if n <= 1:\n",
    "        return n\n",
    "    return n + sum_positive_numbers(n - 1)\n",
    "\n",
    "print(sum_positive_numbers(3)) # Should be 6\n",
    "print(sum_positive_numbers(5)) # Should be 15"
   ]
  },
  {
   "cell_type": "code",
   "execution_count": 26,
   "id": "0cf944b0-af1a-426a-91b3-3e4c9a7dea3d",
   "metadata": {},
   "outputs": [
    {
     "name": "stdout",
     "output_type": "stream",
     "text": [
      "1 2 3 4 5 6 7 "
     ]
    }
   ],
   "source": [
    "\"\"\"\n",
    "1.Question 1\n",
    "Fill in the blanks of this code to print out the numbers 1 through 7.\n",
    "\n",
    "\"\"\"\n",
    "number = 1\n",
    "while number <= 7:\n",
    "\tprint(number, end=\" \")\n",
    "\tnumber +=1"
   ]
  },
  {
   "cell_type": "code",
   "execution_count": 27,
   "id": "788cd93c-3f64-48b3-a97f-fbc58553115d",
   "metadata": {},
   "outputs": [
    {
     "name": "stdout",
     "output_type": "stream",
     "text": [
      "H\n",
      "e\n",
      "l\n",
      "l\n",
      "o\n"
     ]
    }
   ],
   "source": [
    "\"\"\"\n",
    "2.Question 2\n",
    "The show_letters function should print out each letter of a word on a separate line. \n",
    "Fill in the blanks to make that happen.\n",
    "\n",
    "\"\"\"\n",
    "def show_letters(word):\n",
    "\tfor letter in word:\n",
    "\t\tprint(letter)\n",
    "\n",
    "show_letters(\"Hello\")\n",
    "# Should print one line per letter"
   ]
  },
  {
   "cell_type": "code",
   "execution_count": 28,
   "id": "f29771c0-7fd0-4e0f-a9d0-c7b319fd7c6a",
   "metadata": {},
   "outputs": [
    {
     "name": "stdout",
     "output_type": "stream",
     "text": [
      "2\n",
      "3\n",
      "4\n",
      "1\n"
     ]
    }
   ],
   "source": [
    "\"\"\"\n",
    "3.Question 3\n",
    "Complete the function digits(n) that returns how many digits the number has. \n",
    "For example: 25 has 2 digits and 144 has 3 digits. Tip: you can figure out the digits of a number by dividing \n",
    "it by 10 once per digit until there are no digits left.\n",
    "\n",
    "\"\"\"\n",
    "\n",
    "def digits(n):\n",
    "    count = str(n)\n",
    "    return len(count)\n",
    "    \t\n",
    "print(digits(25))   # Should print 2\n",
    "print(digits(144))  # Should print 3\n",
    "print(digits(1000)) # Should print 4\n",
    "print(digits(0))    # Should print 1"
   ]
  },
  {
   "cell_type": "code",
   "execution_count": 29,
   "id": "daf60e2d-5358-49b5-bee3-78768c79018c",
   "metadata": {},
   "outputs": [
    {
     "name": "stdout",
     "output_type": "stream",
     "text": [
      "1 2 3 \n",
      "2 4 6 \n",
      "3 6 9 \n"
     ]
    }
   ],
   "source": [
    "\"\"\"\n",
    "4.Question 4\n",
    "This function prints out a multiplication table (where each number is the result of multiplying the first number of its row by the number at the top of its column). Fill in the blanks so that calling multiplication_table(1, 3) will print out:\n",
    "\n",
    "1 2 3\n",
    "\n",
    "2 4 6\n",
    "\n",
    "3 6 9\n",
    "\n",
    "\"\"\"\n",
    "\n",
    "def multiplication_table(start, stop):\n",
    "\tfor x in range(start,stop + 1):\n",
    "\t\tfor y in range(start, stop + 1):\n",
    "\t\t\tprint(str(x * y), end=\" \")\n",
    "\t\tprint()\n",
    "\n",
    "multiplication_table(1, 3)\n",
    "# Should print the multiplication table shown above"
   ]
  },
  {
   "cell_type": "code",
   "execution_count": 30,
   "id": "5dae29f7-3ebf-418a-b93c-e6085f81a368",
   "metadata": {},
   "outputs": [
    {
     "name": "stdout",
     "output_type": "stream",
     "text": [
      "Counting up: 1,2,3,4,5,6,7,8,9,10\n",
      "Counting down: 2,1\n",
      "Counting up: 5\n"
     ]
    }
   ],
   "source": [
    "\"\"\"\n",
    "5.Question 5\n",
    "The counter function counts down from start to stop when start is bigger than stop, \n",
    "and counts up from start to stop otherwise. \n",
    "Fill in the blanks to make this work correctly.\n",
    "\"\"\"\n",
    "def counter(start, stop):\n",
    "\tx = start\n",
    "\tif x > stop:\n",
    "\t\treturn_string = \"Counting down: \"\n",
    "\t\twhile x >= stop:\n",
    "\t\t\treturn_string += str(x)\n",
    "\t\t\tif x>stop:\n",
    "\t\t\t\treturn_string += \",\"\n",
    "\t\t\tx = x-1\n",
    "\telse:\n",
    "\t\treturn_string = \"Counting up: \"\n",
    "\t\twhile x <= stop:\n",
    "\t\t\treturn_string += str(x)\n",
    "\t\t\tif x<stop:\n",
    "\t\t\t\treturn_string += \",\"\n",
    "\t\t\tx = x+1\n",
    "\treturn return_string\n",
    "\n",
    "print(counter(1, 10)) # Should be \"Counting up: 1,2,3,4,5,6,7,8,9,10\"\n",
    "print(counter(2, 1)) # Should be \"Counting down: 2,1\"\n",
    "print(counter(5, 5)) # Should be \"Counting up: 5\""
   ]
  },
  {
   "cell_type": "code",
   "execution_count": 45,
   "id": "08c5a989-e4ce-4f6f-8ce3-b47315759f91",
   "metadata": {},
   "outputs": [
    {
     "name": "stdout",
     "output_type": "stream",
     "text": [
      "2\n",
      "2\n",
      "None\n",
      "2\n",
      "None\n"
     ]
    }
   ],
   "source": [
    "def even_numbers(maximum):\n",
    "    return_string = \"\"\n",
    "    \n",
    "    for x in range(2, maximum+1):\n",
    "        if x % 2 == 0:\n",
    "            return_string += str(x) + \" \"\n",
    "        return return_string.strip()\n",
    "\n",
    "print(even_numbers(6))  # Should be 2 4 6\n",
    "print(even_numbers(10)) # Should be 2 4 6 8 10\n",
    "print(even_numbers(1))  # No numbers displayed\n",
    "print(even_numbers(3))  # Should be 2\n",
    "print(even_numbers(0))  # No numbers displayed"
   ]
  },
  {
   "cell_type": "code",
   "execution_count": 32,
   "id": "acc95870-38a7-4129-8bbe-20c0a5df1d95",
   "metadata": {},
   "outputs": [],
   "source": [
    "def decade_counter():\n",
    "\twhile year < 50:\n",
    "\t\tyear += 10\n",
    "\treturn year"
   ]
  },
  {
   "cell_type": "code",
   "execution_count": 46,
   "id": "949d4bf9-c950-4ae5-926e-a8e53e0abad6",
   "metadata": {},
   "outputs": [
    {
     "name": "stdout",
     "output_type": "stream",
     "text": [
      "1\n",
      "4\n",
      "7\n"
     ]
    }
   ],
   "source": [
    "for x in range(1, 10, 3):\n",
    "    print(x)"
   ]
  },
  {
   "cell_type": "code",
   "execution_count": 47,
   "id": "a2d08693-88f1-43a9-9050-af339473d924",
   "metadata": {},
   "outputs": [
    {
     "name": "stdout",
     "output_type": "stream",
     "text": [
      "0\n",
      "0\n",
      "1\n",
      "0\n",
      "1\n",
      "2\n",
      "0\n",
      "1\n",
      "2\n",
      "3\n",
      "0\n",
      "1\n",
      "2\n",
      "3\n",
      "4\n",
      "0\n",
      "1\n",
      "2\n",
      "3\n",
      "4\n",
      "5\n",
      "0\n",
      "1\n",
      "2\n",
      "3\n",
      "4\n",
      "5\n",
      "6\n",
      "0\n",
      "1\n",
      "2\n",
      "3\n",
      "4\n",
      "5\n",
      "6\n",
      "7\n",
      "0\n",
      "1\n",
      "2\n",
      "3\n",
      "4\n",
      "5\n",
      "6\n",
      "7\n",
      "8\n"
     ]
    }
   ],
   "source": [
    "for x in range(10):\n",
    "    for y in range(x):\n",
    "        print(y)"
   ]
  },
  {
   "cell_type": "code",
   "execution_count": 50,
   "id": "cc306583-a142-4ebb-b20a-efcfaa5d0677",
   "metadata": {},
   "outputs": [
    {
     "ename": "NameError",
     "evalue": "name 'yes' is not defined",
     "output_type": "error",
     "traceback": [
      "\u001b[1;31m---------------------------------------------------------------------------\u001b[0m",
      "\u001b[1;31mNameError\u001b[0m                                 Traceback (most recent call last)",
      "Input \u001b[1;32mIn [50]\u001b[0m, in \u001b[0;36m<cell line: 5>\u001b[1;34m()\u001b[0m\n\u001b[0;32m      2\u001b[0m \t\u001b[38;5;28;01mfor\u001b[39;00m vote \u001b[38;5;129;01min\u001b[39;00m params:\n\u001b[0;32m      3\u001b[0m \t    \u001b[38;5;28mprint\u001b[39m(\u001b[38;5;124m\"\u001b[39m\u001b[38;5;124mPossible option:\u001b[39m\u001b[38;5;124m\"\u001b[39m \u001b[38;5;241m+\u001b[39m vote)\n\u001b[1;32m----> 5\u001b[0m votes([\u001b[43myes\u001b[49m, no, maybe])\n",
      "\u001b[1;31mNameError\u001b[0m: name 'yes' is not defined"
     ]
    }
   ],
   "source": [
    "def votes(params):\n",
    "\tfor vote in params:\n",
    "\t    print(\"Possible option:\" + vote)\n",
    "        \n",
    "votes([yes, no, maybe])"
   ]
  },
  {
   "cell_type": "code",
   "execution_count": null,
   "id": "176ef6f9-a388-4905-befe-51cc258dc285",
   "metadata": {},
   "outputs": [],
   "source": []
  }
 ],
 "metadata": {
  "kernelspec": {
   "display_name": "Python 3 (ipykernel)",
   "language": "python",
   "name": "python3"
  },
  "language_info": {
   "codemirror_mode": {
    "name": "ipython",
    "version": 3
   },
   "file_extension": ".py",
   "mimetype": "text/x-python",
   "name": "python",
   "nbconvert_exporter": "python",
   "pygments_lexer": "ipython3",
   "version": "3.10.4"
  }
 },
 "nbformat": 4,
 "nbformat_minor": 5
}
