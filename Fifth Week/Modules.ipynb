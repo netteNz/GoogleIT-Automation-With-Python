{
 "cells": [
  {
   "cell_type": "markdown",
   "id": "c2178023-8edd-41b4-a9c0-5413f3ba236b",
   "metadata": {},
   "source": [
    "## Python Modules"
   ]
  },
  {
   "cell_type": "code",
   "execution_count": 2,
   "id": "b705258c-4e5b-4e76-b10d-9d8cf645946c",
   "metadata": {},
   "outputs": [
    {
     "data": {
      "text/plain": [
       "1"
      ]
     },
     "execution_count": 2,
     "metadata": {},
     "output_type": "execute_result"
    }
   ],
   "source": [
    "import random\n",
    "\n",
    "random.randint(1, 10)"
   ]
  },
  {
   "cell_type": "code",
   "execution_count": 3,
   "id": "fef02e0f-d583-424a-980d-58dae040c88a",
   "metadata": {},
   "outputs": [
    {
     "data": {
      "text/plain": [
       "2"
      ]
     },
     "execution_count": 3,
     "metadata": {},
     "output_type": "execute_result"
    }
   ],
   "source": [
    "random.randint(1, 10)"
   ]
  },
  {
   "cell_type": "code",
   "execution_count": 4,
   "id": "3c0d63f0-2dcc-4952-b239-6f3625d679d7",
   "metadata": {},
   "outputs": [
    {
     "data": {
      "text/plain": [
       "3"
      ]
     },
     "execution_count": 4,
     "metadata": {},
     "output_type": "execute_result"
    }
   ],
   "source": [
    "random.randint(1, 10)"
   ]
  },
  {
   "cell_type": "code",
   "execution_count": 7,
   "id": "2926d31e-1d59-49cb-98b0-ba24858cd0ec",
   "metadata": {},
   "outputs": [
    {
     "name": "stdout",
     "output_type": "stream",
     "text": [
      "2022-08-13 17:19:25.246433\n"
     ]
    }
   ],
   "source": [
    "import datetime\n",
    "now = datetime.datetime.now()\n",
    "print(now)"
   ]
  },
  {
   "cell_type": "markdown",
   "id": "a6990d48-86d2-4dae-9e71-f568bb94e300",
   "metadata": {},
   "source": [
    "# Augmenting Python with Modules\n",
    "\n",
    "Python modules are separate files that contain classes, functions, and other data that allow us to import and make use of these methods and classes in our own code. Python comes with a lot of modules out of the box. These modules are referred to as the Python Standard Library. You can make use of these modules by using the import keyword, followed by the module name. For example, we'll import the random module, and then call the randint function within this module:\n",
    "\n",
    "```python\n",
    ">>> import random\n",
    ">>> random.randint(1,10)\n",
    "8\n",
    ">>> random.randint(1,10)\n",
    "7\n",
    ">>> random.randint(1,10)\n",
    "1\n",
    "```\n",
    "\n",
    "This function takes two integer parameters and returns a random integer between the values we pass it; in this case, 1 and 10. You might notice that calling functions in a module is very similar to calling methods in a class. We use dot notation here too, with a period between the module and function names.\n",
    "\n",
    "Let's take a look at another module: datetime. This module is super helpful when working with dates and times.\n",
    "\n",
    "```python\n",
    ">>> import datetime\n",
    ">>> now = datetime.datetime.now()\n",
    ">>> type(now)\n",
    "<class 'datetime.datetime'>\n",
    ">>> print(now)\n",
    "2019-04-24 16:54:55.155199\n",
    "```\n",
    "First, we import the module. Next, we call the now() method which belongs to the datetime class contained within the datetime module. This method generates an instance of the datetime class for the current date and time. This instance has some methods which we can call:\n",
    "\n",
    "```python\n",
    ">>> print(now)\n",
    "2019-04-24 16:54:55.155199\n",
    ">>> now.year\n",
    "2019\n",
    ">>> print(now + datetime.timedelta(days=28))\n",
    "2019-05-22 16:54:55.155199\n",
    "```\n",
    "\n",
    "When we call the print function with an instance of the datetime class, we get the date and time printed in a specific format. This is because the datetime class has a __str__ method defined which generates the formatted string we see here. We can also directly call attributes and methods of the class, as with now.year which returns the year attribute of the instance.\n",
    "\n",
    "Lastly, we can access other classes contained in the datetime module, like the timedelta class. In this example, we’re creating an instance of the timedelta class with the parameter of 28 days. We’re then adding this object to our instance of the datetime class from earlier and printing the result. This has the effect of adding 28 days to our original datetime object."
   ]
  },
  {
   "cell_type": "code",
   "execution_count": null,
   "id": "d3cf445a-e56b-4e6c-b443-24a7a62af3bc",
   "metadata": {},
   "outputs": [],
   "source": []
  }
 ],
 "metadata": {
  "kernelspec": {
   "display_name": "Python 3 (ipykernel)",
   "language": "python",
   "name": "python3"
  },
  "language_info": {
   "codemirror_mode": {
    "name": "ipython",
    "version": 3
   },
   "file_extension": ".py",
   "mimetype": "text/x-python",
   "name": "python",
   "nbconvert_exporter": "python",
   "pygments_lexer": "ipython3",
   "version": "3.10.4"
  }
 },
 "nbformat": 4,
 "nbformat_minor": 5
}
