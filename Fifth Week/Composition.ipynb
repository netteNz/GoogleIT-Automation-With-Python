{
 "cells": [
  {
   "cell_type": "code",
   "execution_count": 1,
   "id": "9d8e7245-5124-425f-b1d0-ea27bcd07523",
   "metadata": {},
   "outputs": [],
   "source": [
    "class Repository:\n",
    "    def __init__(self):\n",
    "        self.packages = {}\n",
    "        \n",
    "    def add_package(self, package):\n",
    "        self.packages[package.name] = package\n",
    "        \n",
    "    def total_size(self):\n",
    "        result = 0\n",
    "        for package in self.packages.values():\n",
    "            result += package.size\n",
    "        return result"
   ]
  },
  {
   "cell_type": "code",
   "execution_count": 7,
   "id": "8a47266e-6de4-4933-800b-c331e9c8a4e0",
   "metadata": {},
   "outputs": [
    {
     "name": "stdout",
     "output_type": "stream",
     "text": [
      "10\n"
     ]
    }
   ],
   "source": [
    "\"\"\"Let’s expand a bit on our Clothing classes from the previous in-video question. \n",
    "Your mission: Finish the \"Stock_by_Material\" method and iterate over\n",
    "the amount of each item of a given material that is in stock. \n",
    "When you’re finished, the script should add up to 10 cotton Polo shirts.\"\"\"\n",
    "\n",
    "\n",
    "class Clothing:\n",
    "    stock={ 'name': [],'material' :[], 'amount':[]}\n",
    "    \n",
    "    \n",
    "    def __init__(self,name):\n",
    "        material = \"\"\n",
    "        self.name = name\n",
    "        \n",
    "    def add_item(self, name, material, amount):\n",
    "        Clothing.stock['name'].append(self.name)\n",
    "        Clothing.stock['material'].append(self.material)\n",
    "        Clothing.stock['amount'].append(amount)\n",
    "    def Stock_by_Material(self, material):\n",
    "        count = 0\n",
    "        n = 0\n",
    "        for item in Clothing.stock['material']:\n",
    "            if item == material:\n",
    "                count += Clothing.stock['amount'][n]\n",
    "            n+=1\n",
    "        return count\n",
    "\n",
    "class shirt(Clothing):\n",
    "    material=\"Cotton\"\n",
    "class pants(Clothing):\n",
    "    material=\"Cotton\"\n",
    "    \n",
    "polo = shirt(\"Polo\")\n",
    "sweatpants = pants(\"Sweatpants\")\n",
    "polo.add_item(polo.name, polo.material, 4)\n",
    "sweatpants.add_item(sweatpants.name, sweatpants.material, 6)\n",
    "current_stock = polo.Stock_by_Material(\"Cotton\")\n",
    "print(current_stock)"
   ]
  },
  {
   "cell_type": "markdown",
   "id": "54c6b779-26f2-4dd9-88df-2423d6f00d6e",
   "metadata": {},
   "source": [
    "# Object Composition\n",
    "\n",
    "You can have a situation where two different classes are related, but there is no inheritance going on. This is referred to as **composition** -- where one class makes use of code contained in another class. For example, imagine we have a **Package** class which represents a software package. It contains attributes about the software package, like name, version, and size. We also have a **Repository** class which represents all the packages available for installation. While there’s no inheritance relationship between the two classes, they are related. The Repository class will contain a dictionary or list of Packages that are contained in the repository. Let's take a look at an example Repository class definition:\n",
    "\n",
    "```python\n",
    "class Repository:\n",
    "    \n",
    "    def __init__(self):\n",
    "        self.packages = {}\n",
    "        \n",
    "    def add_package(self, package):\n",
    "        self.packages[package.name] = package\n",
    "        \n",
    "    def total_size(self):\n",
    "        result = 0\n",
    "        for package in self.packages.values():\n",
    "            result += package.size\n",
    "        return result\n",
    "```\n",
    "\n",
    "In the constructor method, we initialize the packages dictionary, which will contain the package objects available in this repository instance. We initialize the dictionary in the constructor to ensure that every instance of the Repository class has its own dictionary.\n",
    "\n",
    "We then define the add_package method, which takes a Package object as a parameter, and then adds it to our dictionary, using the package name attribute as the key.\n",
    "\n",
    "Finally, we define a total_size method which computes the total size of all packages contained in our repository. This method iterates through the values in our repository dictionary and adds together the size attributes from each package object contained in the dictionary, returning the total at the end. In this example, we’re making use of Package attributes within our Repository class. We’re also calling the values() method on our packages dictionary instance. Composition allows us to use objects as attributes, as well as access all their attributes and methods."
   ]
  },
  {
   "cell_type": "code",
   "execution_count": null,
   "id": "51c73b36-646f-4a20-a401-3dac07d472b1",
   "metadata": {},
   "outputs": [],
   "source": []
  }
 ],
 "metadata": {
  "kernelspec": {
   "display_name": "Python 3 (ipykernel)",
   "language": "python",
   "name": "python3"
  },
  "language_info": {
   "codemirror_mode": {
    "name": "ipython",
    "version": 3
   },
   "file_extension": ".py",
   "mimetype": "text/x-python",
   "name": "python",
   "nbconvert_exporter": "python",
   "pygments_lexer": "ipython3",
   "version": "3.10.4"
  }
 },
 "nbformat": 4,
 "nbformat_minor": 5
}
