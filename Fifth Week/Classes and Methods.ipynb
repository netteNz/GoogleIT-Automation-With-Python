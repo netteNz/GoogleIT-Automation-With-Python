{
 "cells": [
  {
   "cell_type": "markdown",
   "id": "e00f1a47-b475-487e-b26e-677dc26012ba",
   "metadata": {},
   "source": [
    "## Classes And Methods"
   ]
  },
  {
   "cell_type": "code",
   "execution_count": 3,
   "id": "fa2f79e7-f740-4af9-a194-c337de26c3a3",
   "metadata": {},
   "outputs": [
    {
     "name": "stdout",
     "output_type": "stream",
     "text": [
      "oink oink\n"
     ]
    }
   ],
   "source": [
    "# Instance Methods\n",
    "# self parameter represents the instance that the method is being executed on\n",
    "\n",
    "class Piglet:    \n",
    "    def speak(self):\n",
    "        print(\"oink oink\")\n",
    "\n",
    "hamlet = Piglet()\n",
    "hamlet.speak()"
   ]
  },
  {
   "cell_type": "code",
   "execution_count": 5,
   "id": "db8aae82-13f6-488b-ae9e-5846b69e7fc2",
   "metadata": {},
   "outputs": [
    {
     "name": "stdout",
     "output_type": "stream",
     "text": [
      "Oink! I'm Hamlet! Oink!\n"
     ]
    }
   ],
   "source": [
    "class Piglet:\n",
    "    \n",
    "    name = \"piglet\"\n",
    "    \n",
    "    def speak(self):\n",
    "        print(\"Oink! I'm {}! Oink!\".format(self.name))\n",
    "\n",
    "hamlet = Piglet()\n",
    "hamlet.name = \"Hamlet\"\n",
    "hamlet.speak()"
   ]
  },
  {
   "cell_type": "code",
   "execution_count": 7,
   "id": "2ec664a7-4ec2-4266-8546-ab69b2c2aaff",
   "metadata": {},
   "outputs": [
    {
     "name": "stdout",
     "output_type": "stream",
     "text": [
      "Oink! I'm Petunia! Oink!\n"
     ]
    }
   ],
   "source": [
    "class Piglet:\n",
    "    \n",
    "    name = \"piglet\"\n",
    "    \n",
    "    def speak(self):\n",
    "        print(\"Oink! I'm {}! Oink!\".format(self.name))\n",
    "\n",
    "petunia = Piglet()\n",
    "petunia.name = \"Petunia\"\n",
    "petunia.speak()"
   ]
  },
  {
   "cell_type": "markdown",
   "id": "f3b5a334-b520-4a70-83c0-ac118e194dd8",
   "metadata": {},
   "source": [
    "### Variables that have different values for different instances of the same class are called instance variables"
   ]
  },
  {
   "cell_type": "code",
   "execution_count": 9,
   "id": "a83cd486-a6fc-4f45-b693-42e45f344bc5",
   "metadata": {},
   "outputs": [
    {
     "name": "stdout",
     "output_type": "stream",
     "text": [
      "0\n",
      "36\n"
     ]
    }
   ],
   "source": [
    "class Piglet:\n",
    "    \n",
    "    years = 0\n",
    "    \n",
    "    def pig_years(self):\n",
    "        return self.years * 18\n",
    "\n",
    "\n",
    "piggy = Piglet()\n",
    "print(piggy.pig_years())\n",
    "\n",
    "piggy.years = 2\n",
    "print(piggy.pig_years())"
   ]
  },
  {
   "cell_type": "code",
   "execution_count": 10,
   "id": "59261a60-bd4b-4f33-b9af-432510abea36",
   "metadata": {},
   "outputs": [
    {
     "name": "stdout",
     "output_type": "stream",
     "text": [
      "21\n"
     ]
    }
   ],
   "source": [
    "\"\"\"Create a Dog class with dog_years based on the Piglet class shown before (one human year is about 7 dog years).\"\"\"\n",
    "\n",
    "class Dog:\n",
    "    \n",
    "    years = 0\n",
    "    \n",
    "    def dog_years(self):\n",
    "        return self.years * 7\n",
    "    \n",
    "fido=Dog()\n",
    "fido.years=3\n",
    "\n",
    "print(fido.dog_years())"
   ]
  },
  {
   "cell_type": "markdown",
   "id": "fb62ca39-5bfc-4041-9420-2891e138f6c7",
   "metadata": {
    "tags": []
   },
   "source": [
    "## What Is a Method?\n",
    "\n",
    "Calling methods on objects executes functions that operate on attributes of a specific instance of the class. This means that calling a method on a list, for example, only modifies that instance of a list, and not all lists globally. We can define methods within a class by creating functions inside the class definition. These instance methods can take a parameter called **self** which represents the instance the method is being executed on. This will allow you to access attributes of the instance using dot notation, like **self.name**, which will access the name attribute of that specific instance of the class object. When you have variables that contain different values for different instances, these are called instance variables."
   ]
  },
  {
   "cell_type": "markdown",
   "id": "07ecc78f-73e8-4be5-ac94-b28024bd59de",
   "metadata": {},
   "source": [
    "### Constructors and Other Special Methods"
   ]
  },
  {
   "cell_type": "code",
   "execution_count": 20,
   "id": "4a72650f-0556-4092-9682-891a77412384",
   "metadata": {},
   "outputs": [
    {
     "name": "stdout",
     "output_type": "stream",
     "text": [
      "This apple is red and its flavor is sweet\n"
     ]
    }
   ],
   "source": [
    "class Apple:\n",
    "    \n",
    "    def __init__(self, color, flavor):\n",
    "        self.color = color\n",
    "        self.flavor = flavor\n",
    "    \n",
    "    def __str__(self):\n",
    "        return \"This apple is {} and its flavor is {}\".format(self.color, self.flavor)\n",
    "        \n",
    "jonagold = Apple(\"red\", \"sweet\")\n",
    "print(jonagold)"
   ]
  },
  {
   "cell_type": "code",
   "execution_count": 19,
   "id": "58f727f2-7034-4237-88f7-e3ffc92ee477",
   "metadata": {},
   "outputs": [
    {
     "name": "stdout",
     "output_type": "stream",
     "text": [
      "hi, my name is emanuel\n"
     ]
    }
   ],
   "source": [
    "\"\"\"In this code, there's a Person class that has an attribute name, which gets set when constructing the object. \n",
    "Fill in the blanks so that 1) when an instance of the class is created, the attribute gets set correctly, and \n",
    "2) when the greeting() method is called, the greeting states the assigned name.\"\"\"\n",
    "\n",
    "class Person:\n",
    "    def __init__(self, name):\n",
    "        self.name = name\n",
    "\n",
    "    def greeting(self):\n",
    "        # Should return \"hi, my name is \" followed by the name of the Person.\n",
    "        return \"hi, my name is \" + self.name\n",
    "\n",
    "# Create a new instance with a name of your choice\n",
    "some_person = Person(\"emanuel\")\n",
    "# Call the greeting method\n",
    "print(some_person.greeting())"
   ]
  },
  {
   "cell_type": "markdown",
   "id": "f51a8837-e91f-4b53-a9c1-426f4da724fe",
   "metadata": {},
   "source": [
    "# Special Methods\n",
    "\n",
    "Instead of creating classes with empty or default values, we can set these values when we create the instance. This ensures that we don't miss an important value and avoids a lot of unnecessary lines of code. To do this, we use a special method called a **constructor**. Below is an example of an Apple class with a constructor method defined.\n",
    "\n",
    "```python\n",
    "class Apple:\n",
    "    def __init__(self, color, flavor):\n",
    "        self.color = color\n",
    "        self.flavor = flavor\n",
    "```\n",
    "When you call the name of a class, the constructor of that class is called. This constructor method is always named **__init__**. You might remember that special methods start and end with two underscore characters. In our example above, the constructor method takes the self variable, which represents the instance, as well as color and flavor parameters. These parameters are then used by the constructor method to set the values for the current instance. So we can now create a new instance of the Apple class and set the color and flavor values all in go:\n",
    "\n",
    "```python\n",
    "jonagold = Apple(\"red\", \"sweet\")\n",
    "print(jonagold.color)\n",
    "Red\n",
    "```\n",
    "In addition to the **__init__** constructor special method, there is also the **__str__** special method. This method allows us to define how an instance of an object will be printed when it’s passed to the print() function. If an object doesn’t have this special method defined, it will wind up using the default representation, which will print the position of the object in memory. Not super useful. Here is our Apple class, with the **__str__** method added:\n",
    "\n",
    "```python\n",
    "class Apple:\n",
    "    \n",
    "    def __init__(self, color, flavor):\n",
    "        self.color = color\n",
    "        self.flavor = flavor\n",
    "        \n",
    "    def __str__(self):\n",
    "        return \"This apple is {} and its flavor is {}\".format(self.color, self.flavor)\n",
    "```\n",
    "Now, when we pass an Apple object to the print function, we get a nice formatted string:\n",
    "\n",
    "```python\n",
    ">>> jonagold = Apple(\"red\", \"sweet\")\n",
    ">>> print(jonagold)\n",
    "```\n",
    "This apple is red and its flavor is sweet\n",
    "\n",
    "It's good practice to think about how your class might be used and to define a __str__ method when creating objects that you may want to print later."
   ]
  },
  {
   "cell_type": "code",
   "execution_count": null,
   "id": "b08580ab-2fb9-4a40-a8d5-e6eea299359d",
   "metadata": {},
   "outputs": [],
   "source": []
  }
 ],
 "metadata": {
  "kernelspec": {
   "display_name": "Python 3 (ipykernel)",
   "language": "python",
   "name": "python3"
  },
  "language_info": {
   "codemirror_mode": {
    "name": "ipython",
    "version": 3
   },
   "file_extension": ".py",
   "mimetype": "text/x-python",
   "name": "python",
   "nbconvert_exporter": "python",
   "pygments_lexer": "ipython3",
   "version": "3.10.4"
  }
 },
 "nbformat": 4,
 "nbformat_minor": 5
}
