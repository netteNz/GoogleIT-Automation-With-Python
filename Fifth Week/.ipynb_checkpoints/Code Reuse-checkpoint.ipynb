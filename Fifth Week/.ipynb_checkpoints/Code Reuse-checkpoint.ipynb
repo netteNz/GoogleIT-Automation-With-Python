{
 "cells": [
  {
   "cell_type": "markdown",
   "id": "c5066c5c-e389-4bd0-be09-4fccca8f4110",
   "metadata": {},
   "source": [
    "# Code Reuse"
   ]
  },
  {
   "cell_type": "markdown",
   "id": "cd7588ff-0350-4787-8fed-42e09f2faffd",
   "metadata": {},
   "source": [
    "Let’s put what we learned about code reuse all together. \n",
    "<br><br>\n",
    "First, let’s look back at **inheritance**. Run the following cell that defines a generic `Animal` class. "
   ]
  },
  {
   "cell_type": "code",
   "execution_count": 1,
   "id": "eb61cdce-656d-4e92-a0df-25ec00fe343d",
   "metadata": {},
   "outputs": [],
   "source": [
    "class Animal:\n",
    "    name = \"\"\n",
    "    category = \"\"\n",
    "    \n",
    "    def __init__(self, name):\n",
    "        self.name = name\n",
    "    \n",
    "    def set_category(self, category):\n",
    "        self.category = category"
   ]
  },
  {
   "cell_type": "markdown",
   "id": "90a762af-1058-4909-beb2-deb7b17c4ff7",
   "metadata": {},
   "source": [
    "What we have is not enough to do much -- yet. That’s where you come in. \n",
    "<br><br>\n",
    "In the next cell, define a `Turtle` class that inherits from the `Animal` class. Then go ahead and set its category. For instance, a turtle is generally considered a reptile. Although modern cladistics call this categorization into question, for purposes of this exercise we will say turtles are reptiles! "
   ]
  },
  {
   "cell_type": "code",
   "execution_count": 2,
   "id": "35ef5c10-2b7f-45d7-8e63-8da95048ed53",
   "metadata": {},
   "outputs": [],
   "source": [
    "class Turtle(Animal):\n",
    "    category = \"reptile\""
   ]
  },
  {
   "cell_type": "code",
   "execution_count": 3,
   "id": "c409f9e9-674e-49d6-afd1-5e117c31cae6",
   "metadata": {},
   "outputs": [
    {
     "name": "stdout",
     "output_type": "stream",
     "text": [
      "reptile\n"
     ]
    }
   ],
   "source": [
    "print(Turtle.category)"
   ]
  },
  {
   "cell_type": "markdown",
   "id": "344740f7-4329-4931-90eb-6c62965ba091",
   "metadata": {},
   "source": [
    "Was the output of the above cell reptile? If not, go back and edit your `Turtle` class making sure that it inherits from the `Animal` class and its category is properly set to reptile. Be sure to re-run that cell once you've finished your edits. Did you get it? If so, great!\n",
    "\n",
    "Next, let’s practice composition a little bit. This one will require a second type of Animal that is in the same category as the first. For example, since you already created a Turtle class, go ahead and create a Snake class. Don’t forget that it also inherits from the Animal class and that its category should be set to reptile."
   ]
  },
  {
   "cell_type": "code",
   "execution_count": 4,
   "id": "c83977d1-1055-46b6-be73-4357345f65a7",
   "metadata": {},
   "outputs": [],
   "source": [
    "class Snake(Animal):\n",
    "    category = \"reptile\""
   ]
  },
  {
   "cell_type": "markdown",
   "id": "96a60045-e55d-4a7d-98e4-b70cab97f1c3",
   "metadata": {},
   "source": [
    "Now, let’s say we have a large variety of `Animal`s (such as turtles and snakes) in a Zoo. Below we have the `Zoo` class. We’re going to use it to organize our various `Animal`s. Remember, inheritance says a Turtle is an `Animal`, but a `Zoo` is not an `Animal` and an `Animal` is not a `Zoo` -- though they are related to one another. "
   ]
  },
  {
   "cell_type": "markdown",
   "id": "d9df66cf-04ca-46cf-8a89-b8c262aa9ed7",
   "metadata": {},
   "source": [
    "Fill in the blanks of the `Zoo` class below so that you can use **zoo.add_animal( )** to add instances of the `Animal` subclasses you created above. Once you’ve added them all, you should be able to use **zoo.total_of_category( )** to tell you exactly how many individual `Animal` types the `Zoo` has for each category! Be sure to run the cell once you've finished your edits."
   ]
  },
  {
   "cell_type": "code",
   "execution_count": 5,
   "id": "c11bbfb1-4bd4-4cbc-9075-b11905e8cd5b",
   "metadata": {},
   "outputs": [],
   "source": [
    "class Zoo:\n",
    "    def __init__(self):\n",
    "        self.current_animals = {}\n",
    "    \n",
    "    def add_animal(self, animal):\n",
    "        self.current_animals[animal.name] = animal.category\n",
    "    \n",
    "    def total_of_category(self, category):\n",
    "        result = 0\n",
    "        for animal in self.current_animals.values():\n",
    "            if animal == category:\n",
    "                result += 1\n",
    "        return result\n",
    "\n",
    "zoo = Zoo()"
   ]
  },
  {
   "cell_type": "code",
   "execution_count": 6,
   "id": "5aaeb185-d424-4741-a6f6-c18e65337160",
   "metadata": {},
   "outputs": [
    {
     "name": "stdout",
     "output_type": "stream",
     "text": [
      "2\n"
     ]
    }
   ],
   "source": [
    "turtle = Turtle(\"Turtle\") #create an instance of the Turtle class\n",
    "snake = Snake(\"Snake\") #create an instance of the Snake class\n",
    "\n",
    "zoo.add_animal(turtle)\n",
    "zoo.add_animal(snake)\n",
    "\n",
    "print(zoo.total_of_category(\"reptile\")) #how many zoo animal types in the reptile category"
   ]
  },
  {
   "cell_type": "markdown",
   "id": "750293e0-66ec-43d6-b5df-facc2ce0bb91",
   "metadata": {},
   "source": [
    "Was the output of the above cell 2? If not, go back and edit the `Zoo` class making sure to fill in the blanks with the appropriate attributes. Be sure to re-run that cell once you've finished your edits.  \n",
    "<br>\n",
    "Did you get it? If so, perfect! You have successfully defined your `Turtle` and `Snake` subclasses as well as your `Zoo` class.  You are all done with this notebook. Great work!"
   ]
  },
  {
   "cell_type": "code",
   "execution_count": null,
   "id": "1d0dd48f-ac13-417c-9fff-c4aa72e1f772",
   "metadata": {},
   "outputs": [],
   "source": []
  }
 ],
 "metadata": {
  "kernelspec": {
   "display_name": "Python 3 (ipykernel)",
   "language": "python",
   "name": "python3"
  },
  "language_info": {
   "codemirror_mode": {
    "name": "ipython",
    "version": 3
   },
   "file_extension": ".py",
   "mimetype": "text/x-python",
   "name": "python",
   "nbconvert_exporter": "python",
   "pygments_lexer": "ipython3",
   "version": "3.10.4"
  }
 },
 "nbformat": 4,
 "nbformat_minor": 5
}
