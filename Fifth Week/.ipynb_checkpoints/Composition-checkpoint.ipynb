{
 "cells": [
  {
   "cell_type": "code",
   "execution_count": 1,
   "id": "9d8e7245-5124-425f-b1d0-ea27bcd07523",
   "metadata": {},
   "outputs": [],
   "source": [
    "class Repository:\n",
    "    def __init__(self):\n",
    "        self.packages = {}\n",
    "        \n",
    "    def add_package(self, package):\n",
    "        self.packages[package.name] = package\n",
    "        \n",
    "    def total_size(self):\n",
    "        result = 0\n",
    "        for package in self.packages.values():\n",
    "            result += package.size\n",
    "        return result"
   ]
  },
  {
   "cell_type": "code",
   "execution_count": 5,
   "id": "8a47266e-6de4-4933-800b-c331e9c8a4e0",
   "metadata": {},
   "outputs": [],
   "source": [
    "\"\"\"Let’s expand a bit on our Clothing classes from the previous in-video question. \n",
    "Your mission: Finish the \"Stock_by_Material\" method and iterate over\n",
    "the amount of each item of a given material that is in stock. \n",
    "When you’re finished, the script should add up to 10 cotton Polo shirts.\"\"\"\n",
    "\n",
    "\n",
    "class Clothing:\n",
    "    \n",
    "    stock={'name': [],'material' :[], 'amount':[]}\n",
    "    \n",
    "    def __init__(self,name):\n",
    "        material = \"\"\n",
    "        self.name = name\n",
    "        \n",
    "    def add_item(self, name, material, amount):\n",
    "        Clothing.stock['name'].append(self.name)\n",
    "        Clothing.stock['material'].append(self.material)\n",
    "        Clothing.stock['amount'].append(amount)\n",
    "        \n",
    "    def Stock_by_Material(self, material):\n",
    "        count=0\n",
    "        n=0\n",
    "        for item in Clothing.stock['']:\n",
    "            if item == material:\n",
    "                count += Clothing.size['amount'][n]\n",
    "            n += 1\n",
    "        return count"
   ]
  },
  {
   "cell_type": "code",
   "execution_count": null,
   "id": "c16a6743-1b54-4966-8472-3a186afdfb25",
   "metadata": {},
   "outputs": [],
   "source": []
  }
 ],
 "metadata": {
  "kernelspec": {
   "display_name": "Python 3 (ipykernel)",
   "language": "python",
   "name": "python3"
  },
  "language_info": {
   "codemirror_mode": {
    "name": "ipython",
    "version": 3
   },
   "file_extension": ".py",
   "mimetype": "text/x-python",
   "name": "python",
   "nbconvert_exporter": "python",
   "pygments_lexer": "ipython3",
   "version": "3.10.4"
  }
 },
 "nbformat": 4,
 "nbformat_minor": 5
}
