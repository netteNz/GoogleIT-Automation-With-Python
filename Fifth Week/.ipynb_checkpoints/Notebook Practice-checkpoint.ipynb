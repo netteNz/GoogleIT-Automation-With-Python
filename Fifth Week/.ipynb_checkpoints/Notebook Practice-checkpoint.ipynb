{
 "cells": [
  {
   "cell_type": "markdown",
   "id": "89f5eb59-85c2-4fb8-b772-620041987630",
   "metadata": {},
   "source": [
    "# Practice Notebook: Methods and Classes\n",
    "The code below defines an *Elevator* class. The elevator has a current floor, it also has a top and a bottom floor that are the minimum and maximum floors it can go to. Fill in the blanks to make the elevator go through the floors requested."
   ]
  },
  {
   "cell_type": "code",
   "execution_count": 6,
   "id": "4307fa7d-560d-4be5-95dd-a6ecc8898581",
   "metadata": {},
   "outputs": [],
   "source": [
    "class Elevator:\n",
    "    def __init__(self, bottom, top, current):\n",
    "        \"\"\"Initializes the Elevator instance.\"\"\"\n",
    "        self.bottom = bottom\n",
    "        self.top = top\n",
    "        self.current = current\n",
    "    def __str__(self):\n",
    "        \"\"\"Information of the current floor\"\"\"\n",
    "        return \"Current floor: {}\".format(self.current)\n",
    "        \n",
    "    def up(self):\n",
    "        \"\"\"Makes the elevator go up one floor.\"\"\"\n",
    "        if self.current < self.top:\n",
    "            self.current += 1\n",
    "        else:\n",
    "            self.current = self.current\n",
    "            \n",
    "    def down(self):\n",
    "        \"\"\"Makes the elevator go down one floor.\"\"\"\n",
    "        if self.current > self.bottom:\n",
    "            self.current -= 1\n",
    "        else:\n",
    "            self.current = self.current\n",
    "    def go_to(self, floor):\n",
    "        \"\"\"Makes the elevator go to the specific floor.\"\"\"\n",
    "        self.current = floor\n",
    "\n",
    "elevator = Elevator(-1, 10, 0)"
   ]
  },
  {
   "cell_type": "code",
   "execution_count": 2,
   "id": "3e7d447d-98f9-4a4f-a94c-7684cfc6984d",
   "metadata": {},
   "outputs": [
    {
     "data": {
      "text/plain": [
       "1"
      ]
     },
     "execution_count": 2,
     "metadata": {},
     "output_type": "execute_result"
    }
   ],
   "source": [
    "elevator.up()\n",
    "elevator.current"
   ]
  },
  {
   "cell_type": "code",
   "execution_count": 3,
   "id": "61fc921d-64a5-4101-b3d1-90166de6611a",
   "metadata": {},
   "outputs": [
    {
     "data": {
      "text/plain": [
       "0"
      ]
     },
     "execution_count": 3,
     "metadata": {},
     "output_type": "execute_result"
    }
   ],
   "source": [
    "elevator.down()\n",
    "elevator.current"
   ]
  },
  {
   "cell_type": "code",
   "execution_count": 4,
   "id": "45e3e1a8-dcc1-4402-9b77-995e5d4db12d",
   "metadata": {},
   "outputs": [
    {
     "data": {
      "text/plain": [
       "10"
      ]
     },
     "execution_count": 4,
     "metadata": {},
     "output_type": "execute_result"
    }
   ],
   "source": [
    "elevator.go_to(10)\n",
    "elevator.current"
   ]
  },
  {
   "cell_type": "markdown",
   "id": "43865673-afcd-46bc-907f-3ec028914552",
   "metadata": {},
   "source": [
    "For the up and down methods, did you take into account the top and bottom floors? Keep in mind that the elevator shouldn't go above the top floor or below the bottom floor. To check that out, try the code below and verify if it's working as expected. If it's not, then go back and modify the methods so that this code behaves correctly."
   ]
  },
  {
   "cell_type": "code",
   "execution_count": 5,
   "id": "fee65003-9725-4a3f-b9fa-52b266af2cd5",
   "metadata": {},
   "outputs": [
    {
     "name": "stdout",
     "output_type": "stream",
     "text": [
      "9\n",
      "1\n"
     ]
    }
   ],
   "source": [
    "# Go to the top floor. Try to go up, it should stay. Then go down.\n",
    "elevator.go_to(10)\n",
    "elevator.up()\n",
    "elevator.down()\n",
    "print(elevator.current) # should be 9\n",
    "# Go to the bottom floor. Try to go down, it should stay. Then go up.\n",
    "elevator.go_to(-1)\n",
    "elevator.down()\n",
    "elevator.down()\n",
    "elevator.up()\n",
    "elevator.up()\n",
    "print(elevator.current) # should be 1"
   ]
  },
  {
   "cell_type": "markdown",
   "id": "4aff50df-f304-4e87-b53b-5406d42cdc2c",
   "metadata": {},
   "source": [
    "Now add the __str__ method to your *Elevator* class definition above so that when printing the elevator using the **print( )** method, we get the current floor together with a message. For example, in the 5th floor it should say \"Current floor: 5\""
   ]
  },
  {
   "cell_type": "code",
   "execution_count": 7,
   "id": "9caffd6b-4524-4f80-9784-2ed5c9cc39a3",
   "metadata": {},
   "outputs": [
    {
     "name": "stdout",
     "output_type": "stream",
     "text": [
      "Current floor: 5\n"
     ]
    }
   ],
   "source": [
    "elevator.go_to(5)\n",
    "print(elevator)"
   ]
  },
  {
   "cell_type": "markdown",
   "id": "18e4415a-ca1e-4d13-838f-1427d826aa10",
   "metadata": {},
   "source": [
    "Remember, Python uses the default method, that prints the position where the object is stored in the computer’s memory.  If your output is something like: <br>\n",
    "> <__main__.Elevator object at 0x7ff6a9ff3fd0>\n",
    "\n",
    "Then you will need to add the special __str__ method, which returns the string that you want to print.  Try again until you get the desired output, \"Current floor: 5\"."
   ]
  },
  {
   "cell_type": "code",
   "execution_count": null,
   "id": "98f8096a-93ab-4c26-b1cc-cfe10e7c82d0",
   "metadata": {},
   "outputs": [],
   "source": []
  }
 ],
 "metadata": {
  "kernelspec": {
   "display_name": "Python 3 (ipykernel)",
   "language": "python",
   "name": "python3"
  },
  "language_info": {
   "codemirror_mode": {
    "name": "ipython",
    "version": 3
   },
   "file_extension": ".py",
   "mimetype": "text/x-python",
   "name": "python",
   "nbconvert_exporter": "python",
   "pygments_lexer": "ipython3",
   "version": "3.10.4"
  }
 },
 "nbformat": 4,
 "nbformat_minor": 5
}
