{
 "cells": [
  {
   "cell_type": "code",
   "execution_count": 1,
   "id": "8925d5ac-422f-4644-945a-0a6116fdad7e",
   "metadata": {},
   "outputs": [],
   "source": [
    "class Fruit:\n",
    "    def __init__(self, color, flavor):\n",
    "        self.color = color\n",
    "        self.flavor = flavor"
   ]
  },
  {
   "cell_type": "code",
   "execution_count": 2,
   "id": "e450f58d-cc3f-4ca2-9317-126c35177b72",
   "metadata": {},
   "outputs": [],
   "source": [
    "class Apple(Fruit):\n",
    "    pass"
   ]
  },
  {
   "cell_type": "code",
   "execution_count": 3,
   "id": "b5dc48aa-e289-4692-a382-6322cd92e900",
   "metadata": {},
   "outputs": [],
   "source": [
    "class Grape(Fruit):\n",
    "    pass"
   ]
  },
  {
   "cell_type": "code",
   "execution_count": 10,
   "id": "c7067001-69c7-4a8c-a4bc-85c2c312152d",
   "metadata": {},
   "outputs": [
    {
     "name": "stdout",
     "output_type": "stream",
     "text": [
      "tart\n",
      "purple\n"
     ]
    }
   ],
   "source": [
    "granny_smith = Apple(\"green\", \"tart\")\n",
    "carnelian = Grape(\"purple\", \"sweet\")\n",
    "\n",
    "print(granny_smith.flavor)\n",
    "print(carnelian.color)"
   ]
  },
  {
   "cell_type": "code",
   "execution_count": 12,
   "id": "8d57a861-e2ac-475c-8c47-1b9510a2287d",
   "metadata": {},
   "outputs": [],
   "source": [
    "class Animal:\n",
    "    sound = \"\"\n",
    "    \n",
    "    def __init__(self, name):\n",
    "        self.name = name\n",
    "        \n",
    "    def speak(self):\n",
    "        print(\"{sound} I'm {name}! {sound}\".format(name=self.name,\n",
    "                                                  sound=self.sound))"
   ]
  },
  {
   "cell_type": "code",
   "execution_count": 13,
   "id": "4b453d1b-9af3-4c90-923d-9f537dbd1501",
   "metadata": {},
   "outputs": [],
   "source": [
    "class Piglet(Animal):\n",
    "    sound = \"Oink!\""
   ]
  },
  {
   "cell_type": "code",
   "execution_count": 14,
   "id": "42a02105-7b95-4751-84c5-4bdf8572e3b0",
   "metadata": {},
   "outputs": [
    {
     "name": "stdout",
     "output_type": "stream",
     "text": [
      "Oink! I'm Hamlet! Oink!\n"
     ]
    }
   ],
   "source": [
    "hamlet = Piglet(\"Hamlet\")\n",
    "hamlet.speak()"
   ]
  },
  {
   "cell_type": "code",
   "execution_count": 15,
   "id": "179bc5d9-5252-451e-9a3e-7845de680ded",
   "metadata": {},
   "outputs": [],
   "source": [
    "class Cow(Animal):\n",
    "    sound = \"Moooo\""
   ]
  },
  {
   "cell_type": "code",
   "execution_count": 16,
   "id": "64964e5e-2b03-4c6c-a9c4-403cd0e3ed1e",
   "metadata": {},
   "outputs": [
    {
     "name": "stdout",
     "output_type": "stream",
     "text": [
      "Moooo I'm Milky White! Moooo\n"
     ]
    }
   ],
   "source": [
    "milky = Cow(\"Milky White\")\n",
    "milky.speak()"
   ]
  },
  {
   "cell_type": "code",
   "execution_count": 17,
   "id": "8be9ec7d-dc38-4418-914f-65122f0db330",
   "metadata": {},
   "outputs": [
    {
     "name": "stdout",
     "output_type": "stream",
     "text": [
      "This Polo is made of Cotton\n"
     ]
    }
   ],
   "source": [
    "\"\"\"Let’s create a new class together and inherit from it. Below we have a base class called Clothing. \n",
    "Together, let’s create a second class, called Shirt, that inherits methods from the Clothing class. \n",
    "Fill in the blanks to make it work properly.\"\"\"\n",
    "\n",
    "class Clothing:\n",
    "    material = \"\"\n",
    "    \n",
    "    def __init__(self,name):\n",
    "        self.name = name\n",
    "        \n",
    "    def checkmaterial(self):\n",
    "        print(\"This {} is made of {}\".format(self.name, self.material))\n",
    "\t\t\t\n",
    "class Shirt(Clothing):\n",
    "    material = \"Cotton\"\n",
    "\n",
    "polo = Shirt(\"Polo\")\n",
    "polo.checkmaterial()"
   ]
  },
  {
   "cell_type": "code",
   "execution_count": null,
   "id": "f97eac73-5645-4258-8e0b-02eadab7dccc",
   "metadata": {},
   "outputs": [],
   "source": []
  }
 ],
 "metadata": {
  "kernelspec": {
   "display_name": "Python 3 (ipykernel)",
   "language": "python",
   "name": "python3"
  },
  "language_info": {
   "codemirror_mode": {
    "name": "ipython",
    "version": 3
   },
   "file_extension": ".py",
   "mimetype": "text/x-python",
   "name": "python",
   "nbconvert_exporter": "python",
   "pygments_lexer": "ipython3",
   "version": "3.10.4"
  }
 },
 "nbformat": 4,
 "nbformat_minor": 5
}
