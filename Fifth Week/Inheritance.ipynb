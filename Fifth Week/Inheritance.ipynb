{
 "cells": [
  {
   "cell_type": "code",
   "execution_count": 1,
   "id": "8925d5ac-422f-4644-945a-0a6116fdad7e",
   "metadata": {},
   "outputs": [],
   "source": [
    "class Fruit:\n",
    "    def __init__(self, color, flavor):\n",
    "        self.color = color\n",
    "        self.flavor = flavor"
   ]
  },
  {
   "cell_type": "code",
   "execution_count": 2,
   "id": "e450f58d-cc3f-4ca2-9317-126c35177b72",
   "metadata": {},
   "outputs": [],
   "source": [
    "class Apple(Fruit):\n",
    "    pass"
   ]
  },
  {
   "cell_type": "code",
   "execution_count": 3,
   "id": "b5dc48aa-e289-4692-a382-6322cd92e900",
   "metadata": {},
   "outputs": [],
   "source": [
    "class Grape(Fruit):\n",
    "    pass"
   ]
  },
  {
   "cell_type": "code",
   "execution_count": 10,
   "id": "c7067001-69c7-4a8c-a4bc-85c2c312152d",
   "metadata": {},
   "outputs": [
    {
     "name": "stdout",
     "output_type": "stream",
     "text": [
      "tart\n",
      "purple\n"
     ]
    }
   ],
   "source": [
    "granny_smith = Apple(\"green\", \"tart\")\n",
    "carnelian = Grape(\"purple\", \"sweet\")\n",
    "\n",
    "print(granny_smith.flavor)\n",
    "print(carnelian.color)"
   ]
  },
  {
   "cell_type": "code",
   "execution_count": 12,
   "id": "8d57a861-e2ac-475c-8c47-1b9510a2287d",
   "metadata": {},
   "outputs": [],
   "source": [
    "class Animal:\n",
    "    sound = \"\"\n",
    "    \n",
    "    def __init__(self, name):\n",
    "        self.name = name\n",
    "        \n",
    "    def speak(self):\n",
    "        print(\"{sound} I'm {name}! {sound}\".format(name=self.name,\n",
    "                                                  sound=self.sound))"
   ]
  },
  {
   "cell_type": "code",
   "execution_count": 13,
   "id": "4b453d1b-9af3-4c90-923d-9f537dbd1501",
   "metadata": {},
   "outputs": [],
   "source": [
    "class Piglet(Animal):\n",
    "    sound = \"Oink!\""
   ]
  },
  {
   "cell_type": "code",
   "execution_count": 14,
   "id": "42a02105-7b95-4751-84c5-4bdf8572e3b0",
   "metadata": {},
   "outputs": [
    {
     "name": "stdout",
     "output_type": "stream",
     "text": [
      "Oink! I'm Hamlet! Oink!\n"
     ]
    }
   ],
   "source": [
    "hamlet = Piglet(\"Hamlet\")\n",
    "hamlet.speak()"
   ]
  },
  {
   "cell_type": "code",
   "execution_count": 15,
   "id": "179bc5d9-5252-451e-9a3e-7845de680ded",
   "metadata": {},
   "outputs": [],
   "source": [
    "class Cow(Animal):\n",
    "    sound = \"Moooo\""
   ]
  },
  {
   "cell_type": "code",
   "execution_count": 16,
   "id": "64964e5e-2b03-4c6c-a9c4-403cd0e3ed1e",
   "metadata": {},
   "outputs": [
    {
     "name": "stdout",
     "output_type": "stream",
     "text": [
      "Moooo I'm Milky White! Moooo\n"
     ]
    }
   ],
   "source": [
    "milky = Cow(\"Milky White\")\n",
    "milky.speak()"
   ]
  },
  {
   "cell_type": "code",
   "execution_count": 17,
   "id": "8be9ec7d-dc38-4418-914f-65122f0db330",
   "metadata": {},
   "outputs": [
    {
     "name": "stdout",
     "output_type": "stream",
     "text": [
      "This Polo is made of Cotton\n"
     ]
    }
   ],
   "source": [
    "\"\"\"Let’s create a new class together and inherit from it. Below we have a base class called Clothing. \n",
    "Together, let’s create a second class, called Shirt, that inherits methods from the Clothing class. \n",
    "Fill in the blanks to make it work properly.\"\"\"\n",
    "\n",
    "class Clothing:\n",
    "    material = \"\"\n",
    "    \n",
    "    def __init__(self,name):\n",
    "        self.name = name\n",
    "        \n",
    "    def checkmaterial(self):\n",
    "        print(\"This {} is made of {}\".format(self.name, self.material))\n",
    "\t\t\t\n",
    "class Shirt(Clothing):\n",
    "    material = \"Cotton\"\n",
    "\n",
    "polo = Shirt(\"Polo\")\n",
    "polo.checkmaterial()"
   ]
  },
  {
   "cell_type": "markdown",
   "id": "148e44a5-d106-42c6-a11c-2368a1de6a30",
   "metadata": {},
   "source": [
    "## Object Inheritance\n",
    "\n",
    "In object-oriented programming, the concept of inheritance allows you to build relationships between objects, grouping together similar concepts and reducing code duplication. Let's create a custom Fruit class with color and flavor attributes:\n",
    "\n",
    "```python\n",
    "class Fruit:\n",
    "    def __init__(self, color, flavor):\n",
    "        self.color = color\n",
    "        self.flavor = flavor\n",
    "```\n",
    "We defined a Fruit class with a constructor for color and flavor attributes. Next, we'll define an Apple class along with a new Grape class, both of which we want to inherit properties and behaviors from the Fruit class:\n",
    "\n",
    "```python\n",
    "class Apple(Fruit):\n",
    "    pass\n",
    "\n",
    "class Grape(Fruit):\n",
    "    pass\n",
    "```\n",
    "In Python, we use parentheses in the class declaration to have the class inherit from the Fruit class. So in this example, we’re instructing our computer that both the Apple class and Grape class inherit from the Fruit class. This means that they both have the same constructor method which sets the color and flavor attributes. We can now create instances of our Apple and Grape classes:\n",
    "\n",
    "```python\n",
    ">>> granny_smith = Apple(\"green\", \"tart\")\n",
    ">>> carnelian = Grape(\"purple\", \"sweet\")\n",
    ">>> print(granny_smith.flavor)\n",
    "tart\n",
    ">>> print(carnelian.color)\n",
    "purple\n",
    "```\n",
    "\n",
    "Inheritance allows us to define attributes or methods that are shared by all types of fruit without having to define them in each fruit class individually. We can then also define specific attributes or methods that are only relevant for a specific type of fruit. Let's look at another example, this time with animals:\n",
    "\n",
    "```python\n",
    "class Animal:\n",
    "    sound = \"\"\n",
    "    def __init__(self, name):\n",
    "        self.name = name\n",
    "        \n",
    "    def speak(self):\n",
    "        print(\"{sound} I'm {name}! {sound}\".format(\n",
    "              name=self.name, sound=self.sound))\n",
    "\n",
    "class Piglet(Animal):\n",
    "    sound = \"Oink!\"\n",
    "    \n",
    "class Cow(Animal):\n",
    "    sound = \"Moooo\"\n",
    "```\n",
    "\n",
    "We defined a parent class, Animal, with two animal types inheriting from that class: Piglet and Cow. The parent Animal class has an attribute to store the sound the animal makes, and the constructor class takes the name that will be assigned to the instance when it's created. There is also the speak method, which will print the name of the animal along with the sound it makes. We defined the Piglet and Cow classes, which inherit from the Animal class, and we set the sound attributes for each animal type. Now, we can create instances of our Piglet and Cow classes and have them speak:\n",
    "\n",
    "```python\n",
    ">>> hamlet = Piglet(\"Hamlet\")\n",
    ">>> hamlet.speak()\n",
    "Oink! I'm Hamlet! Oink!\n",
    "... \n",
    ">>> class Cow(Animal):\n",
    "...     sound = \"Moooo\"\n",
    "... \n",
    ">>> milky = Cow(\"Milky White\")\n",
    ">>> milky.speak()\n",
    "Moooo I'm Milky White! Moooo\n",
    "```\n",
    "\n",
    "We create instances of both the Piglet and Cow class, and set the names for our instances. Then we call the speak method of each instance, which results in the formatted string being printed; it includes the sound the animal type makes, along with the instance name we assigned."
   ]
  },
  {
   "cell_type": "code",
   "execution_count": null,
   "id": "610f9558-7190-45cd-8d2e-956f4187f7c4",
   "metadata": {},
   "outputs": [],
   "source": []
  }
 ],
 "metadata": {
  "kernelspec": {
   "display_name": "Python 3 (ipykernel)",
   "language": "python",
   "name": "python3"
  },
  "language_info": {
   "codemirror_mode": {
    "name": "ipython",
    "version": 3
   },
   "file_extension": ".py",
   "mimetype": "text/x-python",
   "name": "python",
   "nbconvert_exporter": "python",
   "pygments_lexer": "ipython3",
   "version": "3.10.4"
  }
 },
 "nbformat": 4,
 "nbformat_minor": 5
}
