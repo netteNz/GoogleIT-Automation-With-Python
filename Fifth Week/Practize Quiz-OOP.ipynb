{
 "cells": [
  {
   "cell_type": "markdown",
   "id": "932e9cc6-49eb-4476-8c01-4eeaf6ddaed0",
   "metadata": {},
   "source": [
    "# Practice Quiz: OOP"
   ]
  },
  {
   "cell_type": "code",
   "execution_count": 2,
   "id": "38d55dcf-dec5-4b28-bbce-b17b54202fca",
   "metadata": {},
   "outputs": [
    {
     "data": {
      "text/plain": [
       "'Question 1.\\nLet’s test your knowledge of using dot notation to access methods and attributes in an object. \\nLet’s say we have a class called Birds. Birds has two attributes: color and number. \\nBirds also has a method called count() that counts the number of birds (adds a value to number). \\nWhich of the following lines of code will correctly print the number of birds? Keep in mind, the number of birds is 0 until they are counted!'"
      ]
     },
     "execution_count": 2,
     "metadata": {},
     "output_type": "execute_result"
    }
   ],
   "source": [
    "\"\"\"Question 1.\n",
    "Let’s test your knowledge of using dot notation to access methods and attributes in an object. \n",
    "Let’s say we have a class called Birds. Birds has two attributes: color and number. \n",
    "Birds also has a method called count() that counts the number of birds (adds a value to number). \n",
    "Which of the following lines of code will correctly print the number of birds? Keep in mind, the number of birds is 0 until they are counted!\"\"\"\n",
    "\n",
    "#bluejay.count()\n",
    "#print(bluejay.number)"
   ]
  },
  {
   "cell_type": "code",
   "execution_count": 18,
   "id": "91b6a4d5-1f3b-4998-978e-83e557244828",
   "metadata": {},
   "outputs": [
    {
     "name": "stdout",
     "output_type": "stream",
     "text": [
      "Johanna has 2 apples and Martin has 1 apples\n",
      "Johanna has 2 ideas and Martin has 2 ideas\n"
     ]
    }
   ],
   "source": [
    "\"\"\"Question 2.\n",
    "Creating new instances of class objects can be a great way to keep track of values using attributes associated with the object.\n",
    "The values of these attributes can be easily changed at the object level. \n",
    "The following code illustrates a famous quote by George Bernard Shaw, using objects to represent people. \n",
    "Fill in the blanks to make the code satisfy the behavior described in the quote. \"\"\"\n",
    "\n",
    "# “If you have an apple and I have an apple and we exchange these apples then\n",
    "# you and I will still each have one apple. But if you have an idea and I have\n",
    "# an idea and we exchange these ideas, then each of us will have two ideas.”\n",
    "# George Bernard Shaw\n",
    "\n",
    "class Person:\n",
    "    apples = 0\n",
    "    ideas = 0\n",
    "\n",
    "johanna = Person()\n",
    "johanna.apples = 1\n",
    "johanna.ideas = 1\n",
    "\n",
    "martin = Person()\n",
    "martin.apples = 2\n",
    "martin.ideas = 1\n",
    "\n",
    "def exchange_apples(you, me):\n",
    "    x = 0\n",
    "    x = you.apples\n",
    "    you.apples = me.apples\n",
    "    me.apples = x\n",
    "    return you.apples, me.apples\n",
    "    \n",
    "def exchange_ideas(you, me):\n",
    "    x = 0\n",
    "    x = you.ideas\n",
    "    you.ideas += me.ideas\n",
    "    me.ideas += x\n",
    "    return you.ideas, me.ideas\n",
    "\n",
    "exchange_apples(johanna, martin)\n",
    "print(\"Johanna has {} apples and Martin has {} apples\".format(johanna.apples, martin.apples))\n",
    "exchange_ideas(johanna, martin)\n",
    "print(\"Johanna has {} ideas and Martin has {} ideas\".format(johanna.ideas, martin.ideas))"
   ]
  },
  {
   "cell_type": "code",
   "execution_count": 13,
   "id": "17b52abe-9df7-4f1b-964b-e4f7e618014b",
   "metadata": {},
   "outputs": [
    {
     "name": "stdout",
     "output_type": "stream",
     "text": [
      "Cusco, Peru\n",
      "Sofia, Bulgaria\n",
      "\n"
     ]
    }
   ],
   "source": [
    "\"\"\"Question 3.\n",
    "The City class has the following attributes: name, country (where the city is located), elevation (measured in meters), and population (approximate, according to recent statistics).\n",
    "Fill in the blanks of the max_elevation_city function to return the name of the city and its country (separated by a comma), when comparing the 3 defined instances for a specified minimal population.\n",
    "For example, calling the function for a minimum population of 1 million: max_elevation_city(1000000) should return \"Sofia, Bulgaria\". \"\"\"\n",
    "\n",
    "# define a basic city class\n",
    "class City:\n",
    "\tname = \"\"\n",
    "\tcountry = \"\"\n",
    "\televation = 0 \n",
    "\tpopulation = 0\n",
    "\n",
    "# create a new instance of the City class and\n",
    "# define each attribute\n",
    "city1 = City()\n",
    "city1.name = \"Cusco\"\n",
    "city1.country = \"Peru\"\n",
    "city1.elevation = 3399\n",
    "city1.population = 358052\n",
    "\n",
    "# create a new instance of the City class and\n",
    "# define each attribute\n",
    "city2 = City()\n",
    "city2.name = \"Sofia\"\n",
    "city2.country = \"Bulgaria\"\n",
    "city2.elevation = 2290\n",
    "city2.population = 1241675\n",
    "\n",
    "# create a new instance of the City class and\n",
    "# define each attribute\n",
    "city3 = City()\n",
    "city3.name = \"Seoul\"\n",
    "city3.country = \"South Korea\"\n",
    "city3.elevation = 38\n",
    "city3.population = 9733509\n",
    "\n",
    "def max_elevation_city(min_population):\n",
    "    # Initialize the variable that will hold\n",
    "    # the information of the city with\n",
    "    # the highest elevation\n",
    "    return_city = City()\n",
    "    \n",
    "    # Evaluate the 1st instance to meet the requirements:\n",
    "    # does city #1 have at least min_population and\n",
    "    # is its elevation the highest evaluated so far?\n",
    "    if city1.population >= min_population and city1.elevation > return_city.elevation:\n",
    "        return_city = city1\n",
    "    \n",
    "    # Evaluate the 2nd instance to meet the requirements:\n",
    "    # does city #2 have at least min_population and\n",
    "    # is its elevation the highest evaluated so far?\n",
    "    if city2.population >= min_population and city2.elevation > return_city.elevation:\n",
    "        return_city = city2\n",
    "        \n",
    "    # Evaluate the 3rd instance to meet the requirements:\n",
    "    # does city #3 have at least min_population and\n",
    "    # is its elevation the highest evaluated so far?\n",
    "    if city3.population >= min_population and city3.elevation > return_city.elevation:\n",
    "        return_city = city3\n",
    "\n",
    "    #Format the return string\n",
    "    if return_city.name:\n",
    "        return \"{}, {}\".format(return_city.name, return_city.country)\n",
    "    else:\n",
    "        return \"\"\n",
    "\n",
    "print(max_elevation_city(100000)) # Should print \"Cusco, Peru\"\n",
    "print(max_elevation_city(1000000)) # Should print \"Sofia, Bulgaria\"\n",
    "print(max_elevation_city(10000000)) # Should print \"\""
   ]
  },
  {
   "cell_type": "code",
   "execution_count": 15,
   "id": "ea14319c-d183-4dd6-84d2-e5fd55ff6e81",
   "metadata": {},
   "outputs": [
    {
     "name": "stdout",
     "output_type": "stream",
     "text": [
      "This piece of furniture is made of brown wood\n",
      "This piece of furniture is made of red leather\n"
     ]
    }
   ],
   "source": [
    "\"\"\"Question 5.\n",
    "We have two pieces of furniture: a brown wood table and a red leather couch. \n",
    "Fill in the blanks following the creation of each Furniture class instance, \n",
    "so that the describe_furniture function can format a sentence that describes these pieces as follows: \n",
    "\"This piece of furniture is made of {color} {material}\"\"\"\n",
    "\n",
    "class Furniture:\n",
    "    color = \"\"\n",
    "    material = \"\"\n",
    "    \n",
    "    \n",
    "table = Furniture()\n",
    "table.color = \"brown\"\n",
    "table.material = \"wood\"\n",
    "\n",
    "couch = Furniture()\n",
    "couch.color = \"red\"\n",
    "couch.material = \"leather\"\n",
    "\n",
    "def describe_furniture(piece):\n",
    "\treturn (\"This piece of furniture is made of {} {}\".format(piece.color, piece.material))\n",
    "\n",
    "print(describe_furniture(table)) \n",
    "# Should be \"This piece of furniture is made of brown wood\"\n",
    "print(describe_furniture(couch)) \n",
    "# Should be \"This piece of furniture is made of red leather\""
   ]
  },
  {
   "cell_type": "code",
   "execution_count": null,
   "id": "bb073530-2bc9-49a2-bd40-14a9a08757fe",
   "metadata": {},
   "outputs": [],
   "source": []
  }
 ],
 "metadata": {
  "kernelspec": {
   "display_name": "Python 3 (ipykernel)",
   "language": "python",
   "name": "python3"
  },
  "language_info": {
   "codemirror_mode": {
    "name": "ipython",
    "version": 3
   },
   "file_extension": ".py",
   "mimetype": "text/x-python",
   "name": "python",
   "nbconvert_exporter": "python",
   "pygments_lexer": "ipython3",
   "version": "3.10.4"
  }
 },
 "nbformat": 4,
 "nbformat_minor": 5
}
