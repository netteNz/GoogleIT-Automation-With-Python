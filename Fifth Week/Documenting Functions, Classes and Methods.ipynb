{
 "cells": [
  {
   "cell_type": "markdown",
   "id": "40cdbaa5-89cd-4638-9a92-14e901a7ceb6",
   "metadata": {},
   "source": [
    "### Docstring\n",
    "\n",
    "A brief text that explains what something does"
   ]
  },
  {
   "cell_type": "code",
   "execution_count": 4,
   "id": "f7a68a6c-1247-4719-8caa-13a49dfbf102",
   "metadata": {},
   "outputs": [],
   "source": [
    "def to_seconds(hours, minutes, seconds):\n",
    "    \"\"\"Returns the amounts of seconds in the given hours, minutes, and seconds\"\"\"\n",
    "    return hours * 3600 + minutes * 60 + seconds\n"
   ]
  },
  {
   "cell_type": "code",
   "execution_count": 5,
   "id": "622d979c-9ef6-42fc-8b5a-a599284bf607",
   "metadata": {},
   "outputs": [
    {
     "name": "stdout",
     "output_type": "stream",
     "text": [
      "Help on function to_seconds in module __main__:\n",
      "\n",
      "to_seconds(hours, minutes, seconds)\n",
      "    Returns the amounts of seconds in the given hours, minutes, and seconds\n",
      "\n"
     ]
    }
   ],
   "source": [
    "help(to_seconds)"
   ]
  },
  {
   "cell_type": "code",
   "execution_count": 6,
   "id": "fcef2ee8-fce9-4da4-abe4-09f7278999bb",
   "metadata": {},
   "outputs": [],
   "source": [
    "class Piglet:\n",
    "    \"\"\"Represents a piglet that can say their name\"\"\"\n",
    "    years = 0\n",
    "    name = \"\"\n",
    "    def speak(self):\n",
    "        \"\"\"Outputs a message including the name of the piglet\"\"\"\n",
    "        print(\"Oink! I'm {}! Oink!\".format(self.name))\n",
    "        \n",
    "    def pig_years(self):\n",
    "        \"\"\"Converts the current age to equivalent pig years\"\"\"\n",
    "        return self.years * 18"
   ]
  },
  {
   "cell_type": "code",
   "execution_count": 7,
   "id": "5919c236-8d09-4289-bdcd-152e0a935bf9",
   "metadata": {},
   "outputs": [
    {
     "name": "stdout",
     "output_type": "stream",
     "text": [
      "Help on class Piglet in module __main__:\n",
      "\n",
      "class Piglet(builtins.object)\n",
      " |  Represents a piglet that can say their name\n",
      " |  \n",
      " |  Methods defined here:\n",
      " |  \n",
      " |  pig_years(self)\n",
      " |      Converts the current age to equivalent pig years\n",
      " |  \n",
      " |  speak(self)\n",
      " |      Outputs a message including the name of the piglet\n",
      " |  \n",
      " |  ----------------------------------------------------------------------\n",
      " |  Data descriptors defined here:\n",
      " |  \n",
      " |  __dict__\n",
      " |      dictionary for instance variables (if defined)\n",
      " |  \n",
      " |  __weakref__\n",
      " |      list of weak references to the object (if defined)\n",
      " |  \n",
      " |  ----------------------------------------------------------------------\n",
      " |  Data and other attributes defined here:\n",
      " |  \n",
      " |  name = ''\n",
      " |  \n",
      " |  years = 0\n",
      "\n"
     ]
    }
   ],
   "source": [
    "help(Piglet)"
   ]
  },
  {
   "cell_type": "code",
   "execution_count": 12,
   "id": "10d3550c-541f-4feb-b8f7-2169fc8fcff1",
   "metadata": {},
   "outputs": [
    {
     "name": "stdout",
     "output_type": "stream",
     "text": [
      "Help on class Person in module __main__:\n",
      "\n",
      "class Person(builtins.object)\n",
      " |  Person(name)\n",
      " |  \n",
      " |  Methods defined here:\n",
      " |  \n",
      " |  __init__(self, name)\n",
      " |      Initialize self.  See help(type(self)) for accurate signature.\n",
      " |  \n",
      " |  greeting(self)\n",
      " |      Outputs a message with the name of the person\n",
      " |  \n",
      " |  ----------------------------------------------------------------------\n",
      " |  Data descriptors defined here:\n",
      " |  \n",
      " |  __dict__\n",
      " |      dictionary for instance variables (if defined)\n",
      " |  \n",
      " |  __weakref__\n",
      " |      list of weak references to the object (if defined)\n",
      "\n"
     ]
    }
   ],
   "source": [
    "\"\"\"Remember our Person class from the last video? Let’s add a docstring to the greeting method. \n",
    "How about, “Outputs a message with the name of the person”.\"\"\"\n",
    "class Person:\n",
    "    def __init__(self, name):\n",
    "        self.name = name\n",
    "    \n",
    "    def greeting(self):\n",
    "        \"\"\"Outputs a message with the name of the person\"\"\"\n",
    "        print(\"Hello! My name is {name}.\".format(name = self.name)) \n",
    "\n",
    "help(Person)"
   ]
  },
  {
   "cell_type": "markdown",
   "id": "3e2694a6-7e47-4938-905b-cd2ba7b5ba8a",
   "metadata": {},
   "source": [
    "# Documenting with Docstrings\n",
    "\n",
    "The Python **help** function can be super helpful for easily pulling up documentation for classes and methods. We can call the **help** function on one of our classes, which will return some basic info about the methods defined in our class:\n",
    "\n",
    "```python\n",
    "class Apple:\n",
    "    def __init__(self, color, flavor):\n",
    "        self.color = color\n",
    "        self.flavor = flavor\n",
    "    def __str__(self):\n",
    "        return \"This apple is {} and its flavor is {}\".format(self.color, self.flavor)\n",
    "\n",
    "help(Apple)\n",
    "Help on class Apple in module __main__:\n",
    "\n",
    "class Apple(builtins.object)\n",
    "  Methods defined here:\n",
    "        __init__(self, color, flavor)\n",
    "              Initialize self.  See help(type(self)) for accurate signature.\n",
    "  \n",
    "        __str__(self)\n",
    "          Return str(self).\n",
    "  \n",
    "Data descriptors defined here:\n",
    " \n",
    "    __dict__\n",
    "        dictionary for instance variables (if defined)\n",
    "  \n",
    "    __weakref__\n",
    "       list of weak references to the object (if defined)\n",
    "```\n",
    " \n",
    "We can add documentation to our own classes, methods, and functions using docstrings. A docstring is a short text explanation of what something does. You can add a docstring to a method, function, or class by first defining it, then adding a description inside triple quotes. Let's take the example of this function:\n",
    "\n",
    "\n",
    "```python\n",
    "def to_seconds(hours, minutes, seconds):\n",
    "    \"\"\"Returns the amount of seconds in the given hours, minutes and seconds.\"\"\"\n",
    "    return hours * 3600 + minutes * 60 + seconds\n",
    "```\n",
    "We have our function called to_seconds on the first line, followed by the docstring which is indented to the right and wrapped in triple quotes. Last up is the function body. Now, when we call the help function on our to_seconds function, we get a handy description of what the function does:"
   ]
  },
  {
   "cell_type": "code",
   "execution_count": 14,
   "id": "e79db860-9c2f-4e42-a5fb-7cd95a8d6f8a",
   "metadata": {},
   "outputs": [
    {
     "name": "stdout",
     "output_type": "stream",
     "text": [
      "Help on function to_seconds in module __main__:\n",
      "\n",
      "to_seconds(hours, minutes, seconds)\n",
      "    Returns the amount of seconds in the given hours, minutes and seconds.\n",
      "\n"
     ]
    }
   ],
   "source": [
    "def to_seconds(hours, minutes, seconds):\n",
    "    \"\"\"Returns the amount of seconds in the given hours, minutes and seconds.\"\"\"\n",
    "    return hours * 3600 + minutes * 60 + seconds\n",
    "help(to_seconds)"
   ]
  },
  {
   "cell_type": "markdown",
   "id": "ec47f824-b28f-44ee-8f22-54a612d4e89f",
   "metadata": {},
   "source": [
    "Docstrings are super useful for documenting our custom classes, methods, and functions, but also when working with new libraries or functions. You'll be extremely grateful for docstrings when you have to work with code that someone else wrote!"
   ]
  },
  {
   "cell_type": "code",
   "execution_count": null,
   "id": "abd46821-587a-4ffe-b58d-ddf68da4ba38",
   "metadata": {},
   "outputs": [],
   "source": []
  }
 ],
 "metadata": {
  "kernelspec": {
   "display_name": "Python 3 (ipykernel)",
   "language": "python",
   "name": "python3"
  },
  "language_info": {
   "codemirror_mode": {
    "name": "ipython",
    "version": 3
   },
   "file_extension": ".py",
   "mimetype": "text/x-python",
   "name": "python",
   "nbconvert_exporter": "python",
   "pygments_lexer": "ipython3",
   "version": "3.10.4"
  }
 },
 "nbformat": 4,
 "nbformat_minor": 5
}
