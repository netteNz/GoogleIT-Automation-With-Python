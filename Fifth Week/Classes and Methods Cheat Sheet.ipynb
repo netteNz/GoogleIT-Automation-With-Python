{
 "cells": [
  {
   "cell_type": "markdown",
   "id": "f451c354-bb27-4011-b518-d48ef84a145e",
   "metadata": {},
   "source": [
    "# Classes and Methods Cheat Sheet\n",
    "In the past few videos, we’ve seen how to define classes and methods in Python. Here, you’ll find a run-down of everything we’ve covered, so you can refer to it whenever you need a refresher.\n",
    "\n",
    "#### Defining classes and methods\n",
    "```python\n",
    "def ClassName:\n",
    "    def method_name(self, other_parameters):\n",
    "        body_of_method\n",
    "```\n",
    "\n",
    "#### Classes and Instances\n",
    "- Classes define the behavior of all instances of a specific class.\n",
    "- Each variable of a specific class is an instance or object.\n",
    "- Objects can have attributes, which store information about the object.\n",
    "- You can make objects do work by calling their methods.\n",
    "- The first parameter of the methods (self) represents the current instance.\n",
    "- Methods are just like functions, but they can only be used through a class.\n",
    "\n",
    "#### Special Methods\n",
    "- Special methods start and end with __.\n",
    "- Special methods have specific names, like __init__ for the constructors or __str__ for the conversion to string.\n",
    "\n",
    "#### Documenting classes, methods and functions\n",
    "- You can add documentation to classes, methods, and functions by using docstrings right after the definition. Like this:\n",
    "\n",
    "```python\n",
    "class ClassName:\n",
    "    \"\"\"Documentation for the class.\"\"\"\n",
    "    def method_name(self, other_parameters):\n",
    "        \"\"\"Documentation for the method.\"\"\"\n",
    "        body_of_method\n",
    "        \n",
    "    def function_name(parameters):\n",
    "        \"\"\"Documentation for the function.\"\"\"\n",
    "        body_of_function\n",
    "```"
   ]
  },
  {
   "cell_type": "code",
   "execution_count": null,
   "id": "b80f6c63-05c7-4cdb-afb5-ef2f2540f13a",
   "metadata": {},
   "outputs": [],
   "source": []
  }
 ],
 "metadata": {
  "kernelspec": {
   "display_name": "Python 3 (ipykernel)",
   "language": "python",
   "name": "python3"
  },
  "language_info": {
   "codemirror_mode": {
    "name": "ipython",
    "version": 3
   },
   "file_extension": ".py",
   "mimetype": "text/x-python",
   "name": "python",
   "nbconvert_exporter": "python",
   "pygments_lexer": "ipython3",
   "version": "3.10.4"
  }
 },
 "nbformat": 4,
 "nbformat_minor": 5
}
