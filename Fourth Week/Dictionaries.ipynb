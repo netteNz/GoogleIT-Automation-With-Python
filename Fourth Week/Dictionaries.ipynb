{
 "cells": [
  {
   "cell_type": "code",
   "execution_count": 1,
   "id": "397569cd-ee51-4d2d-9481-27a8474ea2fb",
   "metadata": {},
   "outputs": [
    {
     "data": {
      "text/plain": [
       "dict"
      ]
     },
     "execution_count": 1,
     "metadata": {},
     "output_type": "execute_result"
    }
   ],
   "source": [
    "x = {}\n",
    "type(x)"
   ]
  },
  {
   "cell_type": "code",
   "execution_count": 4,
   "id": "6f782db9-32f0-498f-9457-e0bf1534919c",
   "metadata": {},
   "outputs": [
    {
     "name": "stdout",
     "output_type": "stream",
     "text": [
      "{'jpg': 10, 'txt': 14, 'csv': 2, 'py': 23}\n"
     ]
    }
   ],
   "source": [
    "file_counts = {\"jpg\":10, \"txt\":14, \"csv\":2, \"py\":23}\n",
    "print(file_counts)"
   ]
  },
  {
   "cell_type": "code",
   "execution_count": 8,
   "id": "d52e6f40-7a0c-433f-841d-6ca313ae43ad",
   "metadata": {},
   "outputs": [
    {
     "data": {
      "text/plain": [
       "False"
      ]
     },
     "execution_count": 8,
     "metadata": {},
     "output_type": "execute_result"
    }
   ],
   "source": [
    "file_counts = {\"jpg\":10, \"txt\":14, \"csv\":2, \"py\":23}\n",
    "#file_counts[\"txt\"]\n",
    "#\"jpg\" in file_counts\n",
    "#\"html\" in file_counts"
   ]
  },
  {
   "cell_type": "code",
   "execution_count": 11,
   "id": "54a29b02-142f-4273-acc2-3d1e883f70e5",
   "metadata": {},
   "outputs": [
    {
     "name": "stdout",
     "output_type": "stream",
     "text": [
      "{'jpg': 10, 'txt': 14, 'csv': 17, 'py': 23, 'cfg': 8}\n"
     ]
    }
   ],
   "source": [
    "file_counts[\"cfg\"] = 8\n",
    "file_counts[\"csv\"] = 17\n",
    "print(file_counts)"
   ]
  },
  {
   "cell_type": "markdown",
   "id": "3495a391-973c-41b6-8a31-41e2bade07ad",
   "metadata": {},
   "source": [
    "# Dictionaries Defined\n",
    "\n",
    "Dictionaries are another data structure in Python. They’re similar to a list in that they can be used to organize data into collections. However, data in a dictionary isn't accessed based on its position. Data in a dictionary is organized into pairs of keys and values. You use the key to access the corresponding value. Where a list index is always a number, a dictionary key can be a different data type, like a string, integer, float, or even tuples.\n",
    "\n",
    "When creating a dictionary, you use curly brackets: {}. When storing values in a dictionary, the key is specified first, followed by the corresponding value, separated by a colon. For example, animals = { \"bears\":10, \"lions\":1, \"tigers\":2 } creates a dictionary with three key value pairs, stored in the variable animals. The key \"bears\" points to the integer value 10, while the key \"lions\" points to the integer value 1, and \"tigers\" points to the integer 2. You can access the values by referencing the key, like this: animals[\"bears\"]. This would return the integer 10, since that’s the corresponding value for this key.\n",
    "\n",
    "You can also check if a key is contained in a dictionary using the in keyword. Just like other uses of this keyword, it will return True if the key is found in the dictionary; otherwise it will return False.\n",
    "\n",
    "Dictionaries are mutable, meaning they can be modified by adding, removing, and replacing elements in a dictionary, similar to lists. You can add a new key value pair to a dictionary by assigning a value to the key, like this: animals[\"zebras\"] = 2. This creates the new key in the animal dictionary called zebras, and stores the value 2. You can modify the value of an existing key by doing the same thing. So animals[\"bears\"] = 11 would change the value stored in the bears key from 10 to 11. Lastly, you can remove elements from a dictionary by using the del keyword. By doing del animals[\"lions\"] you would remove the key value pair from the animals dictionary."
   ]
  },
  {
   "cell_type": "code",
   "execution_count": 12,
   "id": "58e1d292-5b97-4c7d-b85f-692e8cc33d02",
   "metadata": {},
   "outputs": [
    {
     "name": "stdout",
     "output_type": "stream",
     "text": [
      "jpg\n",
      "txt\n",
      "csv\n",
      "py\n"
     ]
    }
   ],
   "source": [
    "file_counts = {\"jpg\":10, \"txt\":14, \"csv\":2, \"py\":23}\n",
    "\n",
    "for extension in file_counts:\n",
    "    print(extension)"
   ]
  },
  {
   "cell_type": "code",
   "execution_count": 13,
   "id": "eeef8f8a-fedb-428f-9228-53b28afc1c10",
   "metadata": {},
   "outputs": [
    {
     "name": "stdout",
     "output_type": "stream",
     "text": [
      "There are 10 files with the .jpg extension\n",
      "There are 14 files with the .txt extension\n",
      "There are 2 files with the .csv extension\n",
      "There are 23 files with the .py extension\n"
     ]
    }
   ],
   "source": [
    "for ext, amount in file_counts.items():\n",
    "    print(\"There are {} files with the .{} extension\".format(amount, ext))"
   ]
  },
  {
   "cell_type": "code",
   "execution_count": 14,
   "id": "7bd352de-7b5e-498c-9d6e-14d303a1bd26",
   "metadata": {},
   "outputs": [
    {
     "name": "stdout",
     "output_type": "stream",
     "text": [
      "octopuses have tentacles\n",
      "dolphins have fins\n",
      "rhinos have horns\n"
     ]
    }
   ],
   "source": [
    "\"\"\"Complete the code to iterate through the keys and values of the cool_beasts dictionary. \n",
    "Remember that the items method returns a tuple of key, value for each element in the dictionary.\"\"\"\n",
    "\n",
    "cool_beasts = {\"octopuses\":\"tentacles\", \"dolphins\":\"fins\", \"rhinos\":\"horns\"}\n",
    "for k, v in cool_beasts.items():\n",
    "    print(\"{} have {}\".format(k, v))"
   ]
  },
  {
   "cell_type": "code",
   "execution_count": 19,
   "id": "fc8eddf5-584e-40b0-ae7d-f8b2a3526920",
   "metadata": {},
   "outputs": [
    {
     "data": {
      "text/plain": [
       "{'t': 2, 'e': 1, 'n': 2, 'a': 1}"
      ]
     },
     "execution_count": 19,
     "metadata": {},
     "output_type": "execute_result"
    }
   ],
   "source": [
    "def count_letters(text):\n",
    "    result = {} # Initialize empty dictionary\n",
    "    for letter in text: # iterating for each letter\n",
    "        if letter not in result: \n",
    "            result[letter] = 0 \n",
    "        result[letter] += 1\n",
    "    return result\n",
    "\n",
    "count_letters(\"aaaaa\")\n",
    "count_letters(\"tenant\")"
   ]
  },
  {
   "cell_type": "markdown",
   "id": "bca39799-6f50-4917-ab34-0f64b337a642",
   "metadata": {},
   "source": [
    "# Iterating Over Dictionaries\n",
    "\n",
    "You can iterate over dictionaries using a for loop, just like with strings, lists, and tuples. This will iterate over the sequence of keys in the dictionary. If you want to access the corresponding values associated with the keys, you could use the keys as indexes. Or you can use the items method on the dictionary, like dictionary.items(). This method returns a tuple for each element in the dictionary, where the first element in the tuple is the key and the second is the value.\n",
    "\n",
    "If you only wanted to access the keys in a dictionary, you could use the keys() method on the dictionary: dictionary.keys(). If you only wanted the values, you could use the values() method: dictionary.values()."
   ]
  },
  {
   "cell_type": "markdown",
   "id": "25af6af3-21f5-437c-af30-da217ecd2146",
   "metadata": {},
   "source": [
    "### Dictionaries vs. Lists\n",
    "\n",
    "- You want to use dictionaries when you plan on searching for a specific element."
   ]
  },
  {
   "cell_type": "code",
   "execution_count": 21,
   "id": "8603d529-4495-4f90-9950-81d13397a25d",
   "metadata": {},
   "outputs": [
    {
     "name": "stdout",
     "output_type": "stream",
     "text": [
      "red shirt\n",
      "blue shirt\n",
      "white shirt\n",
      "blue jeans\n",
      "black jeans\n"
     ]
    }
   ],
   "source": [
    "\"\"\"In Python, a dictionary can only hold a single value for a given key. \n",
    "To workaround this, our single value can be a list containing multiple values. \n",
    "Here we have a dictionary called \"wardrobe\" with items of clothing and their colors. \n",
    "Fill in the blanks to print a line for each item of clothing with each color, for example: \"red shirt\", \"blue shirt\", and so on.\"\"\"\n",
    "\n",
    "wardrobe = {\"shirt\":[\"red\",\"blue\",\"white\"], \"jeans\":[\"blue\",\"black\"]}\n",
    "for item, colors in wardrobe.items():\n",
    "    for color in colors:\n",
    "        print(\"{} {}\".format(color, item))"
   ]
  },
  {
   "cell_type": "markdown",
   "id": "56b70487-fff9-4714-81e6-aee72d4f25ef",
   "metadata": {},
   "source": [
    "# Set\n",
    "- Used when you want to store a bunch of elements and be certain that they're only present once\n",
    "\n",
    "# Dictionary Methods Cheat Sheet\n",
    "#### Definition\n",
    "```python\n",
    "x = {key:value1, key2:value2}\n",
    "```\n",
    "#### Operations\n",
    "- len(dictionary) - Returns the number of items in the dictionary\n",
    "- for key in dictionary - Iterates over each key in the dictionary\n",
    "- for key, value in dictionary.items() - Iterates over each key,value pair in the dictionary\n",
    "- if key in dictionary - Checks whether the key is in the dictionary\n",
    "- dictionary[key] - Accesses the item with key key of the dictionary\n",
    "- dictionary[key] = value - Sets the value associated with key\n",
    "- del dictionary[key] - Removes the item with key key from the dictionary\n",
    "\n",
    "#### Methods\n",
    "- dict.get(key, default) - Returns the element corresponding to key, or default if it's not present\n",
    "- dict.keys() - Returns a sequence containing the keys in the dictionary\n",
    "- dict.values() - Returns a sequence containing the values in the dictionary\n",
    "- dict.update(other_dictionary) - Updates the dictionary with the items coming from the other dictionary. Existing entries will be replaced; new entries will be added.\n",
    "- dict.clear() - Removes all the items of the dictionary"
   ]
  },
  {
   "cell_type": "markdown",
   "id": "26f111b7-36f2-4e00-bb3b-ee70d4b87b88",
   "metadata": {},
   "source": [
    "# Practice Quiz: Dictionaries"
   ]
  },
  {
   "cell_type": "code",
   "execution_count": 26,
   "id": "29f10282-3bfa-464c-96bd-983479eb52e3",
   "metadata": {},
   "outputs": [
    {
     "name": "stdout",
     "output_type": "stream",
     "text": [
      "['clark.kent@gmail.com', 'diana.prince@gmail.com', 'peter.parker@gmail.com']\n"
     ]
    }
   ],
   "source": [
    "\"\"\"Question 1.\n",
    "The email_list function receives a dictionary, which contains domain names as keys, and a list of users as values. \n",
    "Fill in the blanks to generate a list that contains complete email addresses (e.g. diana.prince@gmail.com).\"\"\"\n",
    "\n",
    "def email_list(domains):\n",
    "    emails = [] # Initialize empty list\n",
    "    for domain in domains:\n",
    "        for user in domains[domain]:\n",
    "            emails.append(user+'@'+ domain)\n",
    "        return(emails)\n",
    "\n",
    "print(email_list({\"gmail.com\": [\"clark.kent\", \"diana.prince\", \"peter.parker\"], \"yahoo.com\": [\"barbara.gordon\", \"jean.grey\"], \"hotmail.com\": [\"bruce.wayne\"]}))"
   ]
  },
  {
   "cell_type": "code",
   "execution_count": 45,
   "id": "02801217-881f-4530-b3ed-4009435a32cd",
   "metadata": {},
   "outputs": [
    {
     "name": "stdout",
     "output_type": "stream",
     "text": [
      "{'admin': ['local', 'public', 'administrator'], 'userA': ['local'], 'userB': ['public']}\n"
     ]
    }
   ],
   "source": [
    "\"\"\"Question 2.\n",
    "The groups_per_user function receives a dictionary, which contains group names with the list of users. Users can belong to multiple groups.\n",
    "Fill in the blanks to return a dictionary with the users as keys and a list of their groups as values. \"\"\"\n",
    "\n",
    "def groups_per_user(group_dictionary):\n",
    "    user_groups = {}\n",
    "    # Go through group_dictionary\n",
    "    for group, users in group_dictionary.items():\n",
    "        # Now go through the users in the group\n",
    "        for user in users:\n",
    "            user_groups[user] = user_groups.get(user, []) + [group]\n",
    "    return user_groups\n",
    "\n",
    "print(groups_per_user({\"local\": [\"admin\", \"userA\"],\n",
    "\t\t\"public\":  [\"admin\", \"userB\"],\n",
    "\t\t\"administrator\": [\"admin\"] }))"
   ]
  },
  {
   "cell_type": "code",
   "execution_count": 37,
   "id": "71c4a707-3d18-4366-9d13-6b5f6ae09cf0",
   "metadata": {},
   "outputs": [
    {
     "name": "stdout",
     "output_type": "stream",
     "text": [
      "{'shirt': ['red', 'blue', 'white'], 'jeans': ['white'], 'scarf': ['yellow'], 'socks': ['black', 'brown']}\n"
     ]
    }
   ],
   "source": [
    "\"\"\"Question 3.\n",
    "The dict.update method updates one dictionary with the items coming from the other dictionary, \n",
    "so that existing entries are replaced and new entries are added. \n",
    "What is the content of the dictionary “wardrobe“ at the end of the following code?\"\"\"\n",
    "\n",
    "wardrobe = {'shirt': ['red', 'blue', 'white'], 'jeans': ['blue', 'black']}\n",
    "new_items = {'jeans': ['white'], 'scarf': ['yellow'], 'socks': ['black', 'brown']}\n",
    "wardrobe.update(new_items)\n",
    "print(wardrobe)"
   ]
  },
  {
   "cell_type": "code",
   "execution_count": 42,
   "id": "33ae51e8-b76a-42ea-8fba-6fd661f4a8d9",
   "metadata": {},
   "outputs": [
    {
     "name": "stdout",
     "output_type": "stream",
     "text": [
      "28.44\n"
     ]
    }
   ],
   "source": [
    "\"\"\"Question 5.\n",
    "The add_prices function returns the total price of all of the groceries in the  dictionary. \n",
    "Fill in the blanks to complete this function.\"\"\"\n",
    "\n",
    "def add_prices(basket):\n",
    "    # Initialize the variable that will be used for the calculation\n",
    "    total = 0\n",
    "    # Iterate through the dictionary items\n",
    "    for item, prices in basket.items():\n",
    "        # Add each price to the total calculation\n",
    "\t\t# Hint: how do you access the values of\n",
    "\t\t# dictionary items?\n",
    "        total += prices\n",
    "\t# Limit the return value to 2 decimal places\n",
    "    return round(total, 2)\n",
    "\n",
    "groceries = {\"bananas\": 1.56, \"apples\": 2.50, \"oranges\": 0.99, \"bread\": 4.59, \n",
    "\t\"coffee\": 6.99, \"milk\": 3.39, \"eggs\": 2.98, \"cheese\": 5.44}\n",
    "\n",
    "print(add_prices(groceries)) # Should print 28.44"
   ]
  },
  {
   "cell_type": "code",
   "execution_count": null,
   "id": "936269b7-a479-4fa0-baa0-aeb8ab04ea12",
   "metadata": {},
   "outputs": [],
   "source": []
  }
 ],
 "metadata": {
  "kernelspec": {
   "display_name": "Python 3 (ipykernel)",
   "language": "python",
   "name": "python3"
  },
  "language_info": {
   "codemirror_mode": {
    "name": "ipython",
    "version": 3
   },
   "file_extension": ".py",
   "mimetype": "text/x-python",
   "name": "python",
   "nbconvert_exporter": "python",
   "pygments_lexer": "ipython3",
   "version": "3.10.4"
  }
 },
 "nbformat": 4,
 "nbformat_minor": 5
}
