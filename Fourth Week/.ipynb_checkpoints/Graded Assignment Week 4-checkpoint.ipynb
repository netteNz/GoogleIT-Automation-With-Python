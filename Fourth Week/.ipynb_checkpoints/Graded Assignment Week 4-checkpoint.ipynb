{
 "cells": [
  {
   "cell_type": "markdown",
   "id": "5621d482-d972-43b3-a9f0-e9821e1ba379",
   "metadata": {},
   "source": [
    "# Graded Assignment: Week 4"
   ]
  },
  {
   "cell_type": "code",
   "execution_count": 1,
   "id": "acfaac60-d3dc-437a-9127-ed2ffb9d8a30",
   "metadata": {},
   "outputs": [
    {
     "name": "stdout",
     "output_type": "stream",
     "text": [
      "house number 123 on street named Street \n",
      "house number 1001 on street named Ave \n",
      "house number 55 on street named Drive \n"
     ]
    }
   ],
   "source": [
    "\"\"\"Question 1.\n",
    "The format_address function separates out parts of the address string into new strings: house_number and street_name, and returns: \"house number X on street named Y\".\n",
    "The format of the input string is: numeric house number, followed by the street name which may contain numbers, but never by themselves, and could be several words long. \n",
    "For example, \"123 Main Street\", \"1001 1st Ave\", or \"55 North Center Drive\". Fill in the gaps to complete this function.\"\"\"\n",
    "\n",
    "def format_address(address_string):\n",
    "    # Declare variables\n",
    "    house_number = \"\"\n",
    "    street_name = \"\"\n",
    "    \n",
    "    # Separate the address string into parts\n",
    "    address_string = address_string.split()\n",
    "    \n",
    "    # Traverse through the address parts\n",
    "    for number in address_string:    # Determine if the address part is the\n",
    "        if number.isdigit():         # house number or part of the street name\n",
    "            house_number = number\n",
    "\n",
    "    # Does anything else need to be done \n",
    "    # before returning the result?\n",
    "    else:\n",
    "        street_name += number\n",
    "        street_name += \" \"\n",
    "    # Return the formatted string  \n",
    "    return \"house number {} on street named {}\".format(house_number, street_name)\n",
    "\n",
    "print(format_address(\"123 Main Street\"))\n",
    "# Should print: \"house number 123 on street named Main Street\"\n",
    "\n",
    "print(format_address(\"1001 1st Ave\"))\n",
    "# Should print: \"house number 1001 on street named 1st Ave\"\n",
    "\n",
    "print(format_address(\"55 North Center Drive\"))\n",
    "# Should print \"house number 55 on street named North Center Drive\"\n"
   ]
  },
  {
   "cell_type": "code",
   "execution_count": 2,
   "id": "95c41e84-623e-473c-a114-e8c466be85ed",
   "metadata": {},
   "outputs": [
    {
     "name": "stdout",
     "output_type": "stream",
     "text": [
      "Have a NICE day\n",
      "Shhh, don't be so LOUD!\n",
      "Automating with Python is FUN\n"
     ]
    }
   ],
   "source": [
    "\"\"\"Question 2.\n",
    "The highlight_word function changes the given word in a sentence to its upper-case version. \n",
    "For example, highlight_word(\"Have a nice day\", \"nice\") returns \"Have a NICE day\". \n",
    "Can you write this function in just one line?\"\"\"\n",
    "\n",
    "def highlight_word(sentence, word):\n",
    "\treturn(sentence.replace(word, word.upper()))\n",
    "\n",
    "print(highlight_word(\"Have a nice day\", \"nice\"))\n",
    "print(highlight_word(\"Shhh, don't be so loud!\", \"loud\"))\n",
    "print(highlight_word(\"Automating with Python is fun\", \"fun\"))"
   ]
  },
  {
   "cell_type": "code",
   "execution_count": null,
   "id": "765d6e2d-ec24-4edf-a5b5-60101d4b5e05",
   "metadata": {},
   "outputs": [],
   "source": []
  }
 ],
 "metadata": {
  "kernelspec": {
   "display_name": "Python 3 (ipykernel)",
   "language": "python",
   "name": "python3"
  },
  "language_info": {
   "codemirror_mode": {
    "name": "ipython",
    "version": 3
   },
   "file_extension": ".py",
   "mimetype": "text/x-python",
   "name": "python",
   "nbconvert_exporter": "python",
   "pygments_lexer": "ipython3",
   "version": "3.10.4"
  }
 },
 "nbformat": 4,
 "nbformat_minor": 5
}
