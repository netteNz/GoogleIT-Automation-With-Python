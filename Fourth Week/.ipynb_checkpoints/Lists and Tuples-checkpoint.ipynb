{
 "cells": [
  {
   "cell_type": "markdown",
   "id": "23f92670-6add-410c-9e9b-694903d50df1",
   "metadata": {},
   "source": [
    "# Iterating over Lists and Tuples"
   ]
  },
  {
   "cell_type": "code",
   "execution_count": 1,
   "id": "1d003882-58e1-403d-8702-639ba41b4081",
   "metadata": {},
   "outputs": [
    {
     "name": "stdout",
     "output_type": "stream",
     "text": [
      "Total characters: 22, Average length: 5.5\n"
     ]
    }
   ],
   "source": [
    "animals = [\"Lion\", \"Zebra\", \"Dolphin\", \"Monkey\"]\n",
    "chars = 0\n",
    "\n",
    "for animal in animals:\n",
    "    chars += len(animal)\n",
    "print(\"Total characters: {}, Average length: {}\". format(chars, chars/len(animals)))"
   ]
  },
  {
   "cell_type": "code",
   "execution_count": 3,
   "id": "603ad3f2-a5de-4570-8a0d-b9adae692057",
   "metadata": {},
   "outputs": [
    {
     "name": "stdout",
     "output_type": "stream",
     "text": [
      "1 - Ashley\n",
      "2 - Dillan\n",
      "3 - Reese\n"
     ]
    }
   ],
   "source": [
    "winners = [\"Ashley\", \"Dillan\", \"Reese\"]\n",
    "\n",
    "for index, person in enumerate(winners):\n",
    "    print(\"{} - {}\".format(index + 1, person))"
   ]
  },
  {
   "cell_type": "code",
   "execution_count": 4,
   "id": "ad3c9185-d539-402b-8b52-f934c616e928",
   "metadata": {},
   "outputs": [
    {
     "name": "stdout",
     "output_type": "stream",
     "text": [
      "['Alex Diego <alex@example.com>', 'Shay Brandt <shay@example.com>']\n"
     ]
    }
   ],
   "source": [
    "def full_emails(people):\n",
    "    \"\"\"People is a list of tuples\n",
    "    where the first element is\n",
    "    the email address second is the full name\"\"\"\n",
    "    result = []\n",
    "    for email, name in people: # iterate through people\n",
    "        result.append(\"{} <{}>\".format(name, email))\n",
    "    return result\n",
    "\n",
    "print(full_emails([(\"alex@example.com\", \"Alex Diego\"),\n",
    "                  (\"shay@example.com\", \"Shay Brandt\")]))   "
   ]
  },
  {
   "cell_type": "markdown",
   "id": "f7aee946-1eae-40ad-b85f-2baad08123a7",
   "metadata": {},
   "source": [
    "# Iterating Over Lists Using Enumerate\n",
    "\n",
    "When we covered *for* loops, we showed the example of iterating over a list. This lets you iterate over each element in the list, exposing the element to the for loop as a variable. But what if you want to access the elements in a list, along with the index of the element in question? You can do this using the **enumerate()** function. The enumerate() function takes a list as a parameter and returns a tuple for each element in the list. The first value of the tuple is the index and the second value is the element itself."
   ]
  },
  {
   "cell_type": "code",
   "execution_count": 9,
   "id": "da4bfd2c-3a80-4b00-bf46-3c3fcc62a8aa",
   "metadata": {},
   "outputs": [
    {
     "name": "stdout",
     "output_type": "stream",
     "text": [
      "['a', 'c', 'e', 'g']\n",
      "['Orange', 'Strawberry', 'Peach']\n"
     ]
    }
   ],
   "source": [
    "\"\"\"Try out the enumerate function for yourself in this quick exercise. \n",
    "Complete the skip_elements function to return every other element from the list, \n",
    "this time using the enumerate function to check if an element is on an even position or an odd position.\"\"\"\n",
    "\n",
    "def skip_elements(elements):\n",
    "    element = []\n",
    "    for index, e in enumerate(elements):\n",
    "        if index % 2 == 0:\n",
    "            element.append(e)\n",
    "    return element\n",
    "\n",
    "print(skip_elements([\"a\", \"b\", \"c\", \"d\", \"e\", \"f\", \"g\"])) # Should be ['a', 'c', 'e', 'g']\n",
    "print(skip_elements(['Orange', 'Pineapple', 'Strawberry', 'Kiwi', 'Peach'])) # Should be ['Orange', 'Strawberry', 'Peach']"
   ]
  },
  {
   "cell_type": "markdown",
   "id": "b8eedb5a-52ee-45e6-9dcd-e345cfdf6dfc",
   "metadata": {},
   "source": [
    "# List Comprehensions\n",
    "\n",
    "#### Lets us create new lists based on sequences or ranges"
   ]
  },
  {
   "cell_type": "code",
   "execution_count": 10,
   "id": "03f5eeff-967c-43dc-a172-55d822601e92",
   "metadata": {},
   "outputs": [
    {
     "name": "stdout",
     "output_type": "stream",
     "text": [
      "[7, 14, 21, 28, 35, 42, 49, 56, 63, 70]\n"
     ]
    }
   ],
   "source": [
    "multiples = []\n",
    "for x in range(1, 11):\n",
    "    multiples.append(x * 7)\n",
    "    \n",
    "print(multiples)"
   ]
  },
  {
   "cell_type": "code",
   "execution_count": 12,
   "id": "997cb697-086a-4e92-a1c1-de9ecad27d0f",
   "metadata": {},
   "outputs": [
    {
     "name": "stdout",
     "output_type": "stream",
     "text": [
      "[7, 14, 21, 28, 35, 42, 49, 56, 63, 70]\n"
     ]
    }
   ],
   "source": [
    "multiples = [x * 7 for x in range(1, 11)]\n",
    "print(multiples)"
   ]
  },
  {
   "cell_type": "code",
   "execution_count": 13,
   "id": "9f28123d-6c4b-48ce-85ea-d5b76ab6919b",
   "metadata": {},
   "outputs": [
    {
     "name": "stdout",
     "output_type": "stream",
     "text": [
      "[6, 4, 4, 2, 4, 1]\n"
     ]
    }
   ],
   "source": [
    "languages = [\"Python\", \"Perl\", \"Ruby\", \"Go\", \"Java\", \"C\"]\n",
    "lengths = [len(language) for language in languages]\n",
    "print(lengths)"
   ]
  },
  {
   "cell_type": "code",
   "execution_count": 14,
   "id": "ba166e0b-0df8-4a1e-87c4-d1a964f49794",
   "metadata": {},
   "outputs": [
    {
     "name": "stdout",
     "output_type": "stream",
     "text": [
      "[0, 3, 6, 9, 12, 15, 18, 21, 24, 27, 30, 33, 36, 39, 42, 45, 48, 51, 54, 57, 60, 63, 66, 69, 72, 75, 78, 81, 84, 87, 90, 93, 96, 99]\n"
     ]
    }
   ],
   "source": [
    "z = [x for x in range(0, 101) if x % 3 == 0]\n",
    "print(z)"
   ]
  },
  {
   "cell_type": "code",
   "execution_count": 16,
   "id": "f79bc330-42fb-4b87-be9a-acd8171d4a89",
   "metadata": {},
   "outputs": [
    {
     "name": "stdout",
     "output_type": "stream",
     "text": [
      "[1, 3, 5]\n",
      "[1, 3, 5, 7, 9]\n",
      "[1, 3, 5, 7, 9, 11]\n",
      "[1]\n",
      "[]\n"
     ]
    }
   ],
   "source": [
    "\"\"\"The odd_numbers function returns a list of odd numbers between 1 and n, inclusively. \n",
    "Fill in the blanks in the function, using list comprehension. \n",
    "Hint: remember that list and range counters start at 0 and end at the limit minus 1.\"\"\"\n",
    "\n",
    "def odd_numbers(n):\n",
    "\treturn [x for x in range(0, n + 1) if x % 2 != 0]\n",
    "\n",
    "print(odd_numbers(5))  # Should print [1, 3, 5]\n",
    "print(odd_numbers(10)) # Should print [1, 3, 5, 7, 9]\n",
    "print(odd_numbers(11)) # Should print [1, 3, 5, 7, 9, 11]\n",
    "print(odd_numbers(1))  # Should print [1]\n",
    "print(odd_numbers(-1)) # Should print []"
   ]
  },
  {
   "cell_type": "markdown",
   "id": "df6e39fc",
   "metadata": {},
   "source": [
    "# List Comprehensions\n",
    "\n",
    "You can create lists from sequences using a for loop, but there’s a more streamlined way to do this: **list comprehension**. List comprehensions allow you to create a new list from a sequence or a range in a single line.\n",
    "\n",
    "For example, `[ x*2 for x in range(1,11) ]` is a simple list comprehension. This would iterate over the range 1 to 10, and multiply each element in the range by 2. This would result in a list of the multiples of 2, from 2 to 20.\n",
    "\n",
    "You can also use conditionals with list comprehensions to build even more complex and powerful statements. You can do this by appending an if statement to the end of the comprehension. For example, `[ x for x in range(1,101) if x % 10 == 0 ]` would generate a list containing all the integers divisible by 10 from 1 to 100. The if statement we added here evaluates each value in the range from 1 to 100 to check if it’s evenly divisible by 10. If it is, it gets added to the list.\n",
    "\n",
    "List comprehensions can be really powerful, but they can also be super complex, resulting in code that’s hard to read. Be careful when using them, since it might make it more difficult for someone else looking at your code to easily understand what the code is doing."
   ]
  },
  {
   "cell_type": "markdown",
   "id": "c7a0885d",
   "metadata": {
    "tags": []
   },
   "source": [
    "# Lists and Tuples Operations Cheat Sheet\n",
    "\n",
    "### Lists and Tuples Operations Cheat Sheet\n",
    "\n",
    "Lists and tuples are both sequences, so they share a number of sequence operations. But, because lists are mutable, there are also a number of methods specific just to lists. This cheat sheet gives you a run down of the common operations first, and the list-specific operations second.\n",
    "\n",
    "#### Common sequence operations\n",
    "- len(sequence) Returns the length of the sequence\n",
    "- for element in sequence Iterates over each element in the sequence\n",
    "- if element in sequence Checks whether the element is part of the sequence\n",
    "- sequence[i] Accesses the element at index i of the sequence, starting at zero\n",
    "- sequence[i:j] Accesses a slice starting at index i, ending at index j-1. If i is omitted, it's 0 by default. If j is omitted, it's len(sequence) by default.\n",
    "- for index, element in enumerate(sequence) Iterates over both the indexes and the elements in the sequence at the same time\n",
    "\n",
    "#### List-specific operations and methods\n",
    "- list[i] = x Replaces the element at index i with x\n",
    "- list.append(x) Inserts x at the end of the list\n",
    "- list.insert(i, x) Inserts x at index i\n",
    "- list.pop(i) Returns the element a index i, also removing it from the list. If i is omitted, the last element is returned and removed.\n",
    "- list.remove(x) Removes the first occurrence of x in the list\n",
    "- list.sort() Sorts the items in the list\n",
    "- list.reverse() Reverses the order of items of the list\n",
    "- list.clear() Removes all the items of the list\n",
    "- list.copy() Creates a copy of the list\n",
    "- list.extend(other_list) Appends all the elements of other_list at the end of list\n",
    "\n",
    "#### List comprehension\n",
    "- [expression for variable in sequence] Creates a new list based on the given sequence. Each element is the result of the given expression.\n",
    "- [expression for variable in sequence if condition] Creates a new list based on the given sequence. Each element is the result of the given expression; elements only get added if the condition is true."
   ]
  },
  {
   "cell_type": "markdown",
   "id": "3e313491-3acf-40f8-8a65-9a74d8df6677",
   "metadata": {},
   "source": [
    "## Practice Quiz: Lists"
   ]
  },
  {
   "cell_type": "code",
   "execution_count": 4,
   "id": "2d4f2c35-a988-44df-aca1-77cdf39a6cc0",
   "metadata": {},
   "outputs": [
    {
     "name": "stdout",
     "output_type": "stream",
     "text": [
      "['program.c', 'stdio.h', 'sample.h', 'a.out', 'math.h', 'hpp.out']\n"
     ]
    }
   ],
   "source": [
    "\"\"\"Question 1.\n",
    "Given a list of filenames, we want to rename all the files with extension hpp to the extension h. \n",
    "To do this, we would like to generate a new list called newfilenames, consisting of the new filenames. \n",
    "Fill in the blanks in the code using any of the methods you’ve learned thus far, like a for loop or a list comprehension.\"\"\"\n",
    "\n",
    "filenames = [\"program.c\", \"stdio.hpp\", \"sample.hpp\", \"a.out\", \"math.hpp\", \"hpp.out\"]\n",
    "# Generate newfilenames as a list containing the new filenames\n",
    "# using as many lines of code as your chosen method requires.\n",
    "newfilenames = []\n",
    "for filename in filenames:\n",
    "    if filename.endswith(\".hpp\"):\n",
    "        filename = filename.replace(\".hpp\", \".h\")\n",
    "        newfilenames.append(filename)\n",
    "    else:\n",
    "        newfilenames.append(filename)\n",
    "    \n",
    "print(newfilenames) \n",
    "# Should be [\"program.c\", \"stdio.h\", \"sample.h\", \"a.out\", \"math.h\", \"hpp.out\"]"
   ]
  },
  {
   "cell_type": "code",
   "execution_count": 5,
   "id": "899b41bb-4881-4f6c-b058-6ac1fbceca82",
   "metadata": {},
   "outputs": [
    {
     "name": "stdout",
     "output_type": "stream",
     "text": [
      "ellohay owhay reaay ouyay\n",
      "rogrammingpay niay ythonpay siay unfay\n"
     ]
    }
   ],
   "source": [
    "\"\"\"Question 2.\n",
    "Let's create a function that turns text into pig latin: \n",
    "a simple text transformation that modifies each word moving the first character to the end and appending \"ay\" to the end. \n",
    "For example, python ends up as ythonpay.\"\"\"\n",
    "\n",
    "def pig_latin(text):\n",
    "    say = \"\"\n",
    "     # Separate the text into words\n",
    "    words = text.split()\n",
    "    pigged_text = []\n",
    "    \n",
    "    \n",
    "    for word in words: # Create the pig latin word and add it to the list\n",
    "        word = word[1:] + word[0] + 'ay'\n",
    "        pigged_text.append(word)\n",
    "    \n",
    "    return ' '.join(pigged_text) # Turn the list back into a phrase\n",
    "\t\t\n",
    "print(pig_latin(\"hello how are you\")) # Should be \"ellohay owhay reaay ouyay\"\n",
    "print(pig_latin(\"programming in python is fun\")) # Should be \"rogrammingpay niay ythonpay siay unfay\""
   ]
  },
  {
   "cell_type": "code",
   "execution_count": 6,
   "id": "470e78fc-b80f-4f40-adbc-5a7aee1b1f4b",
   "metadata": {},
   "outputs": [
    {
     "name": "stdout",
     "output_type": "stream",
     "text": [
      "rwxr-xr-x\n",
      "rw-r--r--\n",
      "rwxr-x---\n",
      "rw-------\n"
     ]
    }
   ],
   "source": [
    "\"\"\"Question 3.\n",
    "The permissions of a file in a Linux system are split into three sets of three permissions: \n",
    "read, write, and execute for the owner, group, and others. Each of the three values can be expressed as an octal number summing each permission, \n",
    "with 4 corresponding to read, 2 to write, and 1 to execute. Or it can be written with a string using the letters r, w, and x or - when the permission is not granted.\n",
    "For example:\n",
    "\n",
    "640 is read/write for the owner, read for the group, and no permissions for the others; converted to a string, it would be: \"rw-r-----\"\n",
    "755 is read/write/execute for the owner, and read/execute for group and others; converted to a string, it would be: \"rwxr-xr-x\"\n",
    "Fill in the blanks to make the code convert a permission in octal format into a string format.\"\"\"\n",
    "\n",
    "\n",
    "def octal_to_string(octal):\n",
    "    result = \"\"\n",
    "    value_letters = [(4,\"r\"),(2,\"w\"),(1,\"x\")]\n",
    "    \n",
    "    # Iterate over each of the digits in octal\n",
    "    for digit in [int(n) for n in str(octal)]:\n",
    "        # Check for each of the permissions values\n",
    "        for value, letter in value_letters:\n",
    "            if digit >= value:\n",
    "                result += letter\n",
    "                digit -= value\n",
    "            else:\n",
    "                result += \"-\"\n",
    "    return result\n",
    "    \n",
    "print(octal_to_string(755)) # Should be rwxr-xr-x\n",
    "print(octal_to_string(644)) # Should be rw-r--r--\n",
    "print(octal_to_string(750)) # Should be rwxr-x---\n",
    "print(octal_to_string(600)) # Should be rw-------"
   ]
  },
  {
   "cell_type": "markdown",
   "id": "f625e134-7021-41d8-8f41-baecfd35538d",
   "metadata": {},
   "source": [
    "### Question 4.\n",
    "Tuples and lists are very similar types of sequences. What is the main thing that makes a tuple different from a list?\n",
    "\n",
    "**A tuple is immutable**"
   ]
  },
  {
   "cell_type": "code",
   "execution_count": 7,
   "id": "f54c86fa-6cf9-432b-b087-4e5925470276",
   "metadata": {},
   "outputs": [
    {
     "name": "stdout",
     "output_type": "stream",
     "text": [
      "Marketing: Mike, Karen, Jake, Tasha\n",
      "Engineering: Kim, Jay, Tom\n",
      "Users: \n"
     ]
    }
   ],
   "source": [
    "\"\"\"Question 5.\n",
    "The group_list function accepts a group name and a list of members, and returns a string with the format: \n",
    "group_name: member1, member2, … For example, group_list(\"g\", [\"a\",\"b\",\"c\"]) returns \"g: a, b, c\". \n",
    "Fill in the gaps in this function to do that.\"\"\"\n",
    "\n",
    "def group_list(group, users):\n",
    "    members = \", \".join(users)\n",
    "    return \"{}: {}\".format(group, members)\n",
    "\n",
    "print(group_list(\"Marketing\", [\"Mike\", \"Karen\", \"Jake\", \"Tasha\"])) # Should be \"Marketing: Mike, Karen, Jake, Tasha\"\n",
    "print(group_list(\"Engineering\", [\"Kim\", \"Jay\", \"Tom\"])) # Should be \"Engineering: Kim, Jay, Tom\"\n",
    "print(group_list(\"Users\", \"\")) # Should be \"Users:\""
   ]
  },
  {
   "cell_type": "code",
   "execution_count": 9,
   "id": "bef8481e-c354-4a6f-ae1e-0935778bb262",
   "metadata": {},
   "outputs": [
    {
     "name": "stdout",
     "output_type": "stream",
     "text": [
      "Ken is 30 years old and works as Chef\n",
      "Pat is 35 years old and works as Lawyer\n",
      "Amanda is 25 years old and works as Engineer\n"
     ]
    }
   ],
   "source": [
    "\"\"\"Question 6.\n",
    "The guest_list function reads in a list of tuples with the name, age, and profession of each party guest, \n",
    "and prints the sentence \"Guest is X years old and works as __.\" for each one. \n",
    "For example, guest_list(('Ken', 30, \"Chef\"), (\"Pat\", 35, 'Lawyer'), ('Amanda', 25, \"Engineer\")) \n",
    "should print out: Ken is 30 years old and works as Chef. Pat is 35 years old and works as Lawyer. \n",
    "Amanda is 25 years old and works as Engineer. Fill in the gaps in this function to do that. \"\"\"\n",
    "\n",
    "def guest_list(guests):\n",
    "    for guest in guests:\n",
    "        name, age, job = guest\n",
    "        print(\"{} is {} years old and works as {}\".format(name, age, job))\n",
    "\n",
    "guest_list([('Ken', 30, \"Chef\"), (\"Pat\", 35, 'Lawyer'), ('Amanda', 25, \"Engineer\")])"
   ]
  },
  {
   "cell_type": "code",
   "execution_count": null,
   "id": "0c3f1133-9e26-4569-bd60-87f048b9a3bd",
   "metadata": {},
   "outputs": [],
   "source": []
  }
 ],
 "metadata": {
  "kernelspec": {
   "display_name": "Python 3 (ipykernel)",
   "language": "python",
   "name": "python3"
  },
  "language_info": {
   "codemirror_mode": {
    "name": "ipython",
    "version": 3
   },
   "file_extension": ".py",
   "mimetype": "text/x-python",
   "name": "python",
   "nbconvert_exporter": "python",
   "pygments_lexer": "ipython3",
   "version": "3.10.4"
  },
  "vscode": {
   "interpreter": {
    "hash": "b73955b1b146b1bcb73bfc6e1fec7cd476cfbb423e8cf7c33cd12c8102c6fc6a"
   }
  }
 },
 "nbformat": 4,
 "nbformat_minor": 5
}
