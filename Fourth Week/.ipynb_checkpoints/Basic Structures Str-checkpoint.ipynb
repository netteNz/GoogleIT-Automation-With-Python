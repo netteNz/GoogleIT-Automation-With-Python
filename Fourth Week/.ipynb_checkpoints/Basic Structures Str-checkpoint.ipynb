{
 "cells": [
  {
   "cell_type": "code",
   "execution_count": 3,
   "id": "fe823d35-da6f-4307-b816-92e4423a9283",
   "metadata": {},
   "outputs": [
    {
     "name": "stdout",
     "output_type": "stream",
     "text": [
      "hellohello10\n",
      "abcabc6\n",
      "0\n"
     ]
    }
   ],
   "source": [
    "\"\"\"Modify the double_word function so that it returns the same word repeated twice, \n",
    "followed by the length of the new doubled word.\n",
    "For example, double_word(\"hello\") should return hellohello10.\"\"\"\n",
    "\n",
    "def double_word(word):\n",
    "    word = word * 2\n",
    "    return word + str(len(word))\n",
    "\n",
    "print(double_word(\"hello\")) # Should return hellohello10\n",
    "print(double_word(\"abc\"))   # Should return abcabc6\n",
    "print(double_word(\"\"))      # Should return 0"
   ]
  },
  {
   "cell_type": "markdown",
   "id": "ec9c9d3d-f562-45bf-aaaf-038c55a43bb9",
   "metadata": {
    "tags": []
   },
   "source": [
    "### String Indexing"
   ]
  },
  {
   "cell_type": "code",
   "execution_count": 5,
   "id": "9a7c5339-4e0a-4fa9-8b21-32a618bc339d",
   "metadata": {},
   "outputs": [
    {
     "name": "stdout",
     "output_type": "stream",
     "text": [
      "True\n",
      "False\n",
      "True\n"
     ]
    }
   ],
   "source": [
    "\"\"\"Modify the first_and_last function so that \n",
    "it returns True if the first letter of the string\n",
    "is the same as the last letter of the string, \n",
    "False if they’re different. Remember that you can access characters using message[0] or message[-1].\n",
    "Be careful how you handle the empty string, which should return True since nothing is equal to nothing.\"\"\"\n",
    "\n",
    "def first_and_last(message):\n",
    "    if len(message)==0:\n",
    "        return True\n",
    "    else:\n",
    "        return message[0]==message[-1]\n",
    "\n",
    "print(first_and_last(\"else\"))\n",
    "print(first_and_last(\"tree\"))\n",
    "print(first_and_last(\"\"))"
   ]
  },
  {
   "cell_type": "markdown",
   "id": "546fc864-99bf-4c12-b66b-4edc30121d79",
   "metadata": {},
   "source": [
    "# String Indexing and Slicing\n",
    "\n",
    "String indexing allows you to access individual characters in a string. You can do this by using square brackets and the location, or index, of the character you want to access. It's important to remember that Python starts indexes at 0. So to access the first character in a string, you would use the index [0]. If you try to access an index that’s larger than the length of your string, you’ll get an **IndexError**. This is because you’re trying to access something that doesn't exist! You can also access indexes from the end of the string going towards the start of the string by using negative values. The index [-1] would access the last character of the string, and the index [-2] would access the second-to-last character.\n",
    "\n",
    "You can also access a portion of a string, called a slice or a substring. This allows you to access multiple characters of a string. You can do this by creating a range, using a colon as a separator between the start and end of the range, like [2:5].\n",
    "\n",
    "This range is similar to the range() function we saw previously. It includes the first number, but goes to one less than the last number. For example:\n",
    "\n",
    "`fruit = \"Mangosteen\"`\n",
    "`fruit[1:4]`\n",
    "`'ang'`\n",
    "\n",
    "The slice includes the character at index 1, and excludes the character at index 4. You can also easily reference a substring at the start or end of the string by only specifying one end of the range. For example, only giving the end of the range:\n",
    "`fruit[:5]\n",
    "'Mango'`\n",
    "\n",
    "This gave us the characters from the start of the string through index 4, excluding index 5. On the other hand this example gives is the characters including index 5, through the end of the string:\n",
    "`fruit[5:]\n",
    "'steen'`\n",
    "\n",
    "You might have noticed that if you put both of those results together, you get the original string back!\n",
    "\n",
    "`fruit[:5] + fruit[5:]\n",
    "'Mangosteen'`"
   ]
  },
  {
   "cell_type": "code",
   "execution_count": 8,
   "id": "5ee6ff29-617f-4162-8d7a-9160b8470b92",
   "metadata": {},
   "outputs": [
    {
     "data": {
      "text/plain": [
       "21"
      ]
     },
     "execution_count": 8,
     "metadata": {},
     "output_type": "execute_result"
    }
   ],
   "source": [
    "\"\"\"Try using the index method yourself now!\n",
    "\n",
    "\n",
    "Using the index method, find out the position of \"x\" in \"supercalifragilisticexpialidocious\".\"\"\"\n",
    "\n",
    "word = \"supercalifragilisticexpialidocious\"\n",
    "word.index(\"x\")"
   ]
  },
  {
   "cell_type": "code",
   "execution_count": 9,
   "id": "5578bd01-5806-4ee2-a15a-44e25ec80c47",
   "metadata": {},
   "outputs": [],
   "source": [
    "def replace_domain(email, old_domain, new_domain):\n",
    "    if \"@\" + old_domain in email:\n",
    "        index = email.index(\"@\" + old_domain)\n",
    "        new_email = email[:index] + \"@\" + new_domain\n",
    "        return new_email\n",
    "    return email"
   ]
  },
  {
   "cell_type": "markdown",
   "id": "b8441cc6-c8eb-4ccd-9a91-e2035b23f736",
   "metadata": {},
   "source": [
    "# Basic String Methods\n",
    "\n",
    "In Python, strings are immutable. This means that they can't be modified. So if we wanted to fix a typo in a string, we can't simply modify the wrong character. We would have to create a new string with the typo corrected. We can also assign a new value to the variable holding our string.\n",
    "\n",
    "If we aren't sure what the index of our typo is, we can use the string method index to locate it and return the index. Let's imagine we have the string **\"lions tigers and bears\"** in the variable animals. We can locate the index that contains the letter **g** using *animals.index(\"g\")*, which will return the index; in this case 8. We can also use substrings to locate the index where the substring begins. animals.index(\"bears\") would return 17, since that’s the start of the substring. If there’s more than one match for a substring, the index method will return the first match. If we try to locate a substring that doesn't exist in the string, we’ll receive a ValueError explaining that the substring was not found.\n",
    "\n",
    "We can avoid a ValueError by first checking if the substring exists in the string. This can be done using the in keyword. We saw this keyword earlier when we covered for loops. In this case, it's a conditional that will be either True or False. If the substring is found in the string, it will be True. If the substring is not found in the string, it will be False. Using our previous variable animals, we can do \"horses\" in animals to check if the substring \"horses\" is found in our variable. In this case, it would evaluate to False, since horses aren’t included in our example string. If we did \"tigers\" in animals, we'd get True, since this substring is contained in our string."
   ]
  },
  {
   "cell_type": "code",
   "execution_count": 10,
   "id": "59024990-a1a6-40e9-b25f-3db6420594e2",
   "metadata": {},
   "outputs": [
    {
     "name": "stdout",
     "output_type": "stream",
     "text": [
      "USB\n",
      "LAN\n",
      "OS\n"
     ]
    }
   ],
   "source": [
    "\"\"\"Fill in the gaps in the initials function so that it returns the initials of the words contained in the phrase received,\n",
    "in upper case. For example: \"Universal Serial Bus\" should return \"USB\"; \"local area network\" should return \"LAN”.\"\"\"\n",
    "\n",
    "def initials(phrase):\n",
    "    words = phrase.split()\n",
    "    result = \"\"\n",
    "    for word in words:\n",
    "        result += word[0].upper()\n",
    "    return result\n",
    "\n",
    "print(initials(\"Universal Serial Bus\")) # Should be: USB\n",
    "print(initials(\"local area network\")) # Should be: LAN\n",
    "print(initials(\"Operating system\")) # Should be: OS"
   ]
  },
  {
   "cell_type": "markdown",
   "id": "ada97b86-86cd-4df4-b7e8-d59ec6ee8b68",
   "metadata": {},
   "source": [
    "# Advanced String Methods\n",
    "\n",
    "We've covered a bunch of String class methods already, so let's keep building on those and run down some more advanced methods.\n",
    "\n",
    "The string method lower will return the string with all characters changed to lowercase. The inverse of this is the upper method, which will return the string all in uppercase. Just like with previous methods, we call these on a string using dot notation, like \"this is a string\".upper(). This would return the string \"THIS IS A STRING\". This can be super handy when checking user input, since someone might type in all lowercase, all uppercase, or even a mixture of cases.\n",
    "\n",
    "You can use the strip method to remove surrounding whitespace from a string. Whitespace includes spaces, tabs, and newline characters. You can also use the methods  lstrip and rstrip to remove whitespace only from the left or the right side of the string, respectively.\n",
    "\n",
    "The method count can be used to return the number of times a substring appears in a string. This can be handy for finding out how many characters appear in a string, or counting the number of times a certain word appears in a sentence or paragraph.\n",
    "\n",
    "If you wanted to check if a string ends with a given substring, you can use the method endswith. This will return True if the substring is found at the end of the string, and False if not.\n",
    "\n",
    "The isnumeric method can check if a string is composed of only numbers. If the string contains only numbers, this method will return True. We can use this to check if a string contains numbers before passing the string to the int() function to convert it to an integer, avoiding an error. Useful!\n",
    "\n",
    "We took a look at string concatenation using the plus sign, earlier. We can also use the join method to concatenate strings. This method is called on a string that will be used to join a list of strings. The method takes a list of strings to be joined as a parameter, and returns a new string composed of each of the strings from our list joined using the initial string. For example, \" \".join([\"This\",\"is\",\"a\",\"sentence\"]) would return the string \"This is a sentence\".\n",
    "\n",
    "The inverse of the join method is the split method. This allows us to split a string into a list of strings. By default, it splits by any whitespace characters. You can also split by any other characters by passing a parameter."
   ]
  },
  {
   "cell_type": "markdown",
   "id": "4eda6d61-97f0-481d-b9fb-e1a9b5d212a5",
   "metadata": {},
   "source": [
    "## Formatting Strings"
   ]
  },
  {
   "cell_type": "code",
   "execution_count": 6,
   "id": "fa2b1b18-6ac9-4f91-b403-a0b3b08b1996",
   "metadata": {},
   "outputs": [
    {
     "name": "stdout",
     "output_type": "stream",
     "text": [
      "Hello Manny, your lucky number is 15\n",
      "Your lucky number is 15, Manny.\n"
     ]
    }
   ],
   "source": [
    "name = \"Manny\"\n",
    "number = len(name) * 3\n",
    "\n",
    "print(\"Hello {}, your lucky number is {}\".format(name, number))\n",
    "\n",
    "print(\"Your lucky number is {number}, {name}.\".format(name=name, number=len(name)*3))"
   ]
  },
  {
   "cell_type": "code",
   "execution_count": 9,
   "id": "4e7db38f-03bf-4ff4-9093-fc2530a39b0e",
   "metadata": {},
   "outputs": [
    {
     "name": "stdout",
     "output_type": "stream",
     "text": [
      "Reed received 80% on the exam.\n",
      "Paige received 92% on the exam.\n",
      "Jesse received 85% on the exam.\n"
     ]
    }
   ],
   "source": [
    "\"\"\"Modify the student_grade function using the format method, so that it returns\n",
    "the phrase \"X received Y% on the exam\". For example, student_grade(\"Reed\", 80)\n",
    "should return \"Reed received 80% on the exam\".\"\"\"\n",
    "\n",
    "def student_grade(name, grade):\n",
    "\treturn \"{} received {}% on the exam.\".format(name, grade)\n",
    "\n",
    "print(student_grade(\"Reed\", 80))\n",
    "print(student_grade(\"Paige\", 92))\n",
    "print(student_grade(\"Jesse\", 85))"
   ]
  },
  {
   "cell_type": "code",
   "execution_count": 11,
   "id": "0a30850a-28ef-4e8c-9eec-c543145e325c",
   "metadata": {},
   "outputs": [
    {
     "name": "stdout",
     "output_type": "stream",
     "text": [
      "7.5 8.175\n",
      "Base price: $7.50. With Tax: $8.18\n"
     ]
    }
   ],
   "source": [
    "price = 7.5\n",
    "with_tax = price * 1.09\n",
    "print(price, with_tax)\n",
    "\n",
    "print(\"Base price: ${:.2f}. With Tax: ${:.2f}\".format(price, with_tax))"
   ]
  },
  {
   "cell_type": "code",
   "execution_count": 12,
   "id": "86dfa432-fef5-4933-986d-d3de0d8ce5b7",
   "metadata": {},
   "outputs": [
    {
     "name": "stdout",
     "output_type": "stream",
     "text": [
      "  0 F | -17.78 C\n",
      " 10 F | -12.22 C\n",
      " 20 F |  -6.67 C\n",
      " 30 F |  -1.11 C\n",
      " 40 F |   4.44 C\n",
      " 50 F |  10.00 C\n",
      " 60 F |  15.56 C\n",
      " 70 F |  21.11 C\n",
      " 80 F |  26.67 C\n",
      " 90 F |  32.22 C\n",
      "100 F |  37.78 C\n"
     ]
    }
   ],
   "source": [
    "def to_celsius(x):\n",
    "    return (x-32)*5/9\n",
    "\n",
    "for x in range(0,101,10):\n",
    "    print(\"{:>3} F | {:>6.2f} C\".format(x, to_celsius(x)))"
   ]
  },
  {
   "cell_type": "markdown",
   "id": "01bca32b-78fe-4cf1-8363-1927f8b00a5b",
   "metadata": {},
   "source": [
    "# String Formatting\n",
    "\n",
    "You can use the **format** method on strings to concatenate and format strings in all kinds of powerful ways. To do this, create a string containing curly brackets, **{}**, as a placeholder, to be replaced. Then call the format method on the string using .format() and pass variables as parameters. The variables passed to the method will then be used to replace the curly bracket placeholders. This method automatically handles any conversion between data types for us. \n",
    "\n",
    "If the curly brackets are empty, they’ll be populated with the variables passed in the order in which they're passed. However, you can put certain expressions inside the curly brackets to do even more powerful string formatting operations. You can put the name of a variable into the curly brackets, then use the names in the parameters. This allows for more easily readable code, and for more flexibility with the order of variables.\n",
    "\n",
    "You can also put a formatting expression inside the curly brackets, which lets you alter the way the string is formatted. For example, the formatting expression **{:.2f}** means that you’d format this as a float number, with two digits after the decimal dot. The colon acts as a separator from the field name, if you had specified one. You can also specify text alignment using the greater than operator: >. For example, the expression **{:>3.2f}** would align the text three spaces to the right, as well as specify a float number with two decimal places. String formatting can be very handy for outputting easy-to-read textual output."
   ]
  },
  {
   "cell_type": "markdown",
   "id": "3e466fda-bcc5-4c45-abf5-e75cf799eee9",
   "metadata": {},
   "source": [
    "# String Reference Cheat Sheet\n",
    "\n",
    "### String Reference Cheat Sheet\n",
    "In Python, there are a lot of things you can do with strings. In this cheat sheet, you’ll find the most common string operations and string methods.\n",
    "\n",
    "##### String Operations\n",
    "- len(string) Returns the length of the string.\n",
    "- for character in string Iterates over each character in the string\n",
    "- if substring in string Checks whether the substring is part of the string\n",
    "- string[i] Accesses the character at index i of the string, starting at zero\n",
    "- string[i:j] Accesses the substring starting at index i, ending at index j-1. If i is omitted, it's 0 by default. If j is omitted, it's len(string) by default.\n",
    "\n",
    "#### String Methods\n",
    "- string.lower() / string.upper() Returns a copy of the string with all lower / upper case characters\n",
    "- string.lstrip() / string.rstrip() / string.strip() Returns a copy of the string without left / right / left or right whitespace\n",
    "- string.count(substring) Returns the number of times substring is present in the string\n",
    "- string.isnumeric() Returns True if there are only numeric characters in the string. If not, returns False.\n",
    "- string.isalpha() Returns True if there are only alphabetic characters in the string. If not, returns False.\n",
    "- string.split() / string.split(delimiter) Returns a list of substrings that were separated by whitespace / delimiter\n",
    "- string.replace(old, new) Returns a new string where all occurrences of old have been replaced by new.\n",
    "- delimiter.join(list of strings) Returns a new string with all the strings joined by the delimiter "
   ]
  },
  {
   "cell_type": "markdown",
   "id": "5cc9f132-73b7-4f94-a0dc-c2db9e85f3ff",
   "metadata": {},
   "source": [
    "# Formatting Strings Cheat Sheet\n",
    "\n",
    "## Formatting Strings Cheat Sheet\n",
    "Python offers different ways to format strings. In the video, we explained the format() method. In this reading, we'll highlight three different ways of formatting strings. For this course you only need to know the format() method. But on the internet, you might find any of the three, so it's a good idea to know that the others exist.\n",
    "\n",
    "### Using the format() method\n",
    "The format method returns a copy of the string where the {} placeholders have been replaced with the values of the variables. These variables are converted to strings if they weren't strings already. Empty placeholders are replaced by the variables passed to format in the same order.\n",
    "\n",
    "```python\n",
    "# \"base string with {} placeholders\".format(variables)\n",
    "\n",
    "example = \"format() method\"\n",
    "\n",
    "formatted_string = \"this is an example of using the {} on a string\".format(example)\n",
    "\n",
    "print(formatted_string)\n",
    "\n",
    "\"\"\"Outputs:\n",
    "this is an example of using the format() method on a string\n",
    "\"\"\"\n",
    "```\n",
    "\n",
    "If the placeholders indicate a number, they’re replaced by the variable corresponding to that order (starting at zero).\n",
    "\n",
    "```python\n",
    "# \"{0} {1}\".format(first, second)\n",
    "\n",
    "first = \"apple\"\n",
    "second = \"banana\"\n",
    "third = \"carrot\"\n",
    "\n",
    "formatted_string = \"{0} {2} {1}\".format(first, second, third)\n",
    "\n",
    "print(formatted_string)\n",
    "\n",
    "\"\"\"Outputs:\n",
    "apple carrot banana\n",
    "\"\"\"\n",
    "```\n",
    "\n",
    "If the placeholders indicate a field name, they’re replaced by the variable corresponding to that field name. This means that parameters to format need to be passed indicating the field name.\n",
    "```python\n",
    "# \"{var1} {var2}\".format(var1=value1, var2=value2)\n",
    "```\n",
    "```python\n",
    "\"{:exp1} {:exp2}\".format(value1, value2)\n",
    "```\n",
    "If the placeholders include a colon, what comes after the colon is a formatting expression. See below for the expression reference.\n",
    "```python\n",
    "# {:d} integer value\n",
    "'{:d}'.format(10.5) → '10'\n",
    "```\n",
    "\n",
    "| Expression    | Meaning       | Example    |\n",
    "| ------------- |:-------------:| ----------:|\n",
    "| {:d}          | integer value                                | '{:d}'.format(10.5) → '10'       |\n",
    "| {:.2f}        | floating point with that many decimals       | '{:.2f}'.format(0.5) → '0.50'    |\n",
    "| {:.2s}        | string with that many characters             | '{:.2s}'.format('Python') → 'Py' |\n",
    "| {:<6s}        | string aligned to the left that many spaces  | '{:<6s}'.format('Py') → 'Py    ' |\n",
    "| {:>6s}        | string aligned to the right that many spaces | '{:>6s}'.format('Py') → '    Py' |\n",
    "| {:^6s}        | string centered in that many spaces          | '{:^6s}'.format('Py') → '  Py  ' |\n"
   ]
  },
  {
   "cell_type": "code",
   "execution_count": null,
   "id": "0025c95b-b5d1-4274-bd6a-570df276fed2",
   "metadata": {},
   "outputs": [],
   "source": []
  }
 ],
 "metadata": {
  "kernelspec": {
   "display_name": "Python 3 (ipykernel)",
   "language": "python",
   "name": "python3"
  },
  "language_info": {
   "codemirror_mode": {
    "name": "ipython",
    "version": 3
   },
   "file_extension": ".py",
   "mimetype": "text/x-python",
   "name": "python",
   "nbconvert_exporter": "python",
   "pygments_lexer": "ipython3",
   "version": "3.10.4"
  }
 },
 "nbformat": 4,
 "nbformat_minor": 5
}
