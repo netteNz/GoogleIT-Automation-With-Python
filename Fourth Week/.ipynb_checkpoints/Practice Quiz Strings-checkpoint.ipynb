{
 "cells": [
  {
   "cell_type": "markdown",
   "id": "76cc9eaa-be2a-4b25-89be-d1f2940acbba",
   "metadata": {},
   "source": [
    "# Practice Quiz: Strings\n"
   ]
  },
  {
   "cell_type": "code",
   "execution_count": 2,
   "id": "b95e4cfd-f025-4180-a8e5-67df65864457",
   "metadata": {},
   "outputs": [
    {
     "name": "stdout",
     "output_type": "stream",
     "text": [
      "True\n",
      "False\n",
      "True\n"
     ]
    }
   ],
   "source": [
    "\"\"\"Question 1.\n",
    "The is_palindrome function checks if a string is a palindrome. A palindrome is a string that can be equally read\n",
    "from left to right or right to left, omitting blank spaces, and ignoring capitalization. Examples of palindromes\n",
    "are words like kayak and radar, and phrases like \"Never Odd or Even\". \n",
    "Fill in the blanks in this function to return True if the passed string is a palindrome, False if not.\"\"\"\n",
    "\n",
    "def is_palindrome(input_string):\n",
    "\t# We'll create two strings, to compare them\n",
    "\tnew_string = \"\"\n",
    "\treverse_string = \"\"\n",
    "\t# Traverse through each letter of the input string\n",
    "\tfor string in input_string.lower():\n",
    "\t\t# Add any non-blank letters to the \n",
    "\t\t# end of one string, and to the front\n",
    "\t\t# of the other string. \n",
    "\t\tif string.replace(\" \", \"\"):\n",
    "\t\t\tnew_string = string + new_string\n",
    "\t\t\treverse_string = string + reverse_string\n",
    "\t# Compare the strings\n",
    "\tif new_string[::-1]==reverse_string:\n",
    "\t\treturn True\n",
    "\treturn False\n",
    "\n",
    "print(is_palindrome(\"Never Odd or Even\")) # Should be True\n",
    "print(is_palindrome(\"abc\")) # Should be False\n",
    "print(is_palindrome(\"kayak\")) # Should be True"
   ]
  },
  {
   "cell_type": "code",
   "execution_count": 5,
   "id": "0e61a19b-e268-4e9c-984a-aff438988936",
   "metadata": {},
   "outputs": [
    {
     "name": "stdout",
     "output_type": "stream",
     "text": [
      "12.0 miles equals 19.2 km\n",
      "5.5 miles equals 8.8 km\n",
      "11.0 miles equals 17.6 km\n"
     ]
    }
   ],
   "source": [
    "\"\"\"Question 2.\n",
    "Using the format method, fill in the gaps in the convert_distance function\n",
    "so that it returns the phrase \"X miles equals Y km\", with Y having only 1 decimal place. \n",
    "For example, convert_distance(12) should return \"12 miles equals 19.2 km\".\"\"\"\n",
    "\n",
    "def convert_distance(miles):\n",
    "    km = miles * 1.6\n",
    "    result = \"{:.1f} miles equals {:.1f} km\".format(miles, km)\n",
    "    return result\n",
    "\n",
    "print(convert_distance(12)) # Should be: 12 miles equals 19.2 km\n",
    "print(convert_distance(5.5)) # Should be: 5.5 miles equals 8.8 km\n",
    "print(convert_distance(11)) # Should be: 11 miles equals 17.6 km"
   ]
  },
  {
   "cell_type": "code",
   "execution_count": 9,
   "id": "69e9548f-14b0-4308-9ad4-215ab6637e55",
   "metadata": {},
   "outputs": [
    {
     "name": "stdout",
     "output_type": "stream",
     "text": [
      "Rain\n"
     ]
    }
   ],
   "source": [
    "\"\"\"3.\n",
    "If we have a string variable named Weather = \"Rainfall\", \n",
    "which of the following will print the substring or all characters before the \"f\"?\"\"\"\n",
    "\n",
    "Weather = \"Rainfall\"\n",
    "print(Weather[:4])"
   ]
  },
  {
   "cell_type": "code",
   "execution_count": 11,
   "id": "4cb38117-92eb-4373-8814-5312489c6ccd",
   "metadata": {},
   "outputs": [
    {
     "name": "stdout",
     "output_type": "stream",
     "text": [
      "Jane S.\n",
      "Francesco R.\n",
      "Jean-Luc G.\n"
     ]
    }
   ],
   "source": [
    "\"\"\"Question 4.\n",
    "Fill in the gaps in the nametag function so that it uses the format method\n",
    "to return first_name and the first initial of last_name\n",
    "followed by a period. For example, nametag(\"Jane\", \"Smith\") should return \"Jane S.\"\"\"\n",
    "\n",
    "def nametag(first_name, last_name):\n",
    "\treturn(\"{} {}.\".format(first_name, last_name[0]))\n",
    "\n",
    "print(nametag(\"Jane\", \"Smith\")) \n",
    "# Should display \"Jane S.\" \n",
    "print(nametag(\"Francesco\", \"Rinaldi\")) \n",
    "# Should display \"Francesco R.\" \n",
    "print(nametag(\"Jean-Luc\", \"Grand-Pierre\")) \n",
    "# Should display \"Jean-Luc G.\""
   ]
  },
  {
   "cell_type": "code",
   "execution_count": 12,
   "id": "f25da43d-7ebd-4a95-a4bd-b42f04a61174",
   "metadata": {},
   "outputs": [
    {
     "name": "stdout",
     "output_type": "stream",
     "text": [
      "It's raining cats and dogs\n",
      "She sells seashells by the seashore\n",
      "The weather is nice in May\n",
      "The weather is nice in April\n"
     ]
    }
   ],
   "source": [
    "\"\"\"Question 5.\n",
    "The replace_ending function replaces the old string in a sentence with the new string,\n",
    "but only if the sentence ends with the old string. \n",
    "If there is more than one occurrence of the old string in the sentence,\n",
    "only the one at the end is replaced, not all of them. For example, replace_ending(\"abcabc\", \"abc\", \"xyz\") \n",
    "should return abcxyz, not xyzxyz or xyzabc. The string comparison is case-sensitive, so replace_ending(\"abcabc\", \"ABC\", \"xyz\") \n",
    "should return abcabc (no changes made).\"\"\"\n",
    "\n",
    "def replace_ending(sentence, old, new):\n",
    "\t# Check if the old string is at the end of the sentence \n",
    "\tif sentence.endswith(old):\n",
    "\t\t# Using i as the slicing index, combine the part\n",
    "\t\t# of the sentence up to the matched string at the \n",
    "\t\t# end with the new string\n",
    "\t\ti = sentence.rindex(old)\n",
    "\t\tnew_sentence = sentence[:i] + new\n",
    "\t\treturn new_sentence\n",
    "\n",
    "\t# Return the original sentence if there is no match \n",
    "\treturn sentence\n",
    "\t\n",
    "print(replace_ending(\"It's raining cats and cats\", \"cats\", \"dogs\")) \n",
    "# Should display \"It's raining cats and dogs\"\n",
    "print(replace_ending(\"She sells seashells by the seashore\", \"seashells\", \"donuts\")) \n",
    "# Should display \"She sells seashells by the seashore\"\n",
    "print(replace_ending(\"The weather is nice in May\", \"may\", \"april\")) \n",
    "# Should display \"The weather is nice in May\"\n",
    "print(replace_ending(\"The weather is nice in May\", \"May\", \"April\")) \n",
    "# Should display \"The weather is nice in April\""
   ]
  },
  {
   "cell_type": "code",
   "execution_count": null,
   "id": "01bbdfac-16fd-4bea-982a-b2e09d62ec37",
   "metadata": {},
   "outputs": [],
   "source": []
  }
 ],
 "metadata": {
  "kernelspec": {
   "display_name": "Python 3 (ipykernel)",
   "language": "python",
   "name": "python3"
  },
  "language_info": {
   "codemirror_mode": {
    "name": "ipython",
    "version": 3
   },
   "file_extension": ".py",
   "mimetype": "text/x-python",
   "name": "python",
   "nbconvert_exporter": "python",
   "pygments_lexer": "ipython3",
   "version": "3.10.4"
  }
 },
 "nbformat": 4,
 "nbformat_minor": 5
}
