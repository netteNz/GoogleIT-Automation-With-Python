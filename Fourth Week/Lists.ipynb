{
 "cells": [
  {
   "cell_type": "code",
   "execution_count": 2,
   "id": "fb133978-b111-4a83-b6ac-7ab6ec3335ce",
   "metadata": {},
   "outputs": [
    {
     "name": "stdout",
     "output_type": "stream",
     "text": [
      "lesson\n",
      "\n",
      "Now\n",
      "\n"
     ]
    }
   ],
   "source": [
    "\"\"\"Using the \"split\" string method from the preceding lesson, \n",
    "complete the get_word function to return the {n}th word from a passed sentence. \n",
    "For example, get_word(\"This is a lesson about lists\", 4) should return \"lesson\", \n",
    "which is the 4th word in this sentence. Hint: remember that list indexes start at 0, not 1.\"\"\"\n",
    "\n",
    "def get_word(sentence, n):\n",
    "\t# Only proceed if n is positive \n",
    "\tif n > 0:\n",
    "\t\twords = sentence.split()\n",
    "\t\t# Only proceed if n is not more than the number of words \n",
    "\t\tif n <= len(words):\n",
    "\t\t\treturn(words[n-1])\n",
    "\treturn(\"\")\n",
    "\n",
    "print(get_word(\"This is a lesson about lists\", 4)) # Should print: lesson\n",
    "print(get_word(\"This is a lesson about lists\", -4)) # Nothing\n",
    "print(get_word(\"Now we are cooking!\", 1)) # Should print: Now\n",
    "print(get_word(\"Now we are cooking!\", 5)) # Nothing"
   ]
  },
  {
   "cell_type": "markdown",
   "id": "b4c0f6e5-b6e7-4910-9672-35078a917234",
   "metadata": {},
   "source": [
    "# Lists Defined\n",
    "\n",
    "Lists in Python are defined using square brackets, with the elements stored in the list separated by commas: **list = [\"This\", \"is\", \"a\", \"list\"]**. You can use the **len()** function to return the number of elements in a list: **len(list)** would return **4**. You can also use the in keyword to check if a list contains a certain element. If the element is present, it will return a True boolean. If the element is not found in the list, it will return False. For example, \"This\" in list would return True in our example. Similar to strings, lists can also use indexing to access specific elements in a list based on their position. You can access the first element in a list by doing **list[0]**, which would allow you to access the string \"This\".\n",
    "\n",
    "In Python, lists and strings are quite similar. They’re both examples of sequences of data. Sequences have similar properties, like \n",
    "- (1) being able to iterate over them using for loops; \n",
    "- (2) support indexing; \n",
    "- (3) using the len function to find the length of the sequence; \n",
    "- (4) using the plus operator + in order to concatenate; \n",
    "- (5) using the in keyword to check if the sequence contains a value.\n",
    "\n",
    "Understanding these concepts allows you to apply them to other sequence types as well."
   ]
  },
  {
   "cell_type": "code",
   "execution_count": 5,
   "id": "36174537-a77d-4a72-8a0b-a29785f7804a",
   "metadata": {},
   "outputs": [
    {
     "name": "stdout",
     "output_type": "stream",
     "text": [
      "['a', 'c', 'e', 'g']\n",
      "['Orange', 'Strawberry', 'Peach']\n",
      "[]\n"
     ]
    }
   ],
   "source": [
    "\"\"\"The skip_elements function returns a list containing every other element from an input list, \n",
    "starting with the first element. Complete this function to do that, using the for loop to iterate through the input list.\"\"\"\n",
    "\n",
    "def skip_elements(elements):\n",
    "\t# Initialize variables\n",
    "\tnew_list = []\n",
    "\ti = 0\n",
    "\n",
    "\t# Iterate through the list\n",
    "\tfor i in range(len(elements)):\n",
    "\t\t# Does this element belong in the resulting list?\n",
    "\t\tif i % 2 == 0:\n",
    "\t\t\t# Add this element to the resulting list\n",
    "\t\t\tnew_list.append(elements[i])\n",
    "\t\t# Increment i\n",
    "\t\ti += 1\n",
    "\n",
    "\treturn new_list\n",
    "\n",
    "print(skip_elements([\"a\", \"b\", \"c\", \"d\", \"e\", \"f\", \"g\"])) # Should be ['a', 'c', 'e', 'g']\n",
    "print(skip_elements(['Orange', 'Pineapple', 'Strawberry', 'Kiwi', 'Peach'])) # Should be ['Orange', 'Strawberry', 'Peach']\n",
    "print(skip_elements([])) # Should be []"
   ]
  },
  {
   "cell_type": "markdown",
   "id": "ef05e2aa-ae7b-4840-bdc4-dfaea0d6a236",
   "metadata": {},
   "source": [
    "# Modifying Lists\n",
    "\n",
    "While lists and strings are both sequences, a big difference between them is that lists are mutable. \n",
    "This means that the contents of the list can be changed, unlike strings, which are immutable. \n",
    "You can add, remove, or modify elements in a list.\n",
    "\n",
    "You can add elements to the end of a list using the append method. You call this method on a list using dot notation, and pass in the element to be added as a parameter. For example, list.append(\"New data\") would add the string \"New data\" to the end of the list called list.\n",
    "\n",
    "If you want to add an element to a list in a specific position, you can use the method insert. The method takes two parameters: the first specifies the index in the list, and the second is the element to be added to the list. So list.insert(0, \"New data\") would add the string \"New data\" to the front of the list. This wouldn't overwrite the existing element at the start of the list. It would just shift all the other elements by one. If you specify an index that’s larger than the length of the list, the element will simply be added to the end of the list.\n",
    "\n",
    "You can remove elements from the list using the remove method. This method takes an element as a parameter, and removes the first occurrence of the element. If the element isn’t found in the list, you’ll get a ValueError error explaining that the element was not found in the list.\n",
    "\n",
    "You can also remove elements from a list using the pop method. This method differs from the remove method in that it takes an index as a parameter, and returns the element that was removed. This can be useful if you don't know what the value is, but you know where it’s located. This can also be useful when you need to access the data and also want to remove it from the list.\n",
    "\n",
    "Finally, you can change an element in a list by using indexing to overwrite the value stored at the specified index. For example, you can enter list[0] = \"Old data\" to overwrite the first element in a list with the new string \"Old data\"."
   ]
  },
  {
   "cell_type": "code",
   "execution_count": 6,
   "id": "b346a276-7bc3-4b26-be0c-6c1f2cedfe6a",
   "metadata": {},
   "outputs": [
    {
     "data": {
      "text/plain": [
       "(1, 11, 40)"
      ]
     },
     "execution_count": 6,
     "metadata": {},
     "output_type": "execute_result"
    }
   ],
   "source": [
    "def convert_seconds(seconds):\n",
    "    hours = seconds // 3600\n",
    "    minutes = (seconds - hours * 3600) // 60\n",
    "    remaining_seconds = seconds - hours * 3600 - minutes * 60\n",
    "    return hours, minutes, remaining_seconds\n",
    "\n",
    "convert_seconds(4300)\n"
   ]
  },
  {
   "cell_type": "code",
   "execution_count": 7,
   "id": "14843bb8-065d-4dcb-b116-9ab21f56d8ea",
   "metadata": {},
   "outputs": [
    {
     "name": "stdout",
     "output_type": "stream",
     "text": [
      "17.46\n",
      "0.48\n",
      "1.21\n"
     ]
    }
   ],
   "source": [
    "\"\"\"Let's use tuples to store information about a file: its name, its type and its size in bytes.\n",
    "Fill in the gaps in this code to return the size in kilobytes (a kilobyte is 1024 bytes) up to 2 decimal places.\"\"\"\n",
    "\n",
    "def file_size(file_info):\n",
    "\tname, type, size = file_info\n",
    "\treturn(\"{:.2f}\".format(size / 1024))\n",
    "\n",
    "print(file_size(('Class Assignment', 'docx', 17875))) # Should print 17.46\n",
    "print(file_size(('Notes', 'txt', 496))) # Should print 0.48\n",
    "print(file_size(('Program', 'py', 1239))) # Should print 1.21"
   ]
  },
  {
   "cell_type": "markdown",
   "id": "129a8082-18b2-40f8-a051-b127ef71dd6e",
   "metadata": {},
   "source": [
    "# Tuples\n",
    "\n",
    "As we mentioned earlier, strings and lists are both examples of sequences. Strings are sequences of characters, and are immutable. Lists are sequences of elements of any data type, and are mutable. The third sequence type is the tuple. Tuples are like lists, since they can contain elements of any data type. But unlike lists, tuples are immutable. They’re specified using parentheses instead of square brackets.\n",
    "\n",
    "You might be wondering why tuples are a thing, given how similar they are to lists. Tuples can be useful when we need to ensure that an element is in a certain position and will not change. Since lists are mutable, the order of the elements can be changed on us. Since the order of the elements in a tuple can't be changed, the position of the element in a tuple can have meaning. A good example of this is when a function returns multiple values. In this case, what gets returned is a tuple, with the return values as elements in the tuple. The order of the returned values is important, and a tuple ensures that the order isn’t going to change. Storing the elements of a tuple in separate variables is called unpacking. This allows you to take multiple returned values from a function and store each value in its own variable."
   ]
  },
  {
   "cell_type": "code",
   "execution_count": null,
   "id": "550e3e99-3627-4c32-b85f-65d53cf6f374",
   "metadata": {},
   "outputs": [],
   "source": []
  }
 ],
 "metadata": {
  "kernelspec": {
   "display_name": "Python 3 (ipykernel)",
   "language": "python",
   "name": "python3"
  },
  "language_info": {
   "codemirror_mode": {
    "name": "ipython",
    "version": 3
   },
   "file_extension": ".py",
   "mimetype": "text/x-python",
   "name": "python",
   "nbconvert_exporter": "python",
   "pygments_lexer": "ipython3",
   "version": "3.10.4"
  }
 },
 "nbformat": 4,
 "nbformat_minor": 5
}
