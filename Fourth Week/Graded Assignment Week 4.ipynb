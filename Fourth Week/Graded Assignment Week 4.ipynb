{
 "cells": [
  {
   "cell_type": "markdown",
   "id": "5621d482-d972-43b3-a9f0-e9821e1ba379",
   "metadata": {},
   "source": [
    "# Graded Assignment: Week 4"
   ]
  },
  {
   "cell_type": "code",
   "execution_count": 15,
   "id": "acfaac60-d3dc-437a-9127-ed2ffb9d8a30",
   "metadata": {},
   "outputs": [
    {
     "name": "stdout",
     "output_type": "stream",
     "text": [
      "house number 123 on street named  Main Street\n",
      "house number 1001 on street named  1st Ave\n",
      "house number 55 on street named  North Center Drive\n"
     ]
    }
   ],
   "source": [
    "\"\"\"Question 1.\n",
    "The format_address function separates out parts of the address string into new strings: house_number and street_name, and returns: \"house number X on street named Y\".\n",
    "The format of the input string is: numeric house number, followed by the street name which may contain numbers, but never by themselves, and could be several words long. \n",
    "For example, \"123 Main Street\", \"1001 1st Ave\", or \"55 North Center Drive\". Fill in the gaps to complete this function.\"\"\"\n",
    "\n",
    "def format_address(address_string):\n",
    "    # Declare variables\n",
    "    number = ''\n",
    "    street = ''\n",
    "    # Separate the address string into parts\n",
    "    address_string = address_string.split()\n",
    "    # Traverse through the address parts\n",
    "    for add in address_string:\n",
    "      # Determine if the address part is the\n",
    "      # house number or part of the street name\n",
    "        if add.isdigit():\n",
    "            number += add \n",
    "      # Does anything else need to be done \n",
    "      # before returning the result?\n",
    "        else :\n",
    "            street += \" \" + add\n",
    "      # Return the formatted string  \n",
    "    return \"house number {} on street named {}\".format(number, street)\n",
    "\n",
    "print(format_address(\"123 Main Street\"))\n",
    "# Should print: \"house number 123 on street named Main Street\"\n",
    "\n",
    "print(format_address(\"1001 1st Ave\"))\n",
    "# Should print: \"house number 1001 on street named 1st Ave\"\n",
    "\n",
    "print(format_address(\"55 North Center Drive\"))\n",
    "# Should print \"house number 55 on street named North Center Drive\"\n"
   ]
  },
  {
   "cell_type": "code",
   "execution_count": 2,
   "id": "95c41e84-623e-473c-a114-e8c466be85ed",
   "metadata": {},
   "outputs": [
    {
     "name": "stdout",
     "output_type": "stream",
     "text": [
      "Have a NICE day\n",
      "Shhh, don't be so LOUD!\n",
      "Automating with Python is FUN\n"
     ]
    }
   ],
   "source": [
    "\"\"\"Question 2.\n",
    "The highlight_word function changes the given word in a sentence to its upper-case version. \n",
    "For example, highlight_word(\"Have a nice day\", \"nice\") returns \"Have a NICE day\". \n",
    "Can you write this function in just one line?\"\"\"\n",
    "\n",
    "def highlight_word(sentence, word):\n",
    "\treturn(sentence.replace(word, word.upper()))\n",
    "\n",
    "print(highlight_word(\"Have a nice day\", \"nice\"))\n",
    "print(highlight_word(\"Shhh, don't be so loud!\", \"loud\"))\n",
    "print(highlight_word(\"Automating with Python is fun\", \"fun\"))"
   ]
  },
  {
   "cell_type": "code",
   "execution_count": 2,
   "id": "765d6e2d-ec24-4edf-a5b5-60101d4b5e05",
   "metadata": {},
   "outputs": [
    {
     "name": "stdout",
     "output_type": "stream",
     "text": [
      "['Mike', 'Carol', 'Greg', 'Marcia', 'Peter', 'Jan', 'Bobby', 'Cindy', 'Alice']\n"
     ]
    }
   ],
   "source": [
    "\"\"\"Question 3.\n",
    "A professor with two assistants, Jamie and Drew, wants an attendance list of the students, in the order that they arrived in the classroom. \n",
    "Drew was the first one to note which students arrived, and then Jamie took over. After the class, they each entered their lists into the computer and emailed them to the professor, \n",
    "who needs to combine them into one, in the order of each student's arrival. Jamie emailed a follow-up, saying that her list is in reverse order. \n",
    "Complete the steps to combine them into one list as follows: \n",
    "the contents of Drew's list, followed by Jamie's list in reverse order, to get an accurate list of the students as they arrived.\"\"\"\n",
    "\n",
    "def combine_lists(list1, list2):\n",
    "    # Generate a new list containing the elements of list2\n",
    "    new_list = list2 + list1[::-1]\n",
    "    return new_list\n",
    "  \n",
    "\t\n",
    "Jamies_list = [\"Alice\", \"Cindy\", \"Bobby\", \"Jan\", \"Peter\"]\n",
    "Drews_list = [\"Mike\", \"Carol\", \"Greg\", \"Marcia\"]\n",
    "\n",
    "print(combine_lists(Jamies_list, Drews_list))"
   ]
  },
  {
   "cell_type": "code",
   "execution_count": 3,
   "id": "2ba96624-5c86-4587-ad76-cfcf65972595",
   "metadata": {},
   "outputs": [
    {
     "name": "stdout",
     "output_type": "stream",
     "text": [
      "[4, 9]\n",
      "[1, 4, 9, 16, 25]\n",
      "[0, 1, 4, 9, 16, 25, 36, 49, 64, 81, 100]\n"
     ]
    }
   ],
   "source": [
    "\"\"\"Question 4.\n",
    "Use a list comprehension to create a list of squared numbers (n*n). \n",
    "The function receives the variables start and end, and returns a list of squares \n",
    "of consecutive numbers between start and end inclusively.\n",
    "For example, squares(2, 3) should return [4, 9].\"\"\"\n",
    "\n",
    "def squares(start, end):\n",
    "    return[value ** 2 for value in range(start, end+1)]\n",
    "\n",
    "print(squares(2, 3)) # Should be [4, 9]\n",
    "print(squares(1, 5)) # Should be [1, 4, 9, 16, 25]\n",
    "print(squares(0, 10)) # Should be [0, 1, 4, 9, 16, 25, 36, 49, 64, 81, 100]"
   ]
  },
  {
   "cell_type": "code",
   "execution_count": 6,
   "id": "d4d0268b-33e7-48d4-92ea-6516d45da7fe",
   "metadata": {},
   "outputs": [
    {
     "name": "stdout",
     "output_type": "stream",
     "text": [
      "Kia Soul costs 19000 dollars\n",
      "Lamborghini Diablo costs 55000 dollars\n",
      "Ford Fiesta costs 13000 dollars\n",
      "Toyota Prius costs 24000 dollars\n",
      "\n"
     ]
    }
   ],
   "source": [
    "\"\"\"Question 5.\n",
    "Complete the code to iterate through the keys and values of the car_prices dictionary, \n",
    "printing out some information about each one.\"\"\"\n",
    "\n",
    "def car_listing(car_prices):\n",
    "    result = \"\"\n",
    "    for car in car_prices:\n",
    "        result += \"{} costs {} dollars\".format(car, car_prices[car]) + \"\\n\"\n",
    "    return result\n",
    "\n",
    "print(car_listing({\"Kia Soul\":19000, \"Lamborghini Diablo\":55000, \"Ford Fiesta\":13000, \"Toyota Prius\":24000}))"
   ]
  },
  {
   "cell_type": "code",
   "execution_count": 7,
   "id": "ebeba62d-a5b3-4107-9d1b-9f5359a64938",
   "metadata": {},
   "outputs": [
    {
     "name": "stdout",
     "output_type": "stream",
     "text": [
      "{'David': 1, 'Nancy': 1, 'Robert': 4, 'Adam': 2, 'Samantha': 3, 'Chris': 5, 'Brenda': 3, 'Jose': 3, 'Charlotte': 2, 'Terry': 1}\n"
     ]
    }
   ],
   "source": [
    "\"\"\"Question 6.\n",
    "Taylor and Rory are hosting a party. They sent out invitations, and each one collected responses into dictionaries, \n",
    "with names of their friends and how many guests each friend is bringing. \n",
    "Each dictionary is a partial list, but Rory's list has more current information about the number of guests. \n",
    "Fill in the blanks to combine both dictionaries into one, with each friend listed only once, \n",
    "and the number of guests from Rory's dictionary taking precedence, if a name is included in both dictionaries. \n",
    "Then print the resulting dictionary.\"\"\"\n",
    "\n",
    "\n",
    "def combine_guests(guests1, guests2):\n",
    "    guests2.update(guests1) # Combine both dictionaries into one, with each key listed\n",
    "    return guests2 # only once, and the value from guests1 taking precedence\n",
    "\n",
    "Rorys_guests = { \"Adam\":2, \"Brenda\":3, \"David\":1, \"Jose\":3, \"Charlotte\":2, \"Terry\":1, \"Robert\":4}\n",
    "Taylors_guests = { \"David\":4, \"Nancy\":1, \"Robert\":2, \"Adam\":1, \"Samantha\":3, \"Chris\":5}\n",
    "\n",
    "print(combine_guests(Rorys_guests, Taylors_guests))\n"
   ]
  },
  {
   "cell_type": "code",
   "execution_count": 8,
   "id": "5ca27a9b-c810-4c95-86ef-bcf0995ea840",
   "metadata": {},
   "outputs": [
    {
     "name": "stdout",
     "output_type": "stream",
     "text": [
      "{'a': 0, 'b': 0, 'c': 0}\n",
      "{'m': 0, 'a': 1, 't': 1, 'h': 1, 'i': 1, 's': 1, 'f': 1, 'u': 1, 'n': 1}\n",
      "{'t': 0, 'h': 1, 'i': 2, 's': 3, 'a': 1, 'e': 3, 'n': 2, 'c': 1}\n"
     ]
    }
   ],
   "source": [
    "\"\"\"Question 7.\n",
    "Use a dictionary to count the frequency of letters in the input string.\n",
    "Only letters should be counted, not blank spaces, numbers, or punctuation.\n",
    "Upper case should be considered the same as lower case. \n",
    "For example, count_letters(\"This is a sentence.\") should return {'t': 2, 'h': 1, 'i': 2, 's': 3, 'a': 1, 'e': 3, 'n': 2, 'c': 1}.\"\"\"\n",
    "\n",
    "def count_letters(text):\n",
    "    result = {}\n",
    "    # Go through each letter in the text\n",
    "    for letter in text:\n",
    "        if letter.isalpha() and letter not in result:\n",
    "            result[letter.lower()] = text.lower().count(letter)\n",
    "    # Check if the letter needs to be counted or not\n",
    "    \n",
    "    return result\n",
    "    \n",
    "print(count_letters(\"AaBbCc\"))\n",
    "# Should be {'a': 2, 'b': 2, 'c': 2}\n",
    "\n",
    "print(count_letters(\"Math is fun! 2+2=4\"))\n",
    "# Should be {'m': 1, 'a': 1, 't': 1, 'h': 1, 'i': 1, 's': 1, 'f': 1, 'u': 1, 'n': 1}\n",
    "\n",
    "print(count_letters(\"This is a sentence.\"))\n",
    "# Should be {'t': 2, 'h': 1, 'i': 2, 's': 3, 'a': 1, 'e': 3, 'n': 2, 'c': 1}"
   ]
  },
  {
   "cell_type": "code",
   "execution_count": 9,
   "id": "4ce75979-3301-4821-adfb-6aedc280bb4c",
   "metadata": {},
   "outputs": [
    {
     "name": "stdout",
     "output_type": "stream",
     "text": [
      "pop\n",
      "t\n",
      "us\n"
     ]
    }
   ],
   "source": [
    "\"\"\"Question 8.\n",
    "What do the following commands return when animal = \"Hippopotamus\"?\"\"\"\n",
    "\n",
    "animal = \"Hippopotamus\"\n",
    "print(animal[3:6])\n",
    "print(animal[-5])\n",
    "print(animal[10:])"
   ]
  },
  {
   "cell_type": "code",
   "execution_count": 11,
   "id": "c808304e-921f-413b-97f4-2ff26f284e94",
   "metadata": {},
   "outputs": [
    {
     "data": {
      "text/plain": [
       "['red', 'white', 'yellow', 'blue']"
      ]
     },
     "execution_count": 11,
     "metadata": {},
     "output_type": "execute_result"
    }
   ],
   "source": [
    "\"\"\"Question 9.\n",
    "What does the list \"colors\" contain after these commands are executed?\"\"\"\n",
    "\n",
    "colors = [\"red\", \"white\", \"blue\"]\n",
    "colors.insert(2, \"yellow\")\n",
    "colors"
   ]
  },
  {
   "cell_type": "code",
   "execution_count": 12,
   "id": "22fe9809-825d-41a6-abd8-55c5eb4e8cff",
   "metadata": {},
   "outputs": [
    {
     "data": {
      "text/plain": [
       "dict_keys(['router', 'localhost', 'google'])"
      ]
     },
     "execution_count": 12,
     "metadata": {},
     "output_type": "execute_result"
    }
   ],
   "source": [
    "\"\"\"Question 10.\n",
    "What do the following commands return?\"\"\"\n",
    "\n",
    "host_addresses = {\"router\": \"192.168.1.1\", \"localhost\": \"127.0.0.1\", \"google\": \"8.8.8.8\"}\n",
    "host_addresses.keys()"
   ]
  },
  {
   "cell_type": "code",
   "execution_count": null,
   "id": "3626e4db-c421-4d8d-b931-ab8911ab6354",
   "metadata": {},
   "outputs": [],
   "source": []
  }
 ],
 "metadata": {
  "kernelspec": {
   "display_name": "Python 3 (ipykernel)",
   "language": "python",
   "name": "python3"
  },
  "language_info": {
   "codemirror_mode": {
    "name": "ipython",
    "version": 3
   },
   "file_extension": ".py",
   "mimetype": "text/x-python",
   "name": "python",
   "nbconvert_exporter": "python",
   "pygments_lexer": "ipython3",
   "version": "3.10.4"
  }
 },
 "nbformat": 4,
 "nbformat_minor": 5
}
